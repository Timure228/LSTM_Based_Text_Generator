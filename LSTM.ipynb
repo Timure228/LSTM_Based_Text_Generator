{
  "cells": [
    {
      "cell_type": "markdown",
      "metadata": {
        "id": "view-in-github",
        "colab_type": "text"
      },
      "source": [
        "<a href=\"https://colab.research.google.com/github/Timure228/LSTM_Based_Text_Generator/blob/main/LSTM.ipynb\" target=\"_parent\"><img src=\"https://colab.research.google.com/assets/colab-badge.svg\" alt=\"Open In Colab\"/></a>"
      ]
    },
    {
      "cell_type": "code",
      "execution_count": null,
      "metadata": {
        "id": "nv0VkpkjjKyv"
      },
      "outputs": [],
      "source": [
        "import torch\n",
        "import torch.nn\n",
        "from torch.nn import RNN, LSTM\n",
        "\n",
        "import tensorflow as tf\n",
        "from tensorflow.keras.preprocessing.sequence import pad_sequences\n",
        "\n",
        "import regex\n",
        "import string\n",
        "\n",
        "import numpy as np"
      ]
    },
    {
      "cell_type": "code",
      "execution_count": null,
      "metadata": {
        "colab": {
          "base_uri": "https://localhost:8080/"
        },
        "id": "Gi9LRPGeHxAv",
        "outputId": "814dbcd5-53a8-4cd2-a2d1-7772c34705b4"
      },
      "outputs": [
        {
          "data": {
            "text/plain": [
              "448"
            ]
          },
          "execution_count": 2,
          "metadata": {},
          "output_type": "execute_result"
        }
      ],
      "source": [
        "FILE = \"space_6.txt\"\n",
        "with open(FILE, \"r\") as f:\n",
        "  lines_amount = f.read().count(\"\\n\") + 1\n",
        "\n",
        "lines_amount"
      ]
    },
    {
      "cell_type": "code",
      "execution_count": null,
      "metadata": {
        "id": "iE4hVCEJ-Pc9"
      },
      "outputs": [],
      "source": [
        "translator = str.maketrans('', '', string.punctuation)"
      ]
    },
    {
      "cell_type": "code",
      "execution_count": null,
      "metadata": {
        "colab": {
          "base_uri": "https://localhost:8080/"
        },
        "id": "Yw2xpXDmFnA6",
        "outputId": "f40c0709-6075-4fcc-bd3f-02aab537039e"
      },
      "outputs": [
        {
          "data": {
            "text/plain": [
              "['archivename spacereferences\\nlastmodified date 930401 143921 \\n    astronomical society of the pacific\\n    1290 24th avenue\\n    san francisco ca 94122\\n\\tmore expensive but better organized slide sets',\n",
              " 'cambridge university press\\n    32 east 57th street\\n    new york ny 10022\\n    crawfordpeters aeronautica\\n    p',\n",
              " 'o',\n",
              " 'box 152528\\n    san diego ca 92115\\n\\tan excellent source of all kinds of space publications',\n",
              " 'they publish\\n\\ta number of catalogs including\\n\\t    aviation and space 19451962\\n\\t    aviation and space 19621990\\n\\t    space and related titles\\n    european southern observatory\\n    information and photographic service\\n    dr r',\n",
              " 'm',\n",
              " 'west\\n    karl scharzschild strasse 2\\n    d8046 garching bei munchen\\n\\tslide sets posters photographs conference proceedings',\n",
              " 'finley holiday film corporation\\n    12607 east philadelphia street\\n    whittier california 90601\\n\\twide selection of apollo shuttle viking and voyager slides at 50\\n\\tcentsslide',\n",
              " 'call for a catalog',\n",
              " 'hansen planetarium utah\\n\\tsaid to hold sales on old slide sets',\n",
              " 'look in sky  telescope\\n\\tfor contact info',\n",
              " 'lunar and planetary institute\\n    3303 nasa road one\\n    houston tx 770584399\\n\\ttechnical geologyoriented slide sets with supporting\\n\\tbooklets',\n",
              " 'john wiley  sons\\n    605 third avenue\\n    new york ny 101580012\\n    sky publishing corporation\\n    po box 9111\\n    belmont ma  021789111\\n\\toffers sky catalogue 2000',\n",
              " '0 on pc floppy with information\\n\\tincluding parallax for 45000 stars',\n",
              " 'roger wheate\\n    geography dept',\n",
              " 'university of calgary alberta\\n    canada t2n 1n4\\n    wheateuncamult',\n",
              " 'bitnet\\n\\toffers a 40slide set called mapping the planets illustrating\\n\\trecent work in planetary cartography comes with a booklet and\\n\\tinformation on getting your own copies of the maps',\n",
              " '50 canadian\\n\\tshipping included',\n",
              " 'superintendent of documents\\n    us government printing office\\n    washington dc 20402\\n    univelt inc',\n",
              " 'p',\n",
              " 'o',\n",
              " 'box 28130\\n    san diego ca',\n",
              " '92128\\n\\tpublishers for the american astronomical society',\n",
              " 'us naval observatory\\n\\t2026531079 usno bulletin board via modem\\n\\t2026531507 general\\n    willmannbell\\n    p',\n",
              " 'o',\n",
              " 'box 35025\\n    richmond virginia 23235 usa\\n    in 1990 the princeton planetary society published the first edition of\\n    space jobs the guide to careers in spacerelated fields',\n",
              " ' the\\n    publication was enormously successful we distributed 2000 copies to\\n    space enthusiasts across the country and even sent a few to people in\\n    great britain australia and ecuador',\n",
              " 'due to the tremendous response to\\n    the first edition pps has published an expanded uptodate second\\n    edition of the guide',\n",
              " 'the 40page publication boasts 69 listings for summer and fulltime job\\n    opportunities as well as graduate school programs',\n",
              " 'the second edition of\\n    space jobs features strategies for entering the space field and\\n    describes positions at consulting and engineering firms nasa and\\n    nonprofit organizations',\n",
              " 'the expanded special section on graduate\\n    schools highlights a myriad of programs ranging from space manufacturing\\n    to space policy',\n",
              " 'additional sections include tips on becoming an\\n    astronaut and listings of nasa space grant fellowships and consortia as\\n    well as nasa centers for the commercial development of space',\n",
              " 'to order send check or money order made payable to princeton planetary\\n    society for 4 per copy plus 1 per copy for shipping and handling\\n    nonus customers send an international money order payable in us\\n    dollars to\\n    princeton planetary society\\n    315 west college\\n    princeton university\\n    princeton nj  08544\\n    sdis ssrt single stage rocket technology project has funded a\\n    suborbital technology demonstrator called dcx that should fly in\\n    mid1993',\n",
              " 'further development towards an operational singlestage to\\n    orbit vehicle called delta clipper is uncertain at present',\n",
              " 'an collection of pictures and files relating to dcx is available by\\n    anonymous ftp or email server in the directory\\n\\tbongo',\n",
              " 'cc',\n",
              " 'utexas',\n",
              " 'edupubdeltaclipper\\n    chris w',\n",
              " 'johnson chrisjemx',\n",
              " 'cc',\n",
              " 'utexas',\n",
              " 'edu maintains the archive',\n",
              " 'official names are decided by committees of the international\\n    astronomical union and are not for sale',\n",
              " 'there are purely commercial\\n    organizations which will for a fee send you pretty certificates and\\n    star maps describing where to find your star',\n",
              " 'these organizations have\\n    absolutely no standing in the astronomical community and the names they\\n    assign are not used by anyone else',\n",
              " 'its also likely that you wont be\\n    able to see your star without binoculars or a telescope',\n",
              " 'see the back\\n    pages of astronomy or other amateur astronomy publications for contact\\n    info one such organization may be found at\\n\\tinternational star registry\\n\\t34523 wilson road\\n\\tingleside il 60041\\n    this is not an endorsement of isr',\n",
              " 'the llnl great exploration a plan for an onthecheap space station\\n    lunar base and mars mission using inflatable space structures excited\\n    a lot of interest on the net and still comes up from time to time',\n",
              " 'some\\n    references cited during net discussion were\\n\\tavation week jan 22 1990 for an article on the overall great\\n\\texploration\\n\\tnasa assessment of the llnl space exploration proposal and llnl\\n\\tresponses by dr',\n",
              " 'lowell wood llnl doc',\n",
              " 'no',\n",
              " 'ss 909',\n",
              " 'their address\\n\\tis po box 808 livermore ca 94550 the nasa authors are unknown',\n",
              " 'briefing slides of a presentation to the nrc last december may be\\n\\tavailable',\n",
              " 'write llnl and ask',\n",
              " 'conceptual design study for modular inflatable space structures a\\n\\tfinal report for purchase order b098747 by ilc dover inc',\n",
              " 'i dont\\n\\tknow how to get this except from llnl or ilc dover',\n",
              " 'i dont have an\\n\\taddress for ilc',\n",
              " 'lunar exploration inc',\n",
              " 'lei is a nonprofit corporation working on a\\n    privately funded lunar polar orbiter',\n",
              " 'lunar prospector is designed to\\n    perform a geochemical survey and search for frozen volatiles at the\\n    poles',\n",
              " 'a set of reference files describing the project is available in\\n\\tames',\n",
              " 'arc',\n",
              " 'nasa',\n",
              " 'govpubspacelei\\n    grant h heiken david t vaniman and bevan m french editors lunar\\n    sourcebook a users guide to the moon cambridge university press\\n    1991 isbn 0521334446 hardcover expensive',\n",
              " 'a onevolume\\n    encyclopedia of essentially everything known about the moon reviewing\\n    current knowledge in considerable depth with copious references',\n",
              " 'heavy\\n    emphasis on geology but a lot more besides including considerable\\n    discussion of past lunar missions and practical issues relevant to\\n    future mission design',\n",
              " 'the reference book for the moon all others are\\n    obsolete',\n",
              " 'wendell mendell ed lunar bases and space activities of the 21st\\n    century 15',\n",
              " 'every serious student of lunar bases must have this\\n    book  bill higgins',\n",
              " 'available from\\n\\tlunar and planetary institute\\n\\t3303 nasa road one\\n\\thouston tx 770584399\\n\\tif you want to order books call 7134862172',\n",
              " 'thomas a',\n",
              " 'mutch geology of the moon a stratigraphic view princeton\\n    university press 1970',\n",
              " 'information about the lunar orbiter missions\\n    including maps of the coverage of the lunar nearside and farside by\\n    various orbiters',\n",
              " 'a list of earth orbiting satellites that are still in orbit is\\n    available by anonymous ftp in\\n\\tames',\n",
              " 'arc',\n",
              " 'nasa',\n",
              " 'govpubspacefaqsatellites\\n    space in miniature 2 gemini by\\n\\tmichael j',\n",
              " 'mackowski\\n\\t1621 waterwood lane st',\n",
              " 'louis mo 63146\\n    only 34pp but enough pictures  diagrams to interest more than just the\\n    modelling community i feel',\n",
              " 'marcos miniatures of dracut mass',\n",
              " 'have produced a 1144 skylab in an\\n    edition of 500  a 148 lunar rover same scale as monogram and revell\\n    lunar modules in a similar edition',\n",
              " 'prices are 45 for skylab 24 for\\n    lrv',\n",
              " 'check with them for postage etc',\n",
              " 'i have no connection with them\\n    but have found their service to be good and their stock of rareold kits\\n    is impressive',\n",
              " 'prices range from reasonable 35 for monogram 132\\n    scale apollo csm with cutaway details to spectacular 145 for airfix\\n    vostok',\n",
              " 'four star collectibles\\n\\t p',\n",
              " 'o',\n",
              " 'box 658\\n\\t dracut mass 01826 usa',\n",
              " 'voyager hst viking lunar rover etc',\n",
              " 'kits from\\n\\tlunar models\\n\\t5120 grisham\\n\\trowlett texas 75088\\n    as reviewed by bob kaplow\\n\\tpeter always book scale model rocketry is now available',\n",
              " 'mine\\n\\tarrived in the mail earlier this week',\n",
              " 'to get your own copy send\\n\\t19',\n",
              " '95  2',\n",
              " '50 sh 22',\n",
              " '45 total to\\n\\t\\t\\tpeter alway\\n\\t\\t\\t2830 pittsfield\\n\\t\\t\\tann arbor mi 48104\\n\\tthe book includes information on collecting scale data construction\\n\\tof scale models and several handy tables',\n",
              " 'appendicies include plans\\n\\tfor 3 sport scale models a 19',\n",
              " '22 d region tomahawk bt50 a 140\\n\\tv2 bt60 and a 19',\n",
              " '16 aerobee 150a bt5560',\n",
              " 'ive only begun to study the book but it certainly will be a\\n\\tvaluable data source for many modellers',\n",
              " 'most vehicles include\\n\\tseveral paragraphs of text describing the missions flown by the\\n\\trocket various specs including nar engine classification along\\n\\twith a dimensioned drawing color layouts  paint pattern and a\\n\\tblack  white photograph',\n",
              " 'the vehicles included are the aerobee 150a aerobee 300 aerobee hi\\n\\tarcas asp astrobee 1500 astrobee d atlas centaur atlasagena\\n\\tatlasscore baby wac dregion tomahawk deacon rockoon delta b\\n\\tdelta e geminititan ii iris javelin juno 1 juno 2 little joe\\n\\t1 little joe 2 mercuryatlas mercuryredstone nikeapache\\n\\tnikeasp nikecajun nikedeacon niketomahawk ram b saturn 1\\n\\tblock 1 saturn 1 block 2 saturn 1b saturn 5 scout standard\\n\\taerobee terrapin thorable titan iii c titan iii e trailblazer\\n\\t1 v2 vanguard viking model 1 viking model 2 and wac corporal',\n",
              " 'george p',\n",
              " 'sutton rocket propulsion elements 5th edn\\n\\twileyinterscience 1986 isbn 0471800279',\n",
              " 'pricey textbook',\n",
              " 'the\\n\\tbest nearly the only modern introduction to the technical side of\\n\\trocketry',\n",
              " 'a good place to start if you want to know the details',\n",
              " 'not\\n\\tfor the mathshy',\n",
              " 'straight chemical rockets essentially nothing on\\n\\tmore advanced propulsion although earlier editions reportedly had\\n\\tsome coverage',\n",
              " 'dieter k',\n",
              " 'huzel and david h',\n",
              " 'huang design of liquid propellant\\n\\trocket engines nasa sp125',\n",
              " 'out of print reproductions may be obtained through the ntis\\n\\texpensive',\n",
              " 'the complete and authoritative guide to designing\\n\\tliquidfuel engines',\n",
              " 'reference 1 in most chapters of sutton',\n",
              " 'heavy\\n\\temphasis on practical issues what works and what doesnt what the\\n\\ttypical values of the fudge factors are',\n",
              " 'stiff reading massive\\n\\tdetail written for rocket engineers by rocket engineers',\n",
              " 'brij n',\n",
              " 'agrawal design of geosynchronous spacecraft\\n\\tprenticehall isbn 0132001144',\n",
              " 'james r',\n",
              " 'wertz ed spacecraft attitude determination and\\n\\tcontrol kluwer isbn 9027712042',\n",
              " 'p',\n",
              " 'r',\n",
              " 'k',\n",
              " 'chetty satellite technology and its applications\\n\\tmcgrawhill isbn 0830696881',\n",
              " 'james r',\n",
              " 'wertz and wiley j',\n",
              " 'larson editors space mission\\n\\tanalysis and design kluwer academic publishers\\n\\tdordrechtbostonlondon 1991 isbn 0792309715 paperback or\\n\\t0792309707 hardback',\n",
              " 'this looks at systemlevel design of a spacecraft rather than\\n\\t    detailed design',\n",
              " '23 chapters 4 appendices about 430 pages',\n",
              " 'it\\n\\t    leads the reader through the mission design and systemlevel\\n\\t    design of a fictitious earthobservation satellite to\\n\\t    illustrate the principles that it tries to convey',\n",
              " 'warning\\n\\t    although the book is chockfull of many useful reference tables\\n\\t    some of the numbers in at least one of those tables launch\\n\\t    costs for various launchers appear to be quite wrong',\n",
              " 'can be\\n\\t    ordered by telephone using a credit card kluwers phone number\\n\\t    is 6178716600',\n",
              " 'cost 34',\n",
              " '50',\n",
              " 'this needs more and more uptodate references but its a start',\n",
              " 'antiproton annihilation propulsion robert forward\\n\\t    afrpl tr85034 from the air force rocket propulsion laboratory\\n\\t    afrplxrx stop 24 edwards air force base ca 935235000',\n",
              " 'pc  paper copy a10  us57',\n",
              " '90  or maybe price code\\n\\t    mf  microfiche a01  us13',\n",
              " '90\\n\\t    technical study on making holding and using antimatter for\\n\\t    nearterm 3050 years propulsion systems',\n",
              " 'excellent\\n\\t    bibliography',\n",
              " 'forward is the bestknown proponent\\n\\t    of antimatter',\n",
              " 'this also may be available as udrtr8555 from the contractor\\n\\t    the university of dayton research institute and dtic ada160\\n\\t    from the defense technical information center defense logistics\\n\\t    agency cameron station alexandria va 223046145',\n",
              " 'and its\\n\\t    also available from the ntis with yet another number',\n",
              " 'advanced space propulsion study antiproton and beamed power\\n\\t    propulsion robert forward\\n\\t    afal tr87070 from the air force astronautics laboratory dtic\\n\\t    summarizes the previous paper goes into detail on beamed power\\n\\t    systems including  1 pellet microwave and laser beamed power\\n\\t    systems for intersteller transport 2 a design for a\\n\\t    nearrelativistic laserpushed lightsail using nearterm laser\\n\\t    technology 3 a survey of laser thermal propulsion tether\\n\\t    transportation systems antiproton annihilation propulsion\\n\\t    exotic applications of solar sails and laserpushed\\n\\t    interstellar lightsails 4 the status of antiproton\\n\\t    annihilation propulsion as of 1986 and 5 the prospects for\\n\\t    obtaining antimatter ions heavier than antiprotons',\n",
              " ' again\\n\\t    there is an extensive bibliography',\n",
              " 'application of antimatter  electric power to interstellar\\n\\t    propulsion g',\n",
              " 'd',\n",
              " 'nordley jbis interstellar studies issue of\\n\\tg',\n",
              " 'l',\n",
              " 'matloff and a',\n",
              " 'j',\n",
              " 'fennelly interstellar applications and\\n\\tlimitations of several electrostaticelectromagnetic ion collection\\n\\ttechniques jbis 30 1977213222\\n\\tn',\n",
              " 'h',\n",
              " 'langston the erosion of interstellar drag screens jbis 26\\n\\tc',\n",
              " 'powell flight dynamics of the ramaugmented interstellar\\n\\trocket jbis 28 1975553562\\n\\ta',\n",
              " 'r',\n",
              " 'martin the effects of drag on relativistic spacefight jbis\\n\\ta laser fusion rocket for interplanetary propulsion roderick hyde\\n\\tllnl report ucrl88857',\n",
              " 'contact the technical information dept',\n",
              " 'at\\n\\tlivermore\\n\\t    fusion pellet design fuel selection',\n",
              " 'energy loss mechanisms',\n",
              " 'pellet compression metrics',\n",
              " 'thrust chamber magnetic nozzle',\n",
              " 'shielding',\n",
              " 'tritium breeding',\n",
              " 'thermal modeling',\n",
              " 'fusion driver\\n\\t    lasers particle beams etc heat rejection',\n",
              " 'vehicle summary\\n\\t    mass estimates',\n",
              " 'vehicle performance interstellar travel\\n\\t    required exhaust velocities at the limit of fusions capability',\n",
              " 'interplanetary missions are limited by powerweight ratio',\n",
              " 'trajectory modeling',\n",
              " 'typical mission profiles',\n",
              " 'references\\n\\t    including the 1978 report in jbis project daedalus and\\n\\t    several on icf and driver technology',\n",
              " 'fusion as electric propulsion robert w',\n",
              " 'bussard journal of\\n\\tpropulsion and power vol',\n",
              " '6 no',\n",
              " '5 sept',\n",
              " 'oct',\n",
              " '1990\\n\\t    fusion rocket engines are analyzed as electric propulsion\\n\\t    systems with propulsion thrustpowerinputpower ratio the\\n\\t    thrustpower gain gt much greater than unity',\n",
              " 'gain values\\n\\t    of conventional solar fission electric propulsion systems are\\n\\t    always quite small e',\n",
              " 'g',\n",
              " ' gt0',\n",
              " '8',\n",
              " 'with these highthrust\\n\\t    interplanetary flight is not possible because system\\n\\t    acceleration at capabilities are always less than the local\\n\\t    gravitational acceleration',\n",
              " 'in contrast gain values 50100\\n\\t    times higher are found for some fusion concepts which offer\\n\\t    highthrust flight capability',\n",
              " 'one performance example shows a\\n\\t    53',\n",
              " '3 day 34',\n",
              " '4 powered 18',\n",
              " '9 coast oneway transit time with\\n\\t    19 payload for a singlestage earthmars vehicle',\n",
              " 'another shows\\n\\t    the potential for high acceleration at0',\n",
              " '55go flight in\\n\\t    earthmoon space',\n",
              " 'the qed engine system direct electric fusionpowered systems for\\n\\taerospace flight propulsion by robert w',\n",
              " 'bussard emc2119003\\n\\tavailable from energymatter conversion corp',\n",
              " ' 9100 a',\n",
              " 'center\\n\\tstreet manassas va 22110',\n",
              " 'this is an introduction to the application of bussards version\\n\\t    of the farnsworthhirsch electrostatic confinement fusion\\n\\t    technology to propulsion',\n",
              " '1500isp5000 sec',\n",
              " 'farnsworthhirsch\\n\\t    demonstrated a 1010 neutron flux with their device back in\\n\\t    1969 but it was dropped when panic ensued over the surprising\\n\\t    stability of the soviet tokamak',\n",
              " 'hirsch responsible for the\\n\\t    panic has recently recanted and is back working on qed',\n",
              " ' jim\\n\\t    bowery\\n\\tplasmaktm star power for energy intensive space applications by\\n\\tpaul m',\n",
              " 'koloc eight ans topical meeting on technology of fusion\\n\\tenergy special issue fusion technology march 1989',\n",
              " 'aneutronic energy fusion with little or negligible neutron\\n\\t    flux requires plasma pressures and stable confinement times\\n\\t    larger than can be delivered by current approaches',\n",
              " 'if plasma\\n\\t    pressures appropriate to burn times on the order of milliseconds\\n\\t    could be achieved in aneutronic fuels then high power densities\\n\\t    and very compact realtively clean burning engines for space and\\n\\t    other special applications would be at hand',\n",
              " 'the plasmaktm\\n\\t    innovation will make this possible its unique pressure\\n\\t    efficient structure exceptional stability fluidmechanically\\n\\t    compressible mantle and direct inductive mhd electric power\\n\\t    conversion advantages are described',\n",
              " 'peak burn densities of tens\\n\\t    of megawats per cc give it compactness even in the\\n\\t    multigigawatt electric output size',\n",
              " 'engineering advantages\\n\\t    indicate a rapid development schedule at very modest cost',\n",
              " 'i\\n\\t    strongly recommend that people take this guy seriously',\n",
              " 'bob\\n\\t    hirsch the primary proponent of the tokamak has recently\\n\\t    declared kolocs plasmaktm precursor the spheromak to be one\\n\\t    of 3 promising fusion technologies that should be pursued rather\\n\\t    than tokamak',\n",
              " 'aside from the preceeding appeal to authority the\\n\\t    plasmaktm looks like it finally models balllightning with solid\\n\\t    mhd physics',\n",
              " ' jim bowery\\n\\tretrieve files pubspacespacelink6',\n",
              " '5',\n",
              " '2',\n",
              " ' from the ames space\\n\\tarchive these deal with many aspects of ion drives and describe the\\n\\tsert i and ii missions which flighttested cesium ion thrusters in\\n\\tthe 1960s and 70s',\n",
              " 'there are numerous references',\n",
              " 'ieee transactions on magnetics for example v',\n",
              " '27 no',\n",
              " '1 january\\n\\t1991 issue',\n",
              " 'every so often they publish the proceedings of the\\n\\tsymposium on electromagnetic launcher technology including hundreds\\n\\tof papers on the subject',\n",
              " 'its a good look at the state of the art\\n\\tthough perhaps not a good tutorial for beginners',\n",
              " 'anybody know some\\n\\tgood review papers\\n\\ttechnical notes on nuclear rockets by bruce w',\n",
              " 'knight and donald\\n\\tkingsbury unpublished',\n",
              " 'may be available from donald kingsbury\\n\\tmath dept',\n",
              " ' mcgill university po box 6070 station a montreal\\n\\tquebec m3c 3g1 canada',\n",
              " 'starsailing',\n",
              " 'solar sails and interstellar travel',\n",
              " 'louis friedman\\n\\twiley new york 1988 146 pp',\n",
              " ' paper 9',\n",
              " '95',\n",
              " 'not very technical\\n\\tbut an adequate overview',\n",
              " '\\n\\troundtrip interstellar travel using laserpushed lightsails\\n\\tjournal of spacecraft and rockets vol',\n",
              " '21 pp',\n",
              " '18795 jan',\n",
              " 'feb',\n",
              " 'tethers and asteroids for artificial gravity assist in the solar\\n\\tsystem by p',\n",
              " 'a',\n",
              " 'penzo and h',\n",
              " 'l',\n",
              " 'mayer',\n",
              " ' journal of spacecraft\\n\\tand rockets for janfeb 1986',\n",
              " 'details how a spacecraft with a kevlar tether of the same mass\\n\\t    can change its velocity by up to slightly less than 1 kmsec',\n",
              " 'if\\n\\t    it is travelling under that velocity wrt a suitable asteroid',\n",
              " 'alternate propulsion energy sources robert forward\\n\\t    ntis adb088 7711\\t  pc a07mf a01   dec 83 138p\\n\\t    keywords propulsion energy metastable helium freeradical\\n\\t    hydrogen solar pumped sic plasmas antiproton annihiliation\\n\\t    ionospheric lasers solar sails perforated sails microwave\\n\\t    sails quantum fluctuations antimatter rockets',\n",
              " 'its a wide\\n\\t    if not deep look at exotic energy sources which might be useful\\n\\t    for space propulsion',\n",
              " 'it also considers various kinds of laser\\n\\t    propulsion metallic hydrogen tethers and unconventional\\n\\t    nuclear propulsion',\n",
              " 'the bibliographic information pointing to\\n\\t    the research on all this stuff belongs on every daydreamers\\n\\t    shelf',\n",
              " 'future magic',\n",
              " 'dr',\n",
              " 'robert l',\n",
              " 'forward avon 1988',\n",
              " 'isbn 0380898144',\n",
              " 'nontechnical discussion of tethers antimatter gravity control\\n\\t    and even futherout topics',\n",
              " 'deep black by william burrows\\n\\tbest modern general book for spysats',\n",
              " '\\n    1 a base for debate the us satellite station at nurrungar des ball\\n    allen and unwin australia 1987 isbn 0 04 355027 4  covers dsp early\\n    warning satellites\\n    2 pine gap australia and the us geostationary signals intelligence\\n    satellite program des ball allen and unwin australia 1988 isbn 0 04\\n    363002 5',\n",
              " 'covers rhyoliteaquacade chaletvortex and magnum signals\\n    intelligence satellites\\n    3 guardians strategic reconnaissance satellites curtis peebles 1987\\n    ian allan isbn 0 7110 17654  good on mol military salyut and soviet\\n    satellites less so on others',\n",
              " 'tends to believe what hes told so flaws\\n    in discussion of dsp rhyolite et al',\n",
              " '\\n    4 americas secret eyes in space the keyhole spy satellite program\\n    jeffrey richelson 1990 harper and row isbn 0 88730 285 8  in a class\\n    of its own the historical reference on the keyhole satellites\\n    5 secret sentries in space philip j klass 1971',\n",
              " 'long out of print but well worth a look\\n    j communications of the acm\\n    d september 1984\\n    k special issue on space shuttle computers\\n    a myron kayton\\n    t avionics for manned spacecraft\\n    j ieee transactions on aerospace and electronic systems\\n    d november 1989\\n    other various aiaa and ieee publications',\n",
              " 'computers in spaceflight the nasa experience\\n    james e',\n",
              " 'tomayko\\n    a d',\n",
              " 'k',\n",
              " 'cullers\\n    a ivan r',\n",
              " 'linscott\\n    a bernard m',\n",
              " 'oliver\\n    t signal processing in seti\\n    j communications of the acm\\n    d november 1984\\n    k cr categories and subject descriptors d',\n",
              " '4',\n",
              " '1 operating systems\\n    process management  concurrency i',\n",
              " '5',\n",
              " '4 pattern recognition\\n    applications  signal processing j',\n",
              " '2 phsyical sciences and engineering\\n    astronomy\\n    general terms design\\n    additional key words and phrases digital fourier transforms\\n    finite impulseresponse filters interstellar communications\\n    search for extraterrestrial intelligence signal detection\\n    spectrum analysis\\n    a fairly long writeup on receiving and interpreting weather satellite\\n    photos is available from the ames space archive in\\n    pubspacefaqweatherphotos',\n",
              " 'the american radio relay league publication service offers the following\\n    references also see the section on amsat in the space groups segment of\\n    the faq\\n\\tarrl satellite experimenters handbook\\t\\t3185 20\\n\\tarrl weather satellite handbook\\t\\t3193 20\\n\\tibmpc software for weather satellite handbook 3290 10\\n\\tamsat na 5th space symposium\\t\\t\\t0739 12\\n\\tamsat na 6th space symposium\\t\\t\\t2219 12\\n\\tshipping is extra',\n",
              " 'the american radio relay league\\n    publications department\\n    225 main street\\n    newington ct 06111\\n    srinivas bettadpur contributed a writeup on tides available from the\\n    ames space archive in pubspacefaqtides',\n",
              " 'it covers the following\\n    areas\\n\\t 2d example of tidal deformation\\n\\t treatment of tidal fields in practice\\n\\t long term evolution of the earthmoon system under tides\\n    the writeup refers to the following texts\\n\\tgeophysical geodesy by k',\n",
              " 'lambeck\\n\\ttides of the planet earth by p',\n",
              " 'melchior\\nnext faq 615  constants and equations for calculations']"
            ]
          },
          "execution_count": 4,
          "metadata": {},
          "output_type": "execute_result"
        }
      ],
      "source": [
        "with open(FILE, \"r\") as f:\n",
        "  sentences = f.read().split(\".\")\n",
        "  sentences = [i.strip().translate(translator).lower() for i in sentences]\n",
        "  sentences = [i for i in sentences if i !='']\n",
        "\n",
        "sentences"
      ]
    },
    {
      "cell_type": "code",
      "execution_count": null,
      "metadata": {
        "colab": {
          "base_uri": "https://localhost:8080/"
        },
        "id": "L6Sj_bD4mtuM",
        "outputId": "0e733363-831b-47e7-8600-5ef4bed99a17"
      },
      "outputs": [
        {
          "data": {
            "text/plain": [
              "(218, 55)"
            ]
          },
          "execution_count": 5,
          "metadata": {},
          "output_type": "execute_result"
        }
      ],
      "source": [
        "# Separate the data\n",
        "length = len(sentences)\n",
        "train_text = sentences[:int(length*0.8)]\n",
        "test_text = sentences[int(length*0.8):]\n",
        "\n",
        "len(train_text), len(test_text)"
      ]
    },
    {
      "cell_type": "code",
      "execution_count": null,
      "metadata": {
        "colab": {
          "base_uri": "https://localhost:8080/"
        },
        "id": "9ULztpcxPBzL",
        "outputId": "0c760a58-f8d9-45d2-bdad-2f3faccdbc8a"
      },
      "outputs": [
        {
          "data": {
            "text/plain": [
              "['getting',\n",
              " '148',\n",
              " 'even',\n",
              " 'surprising',\n",
              " '132',\n",
              " 'asp',\n",
              " 'volatiles',\n",
              " 'textbook',\n",
              " 'hansen',\n",
              " 'munchen']"
            ]
          },
          "execution_count": 6,
          "metadata": {},
          "output_type": "execute_result"
        }
      ],
      "source": [
        "joined_text = \"\".join(sentences)\n",
        "\n",
        "# Unique characters\n",
        "characters = sorted(list(set(joined_text)))\n",
        "\n",
        "# Tokenize\n",
        "tokens = []\n",
        "for i in sentences:\n",
        "  for j in i.split():\n",
        "    tokens.append(j)\n",
        "\n",
        "tokens = list(set(tokens))\n",
        "vocab_size = len(tokens)\n",
        "tokens[:10]"
      ]
    },
    {
      "cell_type": "code",
      "execution_count": 65,
      "metadata": {
        "collapsed": true,
        "id": "VUFMlZb62Fx8"
      },
      "outputs": [],
      "source": [
        "indx_to_token = {indx: token for indx, token in enumerate(tokens)}\n",
        "token_to_indx = {token: indx for indx, token in enumerate(tokens)}"
      ]
    },
    {
      "cell_type": "code",
      "execution_count": null,
      "metadata": {
        "colab": {
          "base_uri": "https://localhost:8080/"
        },
        "id": "5RWKrKsPKKum",
        "outputId": "51dc9309-4c9a-4bd1-be3c-c77850aa4f26"
      },
      "outputs": [
        {
          "name": "stdout",
          "output_type": "stream",
          "text": [
            "[[111, 384, 1153, 816, 135, 1287, 1328, 630, 1078, 69, 501, 741, 1006, 1092, 1150, 1158, 793, 106, 1502, 510, 412, 682, 338, 1407, 985], [333, 764, 483, 635, 697, 86, 863, 276, 937, 721, 351, 643, 166, 1193], [216], [448, 705, 1150, 156, 793, 446, 177, 712, 279, 1078, 1392, 1294, 1078, 738, 147], [480, 1152, 506, 693, 1078, 981, 181, 418, 680, 738, 1147, 418, 680, 738, 692, 738, 680, 38, 939, 727, 132, 1498, 322, 680, 537, 119, 1130, 145], [1308], [395, 1478, 1320, 464, 927, 832, 194, 962, 9, 1407, 985, 959, 733, 473, 1211], [1355, 1344, 687, 1030, 495, 697, 357, 863, 689, 52, 1120, 846, 1489, 1078, 190, 1424, 607, 680, 575, 332, 1274, 610, 1123], [573, 1093, 506, 323], [8, 470, 354, 1413, 989, 241, 508, 1299, 278, 1407, 985], [588, 1020, 1066, 334, 1093, 663, 29], [672, 680, 491, 1107, 990, 35, 1148, 66, 768, 10, 188, 810, 1081, 1407, 985, 668, 183, 1375], [1164, 170, 634, 813, 660, 1092, 276, 937, 721, 246, 1066, 513, 1030, 930, 448, 850, 1216, 871, 339, 536, 1066, 1292, 224], [1309, 1299, 1065, 1333, 668, 322, 181, 131, 1093, 326, 232], [1023, 728, 315, 80], [764, 1078, 1242, 1359, 1357, 87, 206, 1047], [455, 536, 506, 521, 765, 524, 1365, 69, 482, 1510, 238, 409, 1020, 491, 917, 882, 668, 506, 1106, 680, 322, 1299, 0, 993, 1276, 617, 1078, 69, 445], [610, 1474, 582, 1064], [76, 1078, 53, 1118, 1056, 754, 205, 566, 1416, 1477, 169, 970], [1193], [216], [448, 408, 1150, 156, 793], [605, 257, 1093, 69, 628, 1328, 630], [1118, 883, 1498, 602, 1366, 164, 546, 585, 1468, 128, 225, 694, 1193], [216], [448, 589, 822, 806, 117, 1341, 1020, 869, 69, 1044, 491, 630, 854, 69, 1084, 437, 1078, 738, 148, 69, 1494, 989, 1050, 1020, 46, 1397], [69, 558, 1135, 193, 99, 26, 938, 224, 617, 989, 738, 481, 1376, 69, 201, 680, 2, 1155, 506, 292, 989, 1325, 1020, 167, 684, 1420, 680, 348], [561, 989, 69, 113, 1311, 989, 69, 1084, 437, 255, 709, 854, 177, 41, 349, 294, 437, 1078, 69, 1494], [69, 601, 558, 401, 1160, 1473, 1093, 277, 680, 787, 1005, 141, 1500, 1202, 1500, 1441, 425, 1033], [69, 294, 437, 1078, 738, 148, 955, 102, 1093, 654, 69, 738, 1401, 680, 1264, 1038, 1274, 1270, 680, 77, 707, 35, 680, 204, 1199], [69, 41, 356, 578, 1299, 1441, 772, 340, 506, 313, 1078, 1033, 1471, 447, 738, 992, 989, 738, 1154], [786, 952, 743, 259, 1299, 885, 177, 1145, 680, 1473, 1078, 35, 738, 829, 217, 680, 136, 1500, 1202, 1500, 35, 373, 1093, 69, 1231, 1335, 1078, 738], [989, 1026, 165, 407, 227, 1444, 1026, 614, 1269, 989, 1044, 491, 630, 1093, 475, 304, 1258, 856, 275, 304, 1258, 1093, 582, 680, 735, 209, 514, 165, 177, 184, 1444, 1026, 1269, 1020, 1118, 1194, 989, 1044, 491, 630, 247, 395, 1077, 1044, 764, 1044, 385, 1176, 892, 864, 1060, 243, 316, 995, 100, 709, 629, 506, 62, 995, 293, 524, 731, 1149, 632, 625, 1020, 1426], [1019, 1335, 750, 177, 978, 110, 989, 675, 726, 524, 369, 360, 1144, 451, 1274, 622], [177, 598, 1078, 1278, 680, 1252, 1463, 989, 731, 1144, 543, 616, 14, 593, 227, 777, 565, 1020, 69, 1422, 1245], [1336], [568], [1227, 1058, 161], [306, 661], [1336], [568], [644, 1083, 69, 57], [1419, 68, 386, 112, 616, 1504, 1078, 69, 184, 1328, 1460, 680, 386, 103, 1093, 1037], [474, 386, 1073, 1231, 1199, 964, 535, 1093, 506, 560, 165, 16, 1349, 1146, 680, 151, 445, 258, 988, 989, 1224, 993, 151], [1436, 1199, 1450, 552, 1314, 789, 1020, 69, 1328, 1439, 680, 69, 68, 480, 47, 386, 103, 1182, 616, 1490, 581], [1233, 185, 1217, 1149, 16, 374, 649, 862, 989, 331, 993, 151, 1437, 476, 227, 506, 334], [331, 69, 114, 571, 1078, 1410, 227, 1021, 802, 1410, 147, 1093, 663, 29, 66, 1312, 946, 1236, 649, 34, 1274, 184, 151, 701, 411, 745, 1148, 1499, 957, 586, 1321, 1144, 103, 177, 1334, 1078, 1300], [69, 500, 167, 199, 506, 236, 1093, 177, 867, 738, 757, 672, 150, 680, 92, 1032, 1028, 1438, 738, 1503, 1371, 506, 1101, 1078, 235, 1299, 69, 353, 680, 771, 882, 1197, 447, 1090, 989, 1090], [606, 23, 253, 1115, 353, 406, 599, 1364, 1268, 767, 134, 869, 1093, 177, 773, 1299, 69, 1105, 167, 199, 35, 1162, 1078, 69, 500, 738, 199, 319, 680, 500, 1434, 616, 1130], [1412, 1310, 500, 96], [1314], [775, 1054], [1045, 866, 1144, 930, 448, 1360, 1048, 793, 1378, 69, 35, 509, 386, 686], [1433, 332, 1078, 506, 1455, 989, 69, 1016, 423, 876, 1236, 649, 543], [794, 500, 680, 213], [518, 254, 430, 1093, 953, 1438, 738, 1503, 506, 1317, 674, 1093, 1462, 1026, 268, 616, 652, 1304, 970], [577, 1220, 264, 747, 989, 468, 1321, 695, 447, 500, 227, 652, 1304], [577, 1220, 1450, 177, 866, 1093, 652], [672, 199, 970], [921, 1144, 506, 204, 1030, 1404, 1299, 506, 608, 629, 672, 370, 570], [672, 522, 1144, 452, 989, 1267, 506, 499, 613, 680, 944, 1093, 1289, 6, 1274, 69, 415], [506, 765, 1078, 1302, 1252, 258, 69, 100, 1144, 543, 1020, 192], [1206], [35], [1457, 829, 465, 1024, 910, 477, 382, 680, 913, 1308, 1212, 419, 672, 223, 506, 1493, 1494, 989, 69, 133, 333, 764, 483, 788, 590, 12, 760, 510], [506, 519, 121, 1078, 364, 282, 851, 545, 69, 133, 1261, 237, 249, 1020, 287, 563, 668, 1104, 23], [1015, 60, 1299, 367, 412, 506, 1101, 1502, 1303, 181, 287, 406, 1078, 422, 672, 162, 680, 1388, 933, 1415, 989, 180, 1032, 254], [69, 1302, 1035, 1093, 69, 133, 1392, 394, 386, 1221], [1384, 1243, 391, 672, 1284, 680, 738, 1178, 1078, 69, 67, 849, 645], [1215, 1257, 198, 1078, 672, 1284, 1109, 1450, 1321, 1035, 928, 1039], [543, 447, 672, 680, 491, 1107, 990, 35, 1148, 66, 768, 10, 188, 1254, 16, 922, 989, 1026, 1061, 573, 714], [1481, 506], [531, 367, 1078, 69, 133, 506, 926, 600, 1044, 764, 483, 725], [322, 545, 69, 672, 570, 162, 181, 445, 1078, 69, 587, 1078, 69, 672, 884, 680, 325, 616, 1398, 1046], [506, 75, 1078, 362, 656, 1306, 1149, 386, 771, 1020, 675, 1144, 543, 616, 14, 593, 1020, 192], [1206], [35], [698, 738, 1020, 50, 927, 1495, 616, 999, 377], [1362, 329, 73, 1191, 719], [1234, 1003, 472, 138, 640, 412, 702, 1278, 1132, 989, 235, 1502, 667, 263, 69, 303, 1439, 577, 840], [1266, 1265, 1078, 461, 173], [1450, 421, 506, 554, 74, 1020, 177, 437, 1078, 1296, 506, 1, 672, 1195, 858, 58, 1500, 398, 680, 739, 672, 383, 1020, 506, 1111, 437], [942, 386, 1483, 1093, 74, 956, 1093, 410], [407, 668, 715, 1093, 219, 1282], [577, 1450, 1314, 548, 668, 715, 412, 1450, 34, 1045, 119, 989, 649, 312, 680, 1045, 528, 1078, 1290, 171, 1144, 685], [942, 1112, 447, 1189, 801, 1093, 398, 4, 58, 190, 559, 668, 699, 346, 989, 27, 1040, 1093, 542, 438], [302, 151, 432, 1193], [216], [448, 655, 461, 173, 158, 1341], [575, 658, 607, 672, 1195, 1282], [171, 447, 672, 1393, 378, 1442, 1342, 36, 534, 1500, 311, 616, 436, 836, 1259, 94, 1035, 58, 1458, 950, 1144, 1072, 543], [440, 222, 1020, 69, 431, 983, 1321, 1268], [989, 468, 993, 1276, 1258, 165, 1013], [965, 927], [610, 456, 134], [1483, 1156, 989, 1259, 1399, 889, 737, 182, 434, 1469, 666, 69, 1035, 307, 322, 1299, 1222, 58, 1082, 1454, 1078, 58, 1393, 680, 296, 1255, 769], [826, 743, 1007, 1093, 934, 843, 58, 1393, 506, 1013], [134, 815, 105, 742, 665, 506, 807, 250, 375, 680, 506, 1013], [298, 804, 498, 557], [399, 138, 372, 989, 430, 69, 1035, 412, 1280, 63, 535, 649, 506, 285, 1082, 279, 1093, 512, 1368], [749, 525, 743, 296, 1188, 1078, 1389, 258, 69, 162, 1286, 616, 69, 316, 1398, 83, 181, 196, 796, 961, 502, 668, 506, 310, 191, 48, 1201, 137, 365, 680, 506, 823, 1068, 1506], [69, 525, 1064, 386, 69, 804, 498, 804, 1277, 804, 1208, 1417, 5, 782, 1230, 782, 815, 200, 853, 126, 212, 759, 1459, 1165, 742, 835, 912, 369, 873, 369, 397, 159, 677, 517, 1262, 1327, 275, 1327, 927, 1427, 1361, 275, 1427, 1361, 927, 439, 969, 49, 1387, 1505, 414, 848, 1338, 873, 784, 275, 55, 275, 784, 275, 55, 927, 784, 265, 784, 1001, 321, 1143, 804, 1408, 753, 1102, 688, 746, 1102, 688, 397, 642, 275, 250, 324, 607, 1458, 275, 607, 1458, 927, 680, 1459, 317], [811, 1193], [941, 316, 529, 526, 427, 337, 88, 1350, 590, 1171], [1071, 7], [69, 844, 591, 69, 138, 1017, 1069, 989, 69, 810, 1429, 1078, 950], [506, 312, 1138, 989, 413, 1254, 16, 922, 989, 264, 69, 346], [103, 1093, 69, 900], [924, 929, 1240, 364, 839, 1299, 1502, 248, 529, 1326, 983, 830, 1400, 1075, 606, 587], [352, 1374], [1246, 680, 910, 465], [125, 254, 1078, 176, 935, 316, 940, 35, 390], [1285, 1078, 841, 115, 1236, 649, 1487, 1218, 69, 549, 510], [69, 620, 680, 233, 1494, 989, 1331, 1501, 940], [1302, 275, 1020, 749, 460, 1078, 941], [1015, 60, 1299, 1388, 933, 821, 490, 680, 821, 530, 821, 69, 657, 637, 1078, 69, 1395, 454, 386], [690, 716, 1097, 785, 297, 1093, 316, 886, 616, 316, 886], [1352, 824], [972, 254, 1078, 795, 328, 108, 590, 1022], [899, 145], [671, 391, 328, 1453, 987, 680, 230, 1470, 590, 1248], [1193], [145], [1374], [155, 1137, 995, 680, 1233, 868, 215, 590, 1027], [899, 145], [671, 680, 170, 377], [342, 419, 738, 1032, 281, 680, 254, 1470, 567, 257, 1307, 788, 590, 1139, 881, 227, 890, 681], [1321, 1059, 1274, 89, 254, 1078, 506, 328, 572, 667, 274, 254], [1377, 460, 475, 286, 545, 761, 571], [1280, 420, 69, 93, 1218, 69, 1032, 254, 680, 89, 254, 1078, 506, 1390, 220, 1137, 989, 140, 69, 240, 1149, 1280, 1440, 989, 273], [154, 1326, 69, 1035, 1144, 894, 1078, 512, 907, 1302, 769, 606, 1078, 69, 1012, 1020, 1274, 234, 66, 1078, 379, 769, 441, 392, 1093, 1398, 309, 1192, 989, 649, 723, 186], [31, 649, 444, 616, 1173, 1028, 506, 24, 982, 1067, 756, 693, 1144, 142], [231, 736], [610], [1321, 402, 1502, 680, 1502, 349, 23, 412, 1233, 506, 413], [1319, 1196, 529, 54, 603, 202, 1244, 447, 69, 986, 722, 316, 529, 1232, 948, 84, 956, 347, 986, 722, 150, 793, 1095], [1065, 533, 1258, 648, 1103], [64, 227, 662, 770, 1480, 860, 1507, 905, 903], [64, 810, 430, 1299, 1167, 1421, 680, 1028, 1370, 1093, 244, 1447, 619, 529, 710], [712, 1169], [603, 1144, 69, 78, 1161, 1078, 1370], [1321, 185, 1236, 649, 543, 1500, 891, 447, 69, 1133, 69, 764, 1078, 17, 1053, 1107, 680, 820, 1492, 447, 69, 1179, 810, 322, 1369, 1179, 945, 179, 1394, 757, 1256, 1117, 1446], [680, 1233, 185, 543, 447, 69, 549, 668, 1029, 623, 693], [248, 738, 529, 430, 1319, 680, 71, 1163, 529, 54, 603, 197, 467, 447, 69, 986, 722, 1466, 1232, 820, 1122, 69, 758, 533, 42, 604, 785, 1299, 71, 1163, 710, 181, 275, 744, 1151, 680, 350, 71, 1163, 710, 1093, 267, 997, 927, 506, 254, 1093, 506, 1168, 678, 974, 1028, 244, 350, 995, 934, 506, 613, 1078, 350, 44, 529, 404, 288, 710, 1319, 1196, 529, 1347, 868, 1078, 272, 717, 680, 678, 1465, 22, 475, 69, 1423, 1078, 1319, 1196, 529, 1500, 1078, 1350, 680, 1001, 69, 1479, 1093, 1279, 1370, 1086, 1136, 667, 1323], [1406, 474, 1144, 177, 1049, 1169], [597, 1078, 1370, 149, 1163, 989, 1465, 529, 833], [815], [800, 1340, 1465, 368, 696, 1078, 833], [1488], [32, 680, 506], [377], [1322, 1465, 868, 680, 1041, 1078, 296, 330, 979, 598, 1080, 1340, 504, 172, 824], [465], [1011, 69, 127, 1078, 1465, 916, 1004, 1340, 245, 746], [123, 1170, 809, 1078, 69, 1125, 1465, 316, 1340, 280, 72, 506], [145], [609, 69, 314, 1078, 916, 1299, 1346, 175, 1340, 506, 350, 615, 316, 1093, 1241, 529, 711, 139, 500, 674, 1405], [663, 69, 810, 322, 80], [1274, 1048, 615, 744, 254, 1472, 1489], [1414, 387, 975], [744, 923, 118], [283, 878, 251, 778], [751], [1445, 902], [44, 1159], [615, 1203, 755, 371, 977, 1282, 1063, 479], [726, 95, 173, 925], [726, 963, 1465, 380, 703, 825, 426, 1274, 69, 669, 1078, 1337, 855], [1241, 162, 386, 1166, 616, 424, 1141], [774, 1159], [657, 1032, 594], [23, 181, 69, 260, 674, 1020, 1340, 100, 1358, 680, 296, 1299, 507, 680, 1203, 995], [615, 1500, 149, 529, 54, 161], [20, 1411, 1078, 529, 680, 1163, 872], [471, 1314], [1001, 544], [466], [869, 615, 316, 940, 386, 1183, 1500, 149, 529, 710, 668, 529, 345, 1141, 69, 1204, 748, 85, 1295, 187, 667, 888], [748, 637, 1078, 1099, 272, 1509, 149, 529, 710, 386, 94, 723, 1070, 397], [833], [214], [1353], [668, 1436, 1373, 1241, 1170, 1144, 103, 459, 1354, 210, 1177, 1274, 740, 386, 94, 1486, 667, 69, 376, 494, 1177], [1020, 1018, 748, 637, 1293, 580, 1214, 386, 34, 1093, 606, 615, 299, 964, 405, 1373, 1170, 855], [66, 963, 831, 1002, 506, 488], [934, 1079, 736], [475, 1467, 1187], [122, 734, 207, 1009, 1090, 668, 1013, 966, 1093, 506, 110, 453, 726], [623, 1002, 69, 532, 1093, 947, 1177, 485], [1288, 1170, 1020, 1184, 738], [69, 1250, 796, 210, 61, 149, 659, 710, 1093, 1198, 1170, 529, 616, 54, 161], [20, 116, 543, 447, 932, 650, 1100], [763, 506], [1369, 863, 1313, 1117, 1134], [1321, 1144, 177, 1069, 989, 69, 597, 1078, 781, 290, 1078, 69, 336, 595, 261, 615, 995, 989, 529], [291, 1343], [336, 898, 506, 1409, 861, 579, 668, 1045, 1418, 114, 1020, 943, 412, 1280, 1135, 1318, 954, 541, 936, 527, 69, 3, 1461, 1078, 69, 189, 1356], [1043, 837, 1093, 69, 541, 709, 1087, 1428, 680, 1144, 114, 1404, 1299, 1250], [262, 951, 670, 151, 1163, 1093, 1414, 174, 738, 868, 616, 56, 1308], [676, 458, 1127, 1363, 732, 1299, 995, 1078, 615, 1414, 356, 696, 615, 995, 1238, 1443], [1435, 1414, 615, 668, 1427, 227, 633, 861, 579, 266, 45, 221, 680, 1091, 261, 580, 998, 667, 31, 649, 1456, 616, 237, 1008], [1254, 45, 221, 877, 989, 1315, 580, 1299, 69, 1026, 1078, 1131, 416, 649, 1247, 1020, 1435, 1496, 834, 947, 1163, 320, 680, 931, 790, 130, 1121, 1351, 940, 1093, 738, 680, 1021, 356, 868, 1260, 649, 1274, 845], [69, 670, 1485, 535, 1180, 1321, 459, 1233, 343, 1055, 1512, 1200, 1396, 1461, 996, 538, 403, 680, 61, 797, 478, 149, 1163, 650, 971, 386, 341], [1110, 1315, 320, 1078, 59, 1078, 1345, 304, 1336, 1225, 1280, 1025, 2, 1020, 69, 157, 149, 1511, 469], [77, 971, 463, 506, 827, 1335, 37, 1274, 931, 229, 231], [577, 1316, 1403, 1149, 1325, 812, 1321, 449, 1508], [436, 1043, 69, 994, 1161, 1078, 69, 1356, 709, 1087, 958, 1098, 670, 909, 69, 919, 989, 649, 66, 1078, 934, 859, 615, 592, 1149, 632, 649, 791, 572, 667, 1356], [729, 447, 69, 450, 638, 989, 838, 69, 670, 1059, 1114, 1280, 1185, 1393, 39, 668, 40, 478, 442], [262, 951, 91, 1252, 1380], [1001], [927], [447, 69, 192, 738, 57, 1436, 1305, 668, 512, 1251, 1078, 979, 1273, 680, 540, 69, 646, 577, 680, 677, 162, 964, 1181, 679, 979, 143, 1020, 69, 1051, 680, 256], [474, 386, 1036, 23], [163, 396, 1299, 124, 1093, 831, 1402], [98, 1314], [275, 700, 788, 696], [1215, 766, 389, 480, 1152, 69, 1211, 1078, 69, 1431, 1299, 799, 624, 995, 181, 101, 1078, 178, 1299, 69, 511]]"
          ]
        }
      ],
      "source": [
        "# Create encode function\n",
        "def encode(arr: list, token_to_indx=token_to_indx):\n",
        "  encoded_sentences = []\n",
        "  for j in range(len(arr)):\n",
        "    encoded_sentences.append([token_to_indx[i] for i in arr[j].split()])\n",
        "  return encoded_sentences\n",
        "\n",
        "train_encoded_sentences = encode(train_text, token_to_indx)\n",
        "test_encoded_sentences = encode(test_text, token_to_indx)\n",
        "print(train_encoded_sentences, end='')"
      ]
    },
    {
      "cell_type": "code",
      "execution_count": null,
      "metadata": {
        "colab": {
          "base_uri": "https://localhost:8080/"
        },
        "id": "EO2Uc-wBcAxg",
        "outputId": "05f8417f-cb87-478e-9169-c240fd568a09"
      },
      "outputs": [
        {
          "data": {
            "text/plain": [
              "[[1233],\n",
              " [1233, 506],\n",
              " [1233, 506, 312],\n",
              " [1233, 506, 312, 588],\n",
              " [1233, 506, 312, 588, 1274],\n",
              " [1233, 506, 312, 588, 1274, 69],\n",
              " [1233, 506, 312, 588, 1274, 69, 1074],\n",
              " [1233, 506, 312, 588, 1274, 69, 1074, 1078],\n",
              " [1233, 506, 312, 588, 1274, 69, 1074, 1078, 69],\n",
              " [1233, 506, 312, 588, 1274, 69, 1074, 1078, 69, 515],\n",
              " [1233, 506, 312, 588, 1274, 69, 1074, 1078, 69, 515, 1229],\n",
              " [1233, 506, 312, 588, 1274, 69, 1074, 1078, 69, 515, 1229, 1210],\n",
              " [1233, 506, 312, 588, 1274, 69, 1074, 1078, 69, 515, 1229, 1210, 103],\n",
              " [1233, 506, 312, 588, 1274, 69, 1074, 1078, 69, 515, 1229, 1210, 103, 506],\n",
              " [1233,\n",
              "  506,\n",
              "  312,\n",
              "  588,\n",
              "  1274,\n",
              "  69,\n",
              "  1074,\n",
              "  1078,\n",
              "  69,\n",
              "  515,\n",
              "  1229,\n",
              "  1210,\n",
              "  103,\n",
              "  506,\n",
              "  312],\n",
              " [1233,\n",
              "  506,\n",
              "  312,\n",
              "  588,\n",
              "  1274,\n",
              "  69,\n",
              "  1074,\n",
              "  1078,\n",
              "  69,\n",
              "  515,\n",
              "  1229,\n",
              "  1210,\n",
              "  103,\n",
              "  506,\n",
              "  312,\n",
              "  1275]]"
            ]
          },
          "execution_count": 10,
          "metadata": {},
          "output_type": "execute_result"
        }
      ],
      "source": [
        "# Creating the sequences\n",
        "X_train = []\n",
        "y_train = []\n",
        "\n",
        "X_test = []\n",
        "y_test = []\n",
        "\n",
        "def create_sequence(X: list, y: list, encoded_sentences: list):\n",
        "  for i in encoded_sentences:\n",
        "    for j in range(1, len(i)):\n",
        "      X.append(i[:j])\n",
        "      y.append(i[j:])\n",
        "  return X, y\n",
        "\n",
        "X_train, y_train = create_sequence(X_train, y_train, train_encoded_sentences)\n",
        "X_test, y_test = create_sequence(X_test, y_test, test_encoded_sentences)\n",
        "\n",
        "X_test[:16]"
      ]
    },
    {
      "cell_type": "code",
      "execution_count": null,
      "metadata": {
        "id": "h2kRTL4bZttO"
      },
      "outputs": [],
      "source": [
        "# Padding X and y\n",
        "X_train_padded = pad_sequences(X_train, maxlen=41, padding='post', value=0)  # 'post' means pad at the end of each sequence\n",
        "y_train_padded = pad_sequences(y_train, maxlen=41, padding='post', value=0)\n",
        "\n",
        "X_test_padded = pad_sequences(X_test, maxlen=41, padding='post', value=0)\n",
        "y_test_padded = pad_sequences(y_test, maxlen=41, padding='post', value=0)"
      ]
    },
    {
      "cell_type": "code",
      "execution_count": null,
      "metadata": {
        "colab": {
          "base_uri": "https://localhost:8080/"
        },
        "id": "O1sZUgwKeCi0",
        "outputId": "3f142477-6f85-487d-a259-4bc74151426f"
      },
      "outputs": [
        {
          "name": "stdout",
          "output_type": "stream",
          "text": [
            "X Shape: (2382, 41) | y shape: (2382, 41)\n"
          ]
        }
      ],
      "source": [
        "print(f\"X Shape: {X_train_padded.shape} | y shape: {y_train_padded.shape}\")"
      ]
    },
    {
      "cell_type": "code",
      "execution_count": null,
      "metadata": {
        "id": "kAjFFhQl0xGy"
      },
      "outputs": [],
      "source": [
        "# Converting X and y to categorical vectors\n",
        "X_train_cat = tf.keras.utils.to_categorical(X_train_padded, num_classes=vocab_size)\n",
        "y_train_cat = tf.keras.utils.to_categorical(y_train_padded, num_classes=vocab_size)\n",
        "\n",
        "X_test_cat = tf.keras.utils.to_categorical(X_test_padded, num_classes=vocab_size)\n",
        "y_test_cat = tf.keras.utils.to_categorical(y_test_padded, num_classes=vocab_size)"
      ]
    },
    {
      "cell_type": "code",
      "execution_count": null,
      "metadata": {
        "colab": {
          "base_uri": "https://localhost:8080/"
        },
        "id": "_6eD20YK1hxr",
        "outputId": "cf6e2a34-bef5-48ba-d941-c289f333bd3f"
      },
      "outputs": [
        {
          "name": "stdout",
          "output_type": "stream",
          "text": [
            "X Rank: 3 | y Rank: 3\n",
            "X Shape: (2382, 41, 1513) | y shape: (2382, 41, 1513)\n",
            "X Type: <class 'numpy.ndarray'> | y Type: <class 'numpy.ndarray'>\n"
          ]
        }
      ],
      "source": [
        "# Check the ranks of X and y\n",
        "print(f\"X Rank: {tf.rank(X_train_cat)} | y Rank: {tf.rank(y_train_cat)}\")\n",
        "print(f\"X Shape: {X_train_cat.shape} | y shape: {y_train_cat.shape}\")\n",
        "print(f\"X Type: {type(X_train_cat)} | y Type: {type(y_train_cat)}\")"
      ]
    },
    {
      "cell_type": "code",
      "execution_count": null,
      "metadata": {
        "id": "8S_U52wuJgNp"
      },
      "outputs": [],
      "source": [
        "import keras\n",
        "from keras.models import Sequential\n",
        "from keras.layers import Dense, LSTM, Embedding, Dropout"
      ]
    },
    {
      "cell_type": "code",
      "execution_count": null,
      "metadata": {
        "id": "bNnQfMEHgeqy"
      },
      "outputs": [],
      "source": [
        "model = Sequential()\n",
        "model.add(keras.layers.Input(shape=(41, 1513)))\n",
        "model.add(Dropout(rate=0.2))\n",
        "model.add(LSTM(64, return_sequences=True))\n",
        "model.add(LSTM(64, return_sequences=True))\n",
        "model.add(Dense(64, activation='relu'))\n",
        "model.add(Dropout(rate=0.5))\n",
        "model.add(Dense(vocab_size, activation='softmax'))\n",
        "model.compile(loss='categorical_crossentropy', optimizer='adam', metrics=['accuracy'])"
      ]
    },
    {
      "cell_type": "code",
      "execution_count": 59,
      "metadata": {
        "colab": {
          "base_uri": "https://localhost:8080/"
        },
        "id": "g1QcBuvyL_P5",
        "outputId": "30bac963-be64-44fc-c984-514e0e46b25e"
      },
      "outputs": [
        {
          "output_type": "stream",
          "name": "stdout",
          "text": [
            "Epoch 1/20\n",
            "\u001b[1m75/75\u001b[0m \u001b[32m━━━━━━━━━━━━━━━━━━━━\u001b[0m\u001b[37m\u001b[0m \u001b[1m16s\u001b[0m 216ms/step - accuracy: 0.7210 - loss: 1.5160\n",
            "Epoch 2/20\n",
            "\u001b[1m75/75\u001b[0m \u001b[32m━━━━━━━━━━━━━━━━━━━━\u001b[0m\u001b[37m\u001b[0m \u001b[1m15s\u001b[0m 196ms/step - accuracy: 0.7192 - loss: 1.5113\n",
            "Epoch 3/20\n",
            "\u001b[1m75/75\u001b[0m \u001b[32m━━━━━━━━━━━━━━━━━━━━\u001b[0m\u001b[37m\u001b[0m \u001b[1m21s\u001b[0m 203ms/step - accuracy: 0.7224 - loss: 1.4776\n",
            "Epoch 4/20\n",
            "\u001b[1m75/75\u001b[0m \u001b[32m━━━━━━━━━━━━━━━━━━━━\u001b[0m\u001b[37m\u001b[0m \u001b[1m20s\u001b[0m 193ms/step - accuracy: 0.7225 - loss: 1.4605\n",
            "Epoch 5/20\n",
            "\u001b[1m75/75\u001b[0m \u001b[32m━━━━━━━━━━━━━━━━━━━━\u001b[0m\u001b[37m\u001b[0m \u001b[1m21s\u001b[0m 198ms/step - accuracy: 0.7148 - loss: 1.5270\n",
            "Epoch 6/20\n",
            "\u001b[1m75/75\u001b[0m \u001b[32m━━━━━━━━━━━━━━━━━━━━\u001b[0m\u001b[37m\u001b[0m \u001b[1m20s\u001b[0m 198ms/step - accuracy: 0.7236 - loss: 1.4369\n",
            "Epoch 7/20\n",
            "\u001b[1m75/75\u001b[0m \u001b[32m━━━━━━━━━━━━━━━━━━━━\u001b[0m\u001b[37m\u001b[0m \u001b[1m21s\u001b[0m 210ms/step - accuracy: 0.7195 - loss: 1.4392\n",
            "Epoch 8/20\n",
            "\u001b[1m75/75\u001b[0m \u001b[32m━━━━━━━━━━━━━━━━━━━━\u001b[0m\u001b[37m\u001b[0m \u001b[1m19s\u001b[0m 193ms/step - accuracy: 0.7284 - loss: 1.4052\n",
            "Epoch 9/20\n",
            "\u001b[1m75/75\u001b[0m \u001b[32m━━━━━━━━━━━━━━━━━━━━\u001b[0m\u001b[37m\u001b[0m \u001b[1m21s\u001b[0m 197ms/step - accuracy: 0.7209 - loss: 1.4068\n",
            "Epoch 10/20\n",
            "\u001b[1m75/75\u001b[0m \u001b[32m━━━━━━━━━━━━━━━━━━━━\u001b[0m\u001b[37m\u001b[0m \u001b[1m20s\u001b[0m 196ms/step - accuracy: 0.7156 - loss: 1.4296\n",
            "Epoch 11/20\n",
            "\u001b[1m75/75\u001b[0m \u001b[32m━━━━━━━━━━━━━━━━━━━━\u001b[0m\u001b[37m\u001b[0m \u001b[1m21s\u001b[0m 199ms/step - accuracy: 0.7267 - loss: 1.3700\n",
            "Epoch 12/20\n",
            "\u001b[1m75/75\u001b[0m \u001b[32m━━━━━━━━━━━━━━━━━━━━\u001b[0m\u001b[37m\u001b[0m \u001b[1m20s\u001b[0m 194ms/step - accuracy: 0.7170 - loss: 1.3985\n",
            "Epoch 13/20\n",
            "\u001b[1m75/75\u001b[0m \u001b[32m━━━━━━━━━━━━━━━━━━━━\u001b[0m\u001b[37m\u001b[0m \u001b[1m14s\u001b[0m 185ms/step - accuracy: 0.7194 - loss: 1.3678\n",
            "Epoch 14/20\n",
            "\u001b[1m75/75\u001b[0m \u001b[32m━━━━━━━━━━━━━━━━━━━━\u001b[0m\u001b[37m\u001b[0m \u001b[1m15s\u001b[0m 206ms/step - accuracy: 0.7291 - loss: 1.3078\n",
            "Epoch 15/20\n",
            "\u001b[1m75/75\u001b[0m \u001b[32m━━━━━━━━━━━━━━━━━━━━\u001b[0m\u001b[37m\u001b[0m \u001b[1m19s\u001b[0m 188ms/step - accuracy: 0.7296 - loss: 1.3092\n",
            "Epoch 16/20\n",
            "\u001b[1m75/75\u001b[0m \u001b[32m━━━━━━━━━━━━━━━━━━━━\u001b[0m\u001b[37m\u001b[0m \u001b[1m21s\u001b[0m 191ms/step - accuracy: 0.7202 - loss: 1.3434\n",
            "Epoch 17/20\n",
            "\u001b[1m75/75\u001b[0m \u001b[32m━━━━━━━━━━━━━━━━━━━━\u001b[0m\u001b[37m\u001b[0m \u001b[1m20s\u001b[0m 191ms/step - accuracy: 0.7246 - loss: 1.3060\n",
            "Epoch 18/20\n",
            "\u001b[1m75/75\u001b[0m \u001b[32m━━━━━━━━━━━━━━━━━━━━\u001b[0m\u001b[37m\u001b[0m \u001b[1m17s\u001b[0m 225ms/step - accuracy: 0.7307 - loss: 1.2764\n",
            "Epoch 19/20\n",
            "\u001b[1m75/75\u001b[0m \u001b[32m━━━━━━━━━━━━━━━━━━━━\u001b[0m\u001b[37m\u001b[0m \u001b[1m15s\u001b[0m 198ms/step - accuracy: 0.7295 - loss: 1.2631\n",
            "Epoch 20/20\n",
            "\u001b[1m75/75\u001b[0m \u001b[32m━━━━━━━━━━━━━━━━━━━━\u001b[0m\u001b[37m\u001b[0m \u001b[1m20s\u001b[0m 194ms/step - accuracy: 0.7397 - loss: 1.2455\n"
          ]
        }
      ],
      "source": [
        "history = model.fit(X_train_cat, y_train_cat, epochs=20, verbose=1)"
      ]
    },
    {
      "cell_type": "code",
      "execution_count": 60,
      "metadata": {
        "colab": {
          "base_uri": "https://localhost:8080/",
          "height": 337
        },
        "id": "SvvMdsmP1tQt",
        "outputId": "a6586334-d647-4891-8b4a-d10321079210"
      },
      "outputs": [
        {
          "output_type": "display_data",
          "data": {
            "text/plain": [
              "\u001b[1mModel: \"sequential\"\u001b[0m\n"
            ],
            "text/html": [
              "<pre style=\"white-space:pre;overflow-x:auto;line-height:normal;font-family:Menlo,'DejaVu Sans Mono',consolas,'Courier New',monospace\"><span style=\"font-weight: bold\">Model: \"sequential\"</span>\n",
              "</pre>\n"
            ]
          },
          "metadata": {}
        },
        {
          "output_type": "display_data",
          "data": {
            "text/plain": [
              "┏━━━━━━━━━━━━━━━━━━━━━━━━━━━━━━━━━━━━━━┳━━━━━━━━━━━━━━━━━━━━━━━━━━━━━┳━━━━━━━━━━━━━━━━━┓\n",
              "┃\u001b[1m \u001b[0m\u001b[1mLayer (type)                        \u001b[0m\u001b[1m \u001b[0m┃\u001b[1m \u001b[0m\u001b[1mOutput Shape               \u001b[0m\u001b[1m \u001b[0m┃\u001b[1m \u001b[0m\u001b[1m        Param #\u001b[0m\u001b[1m \u001b[0m┃\n",
              "┡━━━━━━━━━━━━━━━━━━━━━━━━━━━━━━━━━━━━━━╇━━━━━━━━━━━━━━━━━━━━━━━━━━━━━╇━━━━━━━━━━━━━━━━━┩\n",
              "│ dropout (\u001b[38;5;33mDropout\u001b[0m)                    │ (\u001b[38;5;45mNone\u001b[0m, \u001b[38;5;34m41\u001b[0m, \u001b[38;5;34m1513\u001b[0m)            │               \u001b[38;5;34m0\u001b[0m │\n",
              "├──────────────────────────────────────┼─────────────────────────────┼─────────────────┤\n",
              "│ lstm (\u001b[38;5;33mLSTM\u001b[0m)                          │ (\u001b[38;5;45mNone\u001b[0m, \u001b[38;5;34m41\u001b[0m, \u001b[38;5;34m64\u001b[0m)              │         \u001b[38;5;34m403,968\u001b[0m │\n",
              "├──────────────────────────────────────┼─────────────────────────────┼─────────────────┤\n",
              "│ lstm_1 (\u001b[38;5;33mLSTM\u001b[0m)                        │ (\u001b[38;5;45mNone\u001b[0m, \u001b[38;5;34m41\u001b[0m, \u001b[38;5;34m64\u001b[0m)              │          \u001b[38;5;34m33,024\u001b[0m │\n",
              "├──────────────────────────────────────┼─────────────────────────────┼─────────────────┤\n",
              "│ dense (\u001b[38;5;33mDense\u001b[0m)                        │ (\u001b[38;5;45mNone\u001b[0m, \u001b[38;5;34m41\u001b[0m, \u001b[38;5;34m64\u001b[0m)              │           \u001b[38;5;34m4,160\u001b[0m │\n",
              "├──────────────────────────────────────┼─────────────────────────────┼─────────────────┤\n",
              "│ dropout_1 (\u001b[38;5;33mDropout\u001b[0m)                  │ (\u001b[38;5;45mNone\u001b[0m, \u001b[38;5;34m41\u001b[0m, \u001b[38;5;34m64\u001b[0m)              │               \u001b[38;5;34m0\u001b[0m │\n",
              "├──────────────────────────────────────┼─────────────────────────────┼─────────────────┤\n",
              "│ dense_1 (\u001b[38;5;33mDense\u001b[0m)                      │ (\u001b[38;5;45mNone\u001b[0m, \u001b[38;5;34m41\u001b[0m, \u001b[38;5;34m1513\u001b[0m)            │          \u001b[38;5;34m98,345\u001b[0m │\n",
              "└──────────────────────────────────────┴─────────────────────────────┴─────────────────┘\n"
            ],
            "text/html": [
              "<pre style=\"white-space:pre;overflow-x:auto;line-height:normal;font-family:Menlo,'DejaVu Sans Mono',consolas,'Courier New',monospace\">┏━━━━━━━━━━━━━━━━━━━━━━━━━━━━━━━━━━━━━━┳━━━━━━━━━━━━━━━━━━━━━━━━━━━━━┳━━━━━━━━━━━━━━━━━┓\n",
              "┃<span style=\"font-weight: bold\"> Layer (type)                         </span>┃<span style=\"font-weight: bold\"> Output Shape                </span>┃<span style=\"font-weight: bold\">         Param # </span>┃\n",
              "┡━━━━━━━━━━━━━━━━━━━━━━━━━━━━━━━━━━━━━━╇━━━━━━━━━━━━━━━━━━━━━━━━━━━━━╇━━━━━━━━━━━━━━━━━┩\n",
              "│ dropout (<span style=\"color: #0087ff; text-decoration-color: #0087ff\">Dropout</span>)                    │ (<span style=\"color: #00d7ff; text-decoration-color: #00d7ff\">None</span>, <span style=\"color: #00af00; text-decoration-color: #00af00\">41</span>, <span style=\"color: #00af00; text-decoration-color: #00af00\">1513</span>)            │               <span style=\"color: #00af00; text-decoration-color: #00af00\">0</span> │\n",
              "├──────────────────────────────────────┼─────────────────────────────┼─────────────────┤\n",
              "│ lstm (<span style=\"color: #0087ff; text-decoration-color: #0087ff\">LSTM</span>)                          │ (<span style=\"color: #00d7ff; text-decoration-color: #00d7ff\">None</span>, <span style=\"color: #00af00; text-decoration-color: #00af00\">41</span>, <span style=\"color: #00af00; text-decoration-color: #00af00\">64</span>)              │         <span style=\"color: #00af00; text-decoration-color: #00af00\">403,968</span> │\n",
              "├──────────────────────────────────────┼─────────────────────────────┼─────────────────┤\n",
              "│ lstm_1 (<span style=\"color: #0087ff; text-decoration-color: #0087ff\">LSTM</span>)                        │ (<span style=\"color: #00d7ff; text-decoration-color: #00d7ff\">None</span>, <span style=\"color: #00af00; text-decoration-color: #00af00\">41</span>, <span style=\"color: #00af00; text-decoration-color: #00af00\">64</span>)              │          <span style=\"color: #00af00; text-decoration-color: #00af00\">33,024</span> │\n",
              "├──────────────────────────────────────┼─────────────────────────────┼─────────────────┤\n",
              "│ dense (<span style=\"color: #0087ff; text-decoration-color: #0087ff\">Dense</span>)                        │ (<span style=\"color: #00d7ff; text-decoration-color: #00d7ff\">None</span>, <span style=\"color: #00af00; text-decoration-color: #00af00\">41</span>, <span style=\"color: #00af00; text-decoration-color: #00af00\">64</span>)              │           <span style=\"color: #00af00; text-decoration-color: #00af00\">4,160</span> │\n",
              "├──────────────────────────────────────┼─────────────────────────────┼─────────────────┤\n",
              "│ dropout_1 (<span style=\"color: #0087ff; text-decoration-color: #0087ff\">Dropout</span>)                  │ (<span style=\"color: #00d7ff; text-decoration-color: #00d7ff\">None</span>, <span style=\"color: #00af00; text-decoration-color: #00af00\">41</span>, <span style=\"color: #00af00; text-decoration-color: #00af00\">64</span>)              │               <span style=\"color: #00af00; text-decoration-color: #00af00\">0</span> │\n",
              "├──────────────────────────────────────┼─────────────────────────────┼─────────────────┤\n",
              "│ dense_1 (<span style=\"color: #0087ff; text-decoration-color: #0087ff\">Dense</span>)                      │ (<span style=\"color: #00d7ff; text-decoration-color: #00d7ff\">None</span>, <span style=\"color: #00af00; text-decoration-color: #00af00\">41</span>, <span style=\"color: #00af00; text-decoration-color: #00af00\">1513</span>)            │          <span style=\"color: #00af00; text-decoration-color: #00af00\">98,345</span> │\n",
              "└──────────────────────────────────────┴─────────────────────────────┴─────────────────┘\n",
              "</pre>\n"
            ]
          },
          "metadata": {}
        },
        {
          "output_type": "display_data",
          "data": {
            "text/plain": [
              "\u001b[1m Total params: \u001b[0m\u001b[38;5;34m1,618,493\u001b[0m (6.17 MB)\n"
            ],
            "text/html": [
              "<pre style=\"white-space:pre;overflow-x:auto;line-height:normal;font-family:Menlo,'DejaVu Sans Mono',consolas,'Courier New',monospace\"><span style=\"font-weight: bold\"> Total params: </span><span style=\"color: #00af00; text-decoration-color: #00af00\">1,618,493</span> (6.17 MB)\n",
              "</pre>\n"
            ]
          },
          "metadata": {}
        },
        {
          "output_type": "display_data",
          "data": {
            "text/plain": [
              "\u001b[1m Trainable params: \u001b[0m\u001b[38;5;34m539,497\u001b[0m (2.06 MB)\n"
            ],
            "text/html": [
              "<pre style=\"white-space:pre;overflow-x:auto;line-height:normal;font-family:Menlo,'DejaVu Sans Mono',consolas,'Courier New',monospace\"><span style=\"font-weight: bold\"> Trainable params: </span><span style=\"color: #00af00; text-decoration-color: #00af00\">539,497</span> (2.06 MB)\n",
              "</pre>\n"
            ]
          },
          "metadata": {}
        },
        {
          "output_type": "display_data",
          "data": {
            "text/plain": [
              "\u001b[1m Non-trainable params: \u001b[0m\u001b[38;5;34m0\u001b[0m (0.00 B)\n"
            ],
            "text/html": [
              "<pre style=\"white-space:pre;overflow-x:auto;line-height:normal;font-family:Menlo,'DejaVu Sans Mono',consolas,'Courier New',monospace\"><span style=\"font-weight: bold\"> Non-trainable params: </span><span style=\"color: #00af00; text-decoration-color: #00af00\">0</span> (0.00 B)\n",
              "</pre>\n"
            ]
          },
          "metadata": {}
        },
        {
          "output_type": "display_data",
          "data": {
            "text/plain": [
              "\u001b[1m Optimizer params: \u001b[0m\u001b[38;5;34m1,078,996\u001b[0m (4.12 MB)\n"
            ],
            "text/html": [
              "<pre style=\"white-space:pre;overflow-x:auto;line-height:normal;font-family:Menlo,'DejaVu Sans Mono',consolas,'Courier New',monospace\"><span style=\"font-weight: bold\"> Optimizer params: </span><span style=\"color: #00af00; text-decoration-color: #00af00\">1,078,996</span> (4.12 MB)\n",
              "</pre>\n"
            ]
          },
          "metadata": {}
        }
      ],
      "source": [
        "# Model structure\n",
        "model.summary()"
      ]
    },
    {
      "cell_type": "code",
      "execution_count": 61,
      "metadata": {
        "colab": {
          "base_uri": "https://localhost:8080/",
          "height": 447
        },
        "id": "HCnJocw41PWy",
        "outputId": "0e62b605-cb06-452e-bbdc-320941121fac"
      },
      "outputs": [
        {
          "output_type": "execute_result",
          "data": {
            "text/plain": [
              "[<matplotlib.lines.Line2D at 0x7bbb961d42d0>]"
            ]
          },
          "metadata": {},
          "execution_count": 61
        },
        {
          "output_type": "display_data",
          "data": {
            "text/plain": [
              "<Figure size 640x480 with 1 Axes>"
            ],
            "image/png": "[encoded data removed]"
          },
          "metadata": {}
        }
      ],
      "source": [
        "# Plot the Loss Curve\n",
        "import matplotlib.pyplot as plt\n",
        "\n",
        "plt.plot(history.epoch, history.history[\"loss\"])"
      ]
    },
    {
      "cell_type": "code",
      "execution_count": 62,
      "metadata": {
        "colab": {
          "base_uri": "https://localhost:8080/",
          "height": 52
        },
        "collapsed": true,
        "id": "baUES5EQDfz5",
        "outputId": "9fd53dc3-fd66-4e89-c90e-8c2bc4f0eb46"
      },
      "outputs": [
        {
          "output_type": "stream",
          "name": "stdout",
          "text": [
            "\u001b[1m1/1\u001b[0m \u001b[32m━━━━━━━━━━━━━━━━━━━━\u001b[0m\u001b[37m\u001b[0m \u001b[1m0s\u001b[0m 69ms/step\n"
          ]
        },
        {
          "output_type": "execute_result",
          "data": {
            "text/plain": [
              "'because solid even even even 148'"
            ],
            "application/vnd.google.colaboratory.intrinsic+json": {
              "type": "string"
            }
          },
          "metadata": {},
          "execution_count": 62
        }
      ],
      "source": [
        "input_string = [\"because\"]\n",
        "input_string_arr = encode(input_string)\n",
        "input_string_arr = pad_sequences(input_string_arr, maxlen=41, padding=\"post\", value=0)\n",
        "input_string_arr = tf.keras.utils.to_categorical(input_string_arr, num_classes=vocab_size)\n",
        "input_string_arr.shape\n",
        "\n",
        "y_preds = model.predict(input_string_arr)\n",
        "labels = tf.argmax(y_preds, axis=1)\n",
        "\n",
        "\" \".join(input_string + [indx_to_token[int(labels[0][i])] for i in range(19) if int(labels[0][i]) != 0])"
      ]
    },
    {
      "cell_type": "code",
      "execution_count": 55,
      "metadata": {
        "colab": {
          "base_uri": "https://localhost:8080/"
        },
        "id": "2rkiQ_-V3Rdc",
        "outputId": "faccaabd-0301-4be9-a198-49250a0f5953"
      },
      "outputs": [
        {
          "output_type": "stream",
          "name": "stdout",
          "text": [
            "\u001b[1m21/21\u001b[0m \u001b[32m━━━━━━━━━━━━━━━━━━━━\u001b[0m\u001b[37m\u001b[0m \u001b[1m3s\u001b[0m 123ms/step - accuracy: 0.7032 - loss: 7.2651\n"
          ]
        },
        {
          "output_type": "execute_result",
          "data": {
            "text/plain": [
              "[10.3720703125, 0.6139425039291382]"
            ]
          },
          "metadata": {},
          "execution_count": 55
        }
      ],
      "source": [
        "# Evaluating the model\n",
        "model.evaluate(X_test_cat, y_test_cat)"
      ]
    }
  ],
  "metadata": {
    "colab": {
      "provenance": [],
      "authorship_tag": "ABX9TyPzIZ4aVU607mKj1AVvOvDZ",
      "include_colab_link": true
    },
    "kernelspec": {
      "display_name": "Python 3",
      "name": "python3"
    },
    "language_info": {
      "name": "python"
    }
  },
  "nbformat": 4,
  "nbformat_minor": 0
}