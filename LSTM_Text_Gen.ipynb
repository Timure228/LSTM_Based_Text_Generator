{
  "cells": [
    {
      "cell_type": "markdown",
      "metadata": {
        "id": "view-in-github",
        "colab_type": "text"
      },
      "source": [
        "<a href=\"https://colab.research.google.com/github/Timure228/LSTM_Based_Text_Generator/blob/main/LSTM_Text_Gen.ipynb\" target=\"_parent\"><img src=\"https://colab.research.google.com/assets/colab-badge.svg\" alt=\"Open In Colab\"/></a>"
      ]
    },
    {
      "cell_type": "markdown",
      "source": [
        "# LSTM Text Generator"
      ],
      "metadata": {
        "id": "qB-TkSVoTQv9"
      }
    },
    {
      "cell_type": "code",
      "execution_count": 2,
      "metadata": {
        "id": "nv0VkpkjjKyv"
      },
      "outputs": [],
      "source": [
        "import torch\n",
        "from torch import nn\n",
        "from torch.nn import RNN, LSTM, Dropout\n",
        "\n",
        "import tensorflow as tf\n",
        "import tensorflow_datasets as tfds\n",
        "from tensorflow.keras.preprocessing.sequence import pad_sequences\n",
        "from tensorflow.keras.utils import to_categorical\n",
        "\n",
        "import regex\n",
        "import string\n",
        "\n",
        "import numpy as np"
      ]
    },
    {
      "cell_type": "code",
      "execution_count": 3,
      "metadata": {
        "colab": {
          "base_uri": "https://localhost:8080/"
        },
        "id": "Gi9LRPGeHxAv",
        "outputId": "3fe36a3f-b869-4dc2-c3ea-e6e31a46e713"
      },
      "outputs": [
        {
          "output_type": "execute_result",
          "data": {
            "text/plain": [
              "7841"
            ]
          },
          "metadata": {},
          "execution_count": 3
        }
      ],
      "source": [
        "FILE = \"lstb.txt\"\n",
        "with open(FILE, \"r\") as f:\n",
        "  lines_amount = f.read().count(\"\\n\") + 1\n",
        "\n",
        "lines_amount"
      ]
    },
    {
      "cell_type": "code",
      "execution_count": 4,
      "metadata": {
        "id": "iE4hVCEJ-Pc9"
      },
      "outputs": [],
      "source": [
        "translator = str.maketrans('', '', string.punctuation)"
      ]
    },
    {
      "cell_type": "code",
      "execution_count": 31,
      "metadata": {
        "colab": {
          "base_uri": "https://localhost:8080/"
        },
        "id": "Yw2xpXDmFnA6",
        "outputId": "cd448e1e-6c82-4aaf-8150-513558ac83b6"
      },
      "outputs": [
        {
          "output_type": "stream",
          "name": "stdout",
          "text": [
            "4717\n"
          ]
        }
      ],
      "source": [
        "import re\n",
        "\n",
        "with open(FILE, \"r\") as f:\n",
        "  text = f.read()\n",
        "  text = text.strip().translate(translator).lower()\n",
        "  text = text[:int(len(text)*0.6) + 4]\n",
        "  print(text.count(\"\\n\") + 1)\n",
        "\n",
        "# print(f\"Before: {len(text)}\")\n",
        "\n",
        "# text = re.sub('\\)', '',text)\n",
        "# text = re.sub('\\(', '',text)\n",
        "\n",
        "# for pattern in set(re.findall('<unk>', text)):\n",
        "#   text = re.sub(pattern, '', text)\n",
        "\n",
        "# print(f\"After: {len(text)}\")"
      ]
    },
    {
      "cell_type": "code",
      "source": [
        "train_text = text[:int(len(text)*0.8)]\n",
        "test_text = text[int(len(text)*0.8):]"
      ],
      "metadata": {
        "id": "DIOH1czwPRHg"
      },
      "execution_count": 32,
      "outputs": []
    },
    {
      "cell_type": "code",
      "execution_count": 33,
      "metadata": {
        "colab": {
          "base_uri": "https://localhost:8080/"
        },
        "id": "9ULztpcxPBzL",
        "outputId": "9046298c-77d9-425f-8896-2667adafaf2f"
      },
      "outputs": [
        {
          "output_type": "stream",
          "name": "stdout",
          "text": [
            "Word \"the\" appears: 2110 times.\n",
            "2110\n"
          ]
        },
        {
          "output_type": "execute_result",
          "data": {
            "text/plain": [
              "(['awaited',\n",
              "  'crooked',\n",
              "  'sick',\n",
              "  'absolutely',\n",
              "  'motioned',\n",
              "  'heard',\n",
              "  'knot',\n",
              "  'daughter',\n",
              "  'comfortable',\n",
              "  'glimmering'],\n",
              " 5029)"
            ]
          },
          "metadata": {},
          "execution_count": 33
        }
      ],
      "source": [
        "# Tokenize\n",
        "tokens = []\n",
        "for i in text.split():\n",
        "  for j in i.split():\n",
        "    tokens.append(j)\n",
        "\n",
        "most_common = max(set(tokens), key=tokens.count)\n",
        "\n",
        "print(f\"Word \\\"{most_common}\\\" appears: {tokens.count(most_common)} times.\")\n",
        "print(tokens.count(\"the\"))\n",
        "\n",
        "tokens = list(set(tokens))\n",
        "vocab_size = len(tokens)\n",
        "tokens[:10], vocab_size"
      ]
    },
    {
      "cell_type": "code",
      "execution_count": 34,
      "metadata": {
        "collapsed": true,
        "id": "VUFMlZb62Fx8"
      },
      "outputs": [],
      "source": [
        "indx_to_token = {indx: token for indx, token in enumerate(tokens)}\n",
        "token_to_indx = {token: indx for indx, token in enumerate(tokens)}"
      ]
    },
    {
      "cell_type": "code",
      "execution_count": 26,
      "metadata": {
        "id": "5RWKrKsPKKum",
        "collapsed": true
      },
      "outputs": [],
      "source": [
        "# Create encode and decode function\n",
        "def encode(arr: list, token_to_indx=token_to_indx):\n",
        "  for i in arr:\n",
        "    for j in range(len(i)):\n",
        "      i[j] = token_to_indx[i[j]]\n",
        "  return arr\n",
        "\n",
        "def decode(arr: list, indx_to_token=indx_to_token):\n",
        "  for i in arr:\n",
        "    for j in range(len(i)):\n",
        "      i[j] = indx_to_token[i[j]]\n",
        "  return arr"
      ]
    },
    {
      "cell_type": "code",
      "source": [
        "SEQ_LENGTH = 10\n",
        "\n",
        "def create_sequence(X: list, y: list, text: str, SEQ_LENGTH = SEQ_LENGTH, STEP=1):\n",
        "  text_arr = text.split()\n",
        "  for i in range(0, len(text_arr)- SEQ_LENGTH, STEP):\n",
        "    X.append(text_arr[i:i + SEQ_LENGTH])\n",
        "    y.append([text_arr[i+SEQ_LENGTH]])\n",
        "  return X, y"
      ],
      "metadata": {
        "id": "8-avz4eB74mi"
      },
      "execution_count": 27,
      "outputs": []
    },
    {
      "cell_type": "code",
      "execution_count": 35,
      "metadata": {
        "colab": {
          "base_uri": "https://localhost:8080/"
        },
        "id": "EO2Uc-wBcAxg",
        "outputId": "87ee46f1-553a-4dfc-830f-602548d5e390"
      },
      "outputs": [
        {
          "output_type": "execute_result",
          "data": {
            "text/plain": [
              "(['his',\n",
              "  'head',\n",
              "  'sadly',\n",
              "  'come',\n",
              "  'watson',\n",
              "  'said',\n",
              "  'he',\n",
              "  'our',\n",
              "  'ways',\n",
              "  'lie'],\n",
              " ['elsewhere'])"
            ]
          },
          "metadata": {},
          "execution_count": 35
        }
      ],
      "source": [
        "# Creating the sequences\n",
        "X_train = []\n",
        "y_train = []\n",
        "\n",
        "X_test = []\n",
        "y_test = []\n",
        "\n",
        "X_train, y_train = create_sequence(X_train, y_train, train_text, SEQ_LENGTH=10)\n",
        "X_test, y_test = create_sequence(X_test, y_test, test_text, SEQ_LENGTH=10)\n",
        "\n",
        "X_test[1], y_test[1]"
      ]
    },
    {
      "cell_type": "code",
      "source": [
        "# Encoding, converting to numerical\n",
        "X_train = encode(X_train)\n",
        "y_train = encode(y_train)"
      ],
      "metadata": {
        "id": "o1qgt-aqxdxB"
      },
      "execution_count": 36,
      "outputs": []
    },
    {
      "cell_type": "code",
      "source": [
        "X_test = encode(X_test)\n",
        "y_test = encode(y_test)"
      ],
      "metadata": {
        "id": "-BTNPmTkRG5I"
      },
      "execution_count": 15,
      "outputs": []
    },
    {
      "cell_type": "code",
      "execution_count": 37,
      "metadata": {
        "id": "h2kRTL4bZttO"
      },
      "outputs": [],
      "source": [
        "# Padding X\n",
        "X_train_padded = pad_sequences(X_train, maxlen=10, padding='post', value=0)  # 'post' means pad at the end of each sequence\n",
        "\n",
        "# X_test_padded = pad_sequences(X_test, maxlen=10, padding='post', value=0)"
      ]
    },
    {
      "cell_type": "code",
      "execution_count": 38,
      "metadata": {
        "colab": {
          "base_uri": "https://localhost:8080/"
        },
        "id": "O1sZUgwKeCi0",
        "outputId": "6ae90b5f-1ff8-4ffc-bcab-edeb2359dd24"
      },
      "outputs": [
        {
          "output_type": "stream",
          "name": "stdout",
          "text": [
            "X Shape: (32518, 10)\n"
          ]
        }
      ],
      "source": [
        "print(f\"X Shape: {X_train_padded.shape}\")"
      ]
    },
    {
      "cell_type": "code",
      "execution_count": 39,
      "metadata": {
        "id": "kAjFFhQl0xGy"
      },
      "outputs": [],
      "source": [
        "# Converting X and y to categorical vectors\n",
        "X_train_cat = to_categorical(X_train_padded, num_classes=vocab_size)\n",
        "y_train_cat = to_categorical(y_train, num_classes=vocab_size)"
      ]
    },
    {
      "cell_type": "code",
      "source": [
        "X_test_cat = to_categorical(X_test_padded, num_classes=vocab_size)\n",
        "y_test_cat = to_categorical(y_test, num_classes=vocab_size)"
      ],
      "metadata": {
        "id": "asCVgPS_7ukg"
      },
      "execution_count": null,
      "outputs": []
    },
    {
      "cell_type": "code",
      "execution_count": 20,
      "metadata": {
        "id": "_6eD20YK1hxr",
        "colab": {
          "base_uri": "https://localhost:8080/"
        },
        "outputId": "a8e33cee-e06a-436a-8b5f-dd1a5783b0cf"
      },
      "outputs": [
        {
          "output_type": "stream",
          "name": "stdout",
          "text": [
            "X Rank: 3 | y Rank: 2\n",
            "X Shape: (10818, 10, 2658) | y shape: (10818, 2658)\n",
            "X Type: <class 'numpy.ndarray'> | y Type: <class 'numpy.ndarray'>\n"
          ]
        }
      ],
      "source": [
        "# Check the ranks of X and y\n",
        "print(f\"X Rank: {tf.rank(X_train_cat)} | y Rank: {tf.rank(y_train_cat)}\")\n",
        "print(f\"X Shape: {X_train_cat.shape} | y shape: {y_train_cat.shape}\")\n",
        "print(f\"X Type: {type(X_train_cat)} | y Type: {type(y_train_cat)}\")"
      ]
    },
    {
      "cell_type": "code",
      "execution_count": 40,
      "metadata": {
        "id": "8S_U52wuJgNp"
      },
      "outputs": [],
      "source": [
        "import keras\n",
        "from keras.models import Sequential\n",
        "from keras.layers import Dense, LSTM, Embedding, Dropout"
      ]
    },
    {
      "cell_type": "markdown",
      "source": [
        "# TensorFlow Based"
      ],
      "metadata": {
        "id": "Oc-63WvqGWd9"
      }
    },
    {
      "cell_type": "code",
      "execution_count": 41,
      "metadata": {
        "id": "bNnQfMEHgeqy"
      },
      "outputs": [],
      "source": [
        "model = Sequential()\n",
        "model.add(keras.layers.Input(shape=(SEQ_LENGTH, vocab_size)))\n",
        "model.add(Dropout(rate=0.2))\n",
        "model.add(LSTM(128, return_sequences=True))\n",
        "model.add(LSTM(64))\n",
        "model.add(Dense(64, activation='relu'))\n",
        "model.add(Dropout(rate=0.5))\n",
        "model.add(Dense(vocab_size, activation='softmax'))\n",
        "model.compile(loss='categorical_crossentropy', optimizer='adam', metrics=['accuracy'])"
      ]
    },
    {
      "cell_type": "code",
      "execution_count": null,
      "metadata": {
        "id": "g1QcBuvyL_P5"
      },
      "outputs": [],
      "source": [
        "history = model.fit(X_train_cat, y_train_cat, epochs=10, verbose=1)"
      ]
    },
    {
      "cell_type": "code",
      "execution_count": 31,
      "metadata": {
        "colab": {
          "base_uri": "https://localhost:8080/",
          "height": 447
        },
        "id": "HCnJocw41PWy",
        "outputId": "7f12d84f-fd62-4833-9518-dcfa3ccaa714"
      },
      "outputs": [
        {
          "output_type": "execute_result",
          "data": {
            "text/plain": [
              "[<matplotlib.lines.Line2D at 0x7d15380a2850>]"
            ]
          },
          "metadata": {},
          "execution_count": 31
        },
        {
          "output_type": "display_data",
          "data": {
            "text/plain": [
              "<Figure size 640x480 with 1 Axes>"
            ],
            "image/png": "[encoded data removed]"
          },
          "metadata": {}
        }
      ],
      "source": [
        "# Plot the Loss Curve\n",
        "import matplotlib.pyplot as plt\n",
        "\n",
        "plt.plot(history.epoch, history.history[\"loss\"])"
      ]
    },
    {
      "cell_type": "code",
      "execution_count": 32,
      "metadata": {
        "colab": {
          "base_uri": "https://localhost:8080/",
          "height": 337
        },
        "id": "SvvMdsmP1tQt",
        "outputId": "0c0deaa1-9a51-45e8-df73-923eeba7d827"
      },
      "outputs": [
        {
          "output_type": "display_data",
          "data": {
            "text/plain": [
              "\u001b[1mModel: \"sequential_2\"\u001b[0m\n"
            ],
            "text/html": [
              "<pre style=\"white-space:pre;overflow-x:auto;line-height:normal;font-family:Menlo,'DejaVu Sans Mono',consolas,'Courier New',monospace\"><span style=\"font-weight: bold\">Model: \"sequential_2\"</span>\n",
              "</pre>\n"
            ]
          },
          "metadata": {}
        },
        {
          "output_type": "display_data",
          "data": {
            "text/plain": [
              "┏━━━━━━━━━━━━━━━━━━━━━━━━━━━━━━━━━━━━━━┳━━━━━━━━━━━━━━━━━━━━━━━━━━━━━┳━━━━━━━━━━━━━━━━━┓\n",
              "┃\u001b[1m \u001b[0m\u001b[1mLayer (type)                        \u001b[0m\u001b[1m \u001b[0m┃\u001b[1m \u001b[0m\u001b[1mOutput Shape               \u001b[0m\u001b[1m \u001b[0m┃\u001b[1m \u001b[0m\u001b[1m        Param #\u001b[0m\u001b[1m \u001b[0m┃\n",
              "┡━━━━━━━━━━━━━━━━━━━━━━━━━━━━━━━━━━━━━━╇━━━━━━━━━━━━━━━━━━━━━━━━━━━━━╇━━━━━━━━━━━━━━━━━┩\n",
              "│ dropout_4 (\u001b[38;5;33mDropout\u001b[0m)                  │ (\u001b[38;5;45mNone\u001b[0m, \u001b[38;5;34m10\u001b[0m, \u001b[38;5;34m2658\u001b[0m)            │               \u001b[38;5;34m0\u001b[0m │\n",
              "├──────────────────────────────────────┼─────────────────────────────┼─────────────────┤\n",
              "│ lstm_4 (\u001b[38;5;33mLSTM\u001b[0m)                        │ (\u001b[38;5;45mNone\u001b[0m, \u001b[38;5;34m10\u001b[0m, \u001b[38;5;34m128\u001b[0m)             │       \u001b[38;5;34m1,426,944\u001b[0m │\n",
              "├──────────────────────────────────────┼─────────────────────────────┼─────────────────┤\n",
              "│ lstm_5 (\u001b[38;5;33mLSTM\u001b[0m)                        │ (\u001b[38;5;45mNone\u001b[0m, \u001b[38;5;34m64\u001b[0m)                  │          \u001b[38;5;34m49,408\u001b[0m │\n",
              "├──────────────────────────────────────┼─────────────────────────────┼─────────────────┤\n",
              "│ dense_4 (\u001b[38;5;33mDense\u001b[0m)                      │ (\u001b[38;5;45mNone\u001b[0m, \u001b[38;5;34m64\u001b[0m)                  │           \u001b[38;5;34m4,160\u001b[0m │\n",
              "├──────────────────────────────────────┼─────────────────────────────┼─────────────────┤\n",
              "│ dropout_5 (\u001b[38;5;33mDropout\u001b[0m)                  │ (\u001b[38;5;45mNone\u001b[0m, \u001b[38;5;34m64\u001b[0m)                  │               \u001b[38;5;34m0\u001b[0m │\n",
              "├──────────────────────────────────────┼─────────────────────────────┼─────────────────┤\n",
              "│ dense_5 (\u001b[38;5;33mDense\u001b[0m)                      │ (\u001b[38;5;45mNone\u001b[0m, \u001b[38;5;34m2658\u001b[0m)                │         \u001b[38;5;34m172,770\u001b[0m │\n",
              "└──────────────────────────────────────┴─────────────────────────────┴─────────────────┘\n"
            ],
            "text/html": [
              "<pre style=\"white-space:pre;overflow-x:auto;line-height:normal;font-family:Menlo,'DejaVu Sans Mono',consolas,'Courier New',monospace\">┏━━━━━━━━━━━━━━━━━━━━━━━━━━━━━━━━━━━━━━┳━━━━━━━━━━━━━━━━━━━━━━━━━━━━━┳━━━━━━━━━━━━━━━━━┓\n",
              "┃<span style=\"font-weight: bold\"> Layer (type)                         </span>┃<span style=\"font-weight: bold\"> Output Shape                </span>┃<span style=\"font-weight: bold\">         Param # </span>┃\n",
              "┡━━━━━━━━━━━━━━━━━━━━━━━━━━━━━━━━━━━━━━╇━━━━━━━━━━━━━━━━━━━━━━━━━━━━━╇━━━━━━━━━━━━━━━━━┩\n",
              "│ dropout_4 (<span style=\"color: #0087ff; text-decoration-color: #0087ff\">Dropout</span>)                  │ (<span style=\"color: #00d7ff; text-decoration-color: #00d7ff\">None</span>, <span style=\"color: #00af00; text-decoration-color: #00af00\">10</span>, <span style=\"color: #00af00; text-decoration-color: #00af00\">2658</span>)            │               <span style=\"color: #00af00; text-decoration-color: #00af00\">0</span> │\n",
              "├──────────────────────────────────────┼─────────────────────────────┼─────────────────┤\n",
              "│ lstm_4 (<span style=\"color: #0087ff; text-decoration-color: #0087ff\">LSTM</span>)                        │ (<span style=\"color: #00d7ff; text-decoration-color: #00d7ff\">None</span>, <span style=\"color: #00af00; text-decoration-color: #00af00\">10</span>, <span style=\"color: #00af00; text-decoration-color: #00af00\">128</span>)             │       <span style=\"color: #00af00; text-decoration-color: #00af00\">1,426,944</span> │\n",
              "├──────────────────────────────────────┼─────────────────────────────┼─────────────────┤\n",
              "│ lstm_5 (<span style=\"color: #0087ff; text-decoration-color: #0087ff\">LSTM</span>)                        │ (<span style=\"color: #00d7ff; text-decoration-color: #00d7ff\">None</span>, <span style=\"color: #00af00; text-decoration-color: #00af00\">64</span>)                  │          <span style=\"color: #00af00; text-decoration-color: #00af00\">49,408</span> │\n",
              "├──────────────────────────────────────┼─────────────────────────────┼─────────────────┤\n",
              "│ dense_4 (<span style=\"color: #0087ff; text-decoration-color: #0087ff\">Dense</span>)                      │ (<span style=\"color: #00d7ff; text-decoration-color: #00d7ff\">None</span>, <span style=\"color: #00af00; text-decoration-color: #00af00\">64</span>)                  │           <span style=\"color: #00af00; text-decoration-color: #00af00\">4,160</span> │\n",
              "├──────────────────────────────────────┼─────────────────────────────┼─────────────────┤\n",
              "│ dropout_5 (<span style=\"color: #0087ff; text-decoration-color: #0087ff\">Dropout</span>)                  │ (<span style=\"color: #00d7ff; text-decoration-color: #00d7ff\">None</span>, <span style=\"color: #00af00; text-decoration-color: #00af00\">64</span>)                  │               <span style=\"color: #00af00; text-decoration-color: #00af00\">0</span> │\n",
              "├──────────────────────────────────────┼─────────────────────────────┼─────────────────┤\n",
              "│ dense_5 (<span style=\"color: #0087ff; text-decoration-color: #0087ff\">Dense</span>)                      │ (<span style=\"color: #00d7ff; text-decoration-color: #00d7ff\">None</span>, <span style=\"color: #00af00; text-decoration-color: #00af00\">2658</span>)                │         <span style=\"color: #00af00; text-decoration-color: #00af00\">172,770</span> │\n",
              "└──────────────────────────────────────┴─────────────────────────────┴─────────────────┘\n",
              "</pre>\n"
            ]
          },
          "metadata": {}
        },
        {
          "output_type": "display_data",
          "data": {
            "text/plain": [
              "\u001b[1m Total params: \u001b[0m\u001b[38;5;34m4,959,848\u001b[0m (18.92 MB)\n"
            ],
            "text/html": [
              "<pre style=\"white-space:pre;overflow-x:auto;line-height:normal;font-family:Menlo,'DejaVu Sans Mono',consolas,'Courier New',monospace\"><span style=\"font-weight: bold\"> Total params: </span><span style=\"color: #00af00; text-decoration-color: #00af00\">4,959,848</span> (18.92 MB)\n",
              "</pre>\n"
            ]
          },
          "metadata": {}
        },
        {
          "output_type": "display_data",
          "data": {
            "text/plain": [
              "\u001b[1m Trainable params: \u001b[0m\u001b[38;5;34m1,653,282\u001b[0m (6.31 MB)\n"
            ],
            "text/html": [
              "<pre style=\"white-space:pre;overflow-x:auto;line-height:normal;font-family:Menlo,'DejaVu Sans Mono',consolas,'Courier New',monospace\"><span style=\"font-weight: bold\"> Trainable params: </span><span style=\"color: #00af00; text-decoration-color: #00af00\">1,653,282</span> (6.31 MB)\n",
              "</pre>\n"
            ]
          },
          "metadata": {}
        },
        {
          "output_type": "display_data",
          "data": {
            "text/plain": [
              "\u001b[1m Non-trainable params: \u001b[0m\u001b[38;5;34m0\u001b[0m (0.00 B)\n"
            ],
            "text/html": [
              "<pre style=\"white-space:pre;overflow-x:auto;line-height:normal;font-family:Menlo,'DejaVu Sans Mono',consolas,'Courier New',monospace\"><span style=\"font-weight: bold\"> Non-trainable params: </span><span style=\"color: #00af00; text-decoration-color: #00af00\">0</span> (0.00 B)\n",
              "</pre>\n"
            ]
          },
          "metadata": {}
        },
        {
          "output_type": "display_data",
          "data": {
            "text/plain": [
              "\u001b[1m Optimizer params: \u001b[0m\u001b[38;5;34m3,306,566\u001b[0m (12.61 MB)\n"
            ],
            "text/html": [
              "<pre style=\"white-space:pre;overflow-x:auto;line-height:normal;font-family:Menlo,'DejaVu Sans Mono',consolas,'Courier New',monospace\"><span style=\"font-weight: bold\"> Optimizer params: </span><span style=\"color: #00af00; text-decoration-color: #00af00\">3,306,566</span> (12.61 MB)\n",
              "</pre>\n"
            ]
          },
          "metadata": {}
        }
      ],
      "source": [
        "# Model structure\n",
        "model.summary()"
      ]
    },
    {
      "cell_type": "code",
      "execution_count": 44,
      "metadata": {
        "colab": {
          "base_uri": "https://localhost:8080/"
        },
        "id": "baUES5EQDfz5",
        "outputId": "6df3eca1-349b-404f-8b8c-ad2f0eaf799a"
      },
      "outputs": [
        {
          "output_type": "stream",
          "name": "stdout",
          "text": [
            "\u001b[1m1/1\u001b[0m \u001b[32m━━━━━━━━━━━━━━━━━━━━\u001b[0m\u001b[37m\u001b[0m \u001b[1m0s\u001b[0m 85ms/step\n",
            "[[1.9678791e-04 1.3731580e-03 1.7210376e-06 ... 2.9231215e-04\n",
            "  4.7177979e-05 8.6732049e-05]]\n",
            "tf.Tensor([550], shape=(1,), dtype=int64)\n",
            "[['why', 'would', 'you', 'do', 'that', 'for', 'things', 'you', 'do', 'it', 'the']]\n",
            "why would you do that for things you do it the\n"
          ]
        }
      ],
      "source": [
        "input_string = [[\"why\", \"would\", \"you\", \"do\", \"that\", \"for\", \"things\", \"you\", \"do\", \"it\"]]\n",
        "\n",
        "def convert(string):\n",
        "  input_string_arr = [token_to_indx[i] for i in input_string[0]]\n",
        "  input_string_arr = pad_sequences([input_string_arr], maxlen=10, padding=\"pre\", value=0)\n",
        "  input_string_arr = tf.keras.utils.to_categorical(input_string_arr, num_classes=vocab_size)\n",
        "  return input_string_arr\n",
        "\n",
        "input_string_arr = convert(input_string)\n",
        "\n",
        "y_preds = model.predict(input_string_arr)\n",
        "print(y_preds)\n",
        "\n",
        "probabilities = tf.argmax(y_preds, axis=1)\n",
        "print(probabilities)\n",
        "input_string[0].append(indx_to_token[int(probabilities)])\n",
        "print(input_string)\n",
        "print(\" \".join(input_string[0]))"
      ]
    },
    {
      "cell_type": "code",
      "source": [
        "loop_string = [[\"who\", \"those\", \"people\", \"are\", \"so\", \"difficult\", \"about\", \"their\", \"money\", \"and\"]]\n",
        "arr_input = convert(loop_string)\n",
        "\n",
        "def predict_loop(string_input, arr_input, output_length):\n",
        "  for i in range(output_length):\n",
        "    print(i)\n",
        "    y_preds = model.predict(arr_input)\n",
        "    probabilities = tf.argmax(tf.nn.softmax(y_preds), axis=1)\n",
        "    string_input[0].append(indx_to_token[int(probabilities)])\n",
        "    new_string = string_input[0][i + 1:]\n",
        "    print(new_string)\n",
        "    arr_input = convert(new_string)\n"
      ],
      "metadata": {
        "id": "C0TzLOJXek-A"
      },
      "execution_count": 37,
      "outputs": []
    },
    {
      "cell_type": "code",
      "source": [
        "predict_loop(loop_string, arr_input, 10)"
      ],
      "metadata": {
        "colab": {
          "base_uri": "https://localhost:8080/"
        },
        "id": "kMrdK9Bxg12Z",
        "outputId": "96343cf5-1ca9-4705-e1a7-f17165c06782"
      },
      "execution_count": 38,
      "outputs": [
        {
          "output_type": "stream",
          "name": "stdout",
          "text": [
            "0\n",
            "\u001b[1m1/1\u001b[0m \u001b[32m━━━━━━━━━━━━━━━━━━━━\u001b[0m\u001b[37m\u001b[0m \u001b[1m0s\u001b[0m 52ms/step\n",
            "['those', 'people', 'are', 'so', 'difficult', 'about', 'their', 'money', 'and', 'the']\n",
            "1\n",
            "\u001b[1m1/1\u001b[0m \u001b[32m━━━━━━━━━━━━━━━━━━━━\u001b[0m\u001b[37m\u001b[0m \u001b[1m0s\u001b[0m 61ms/step\n",
            "['people', 'are', 'so', 'difficult', 'about', 'their', 'money', 'and', 'the', 'the']\n",
            "2\n",
            "\u001b[1m1/1\u001b[0m \u001b[32m━━━━━━━━━━━━━━━━━━━━\u001b[0m\u001b[37m\u001b[0m \u001b[1m0s\u001b[0m 56ms/step\n",
            "['are', 'so', 'difficult', 'about', 'their', 'money', 'and', 'the', 'the', 'the']\n",
            "3\n",
            "\u001b[1m1/1\u001b[0m \u001b[32m━━━━━━━━━━━━━━━━━━━━\u001b[0m\u001b[37m\u001b[0m \u001b[1m0s\u001b[0m 52ms/step\n",
            "['so', 'difficult', 'about', 'their', 'money', 'and', 'the', 'the', 'the', 'the']\n",
            "4\n",
            "\u001b[1m1/1\u001b[0m \u001b[32m━━━━━━━━━━━━━━━━━━━━\u001b[0m\u001b[37m\u001b[0m \u001b[1m0s\u001b[0m 62ms/step\n",
            "['difficult', 'about', 'their', 'money', 'and', 'the', 'the', 'the', 'the', 'the']\n",
            "5\n",
            "\u001b[1m1/1\u001b[0m \u001b[32m━━━━━━━━━━━━━━━━━━━━\u001b[0m\u001b[37m\u001b[0m \u001b[1m0s\u001b[0m 62ms/step\n",
            "['about', 'their', 'money', 'and', 'the', 'the', 'the', 'the', 'the', 'the']\n",
            "6\n",
            "\u001b[1m1/1\u001b[0m \u001b[32m━━━━━━━━━━━━━━━━━━━━\u001b[0m\u001b[37m\u001b[0m \u001b[1m0s\u001b[0m 52ms/step\n",
            "['their', 'money', 'and', 'the', 'the', 'the', 'the', 'the', 'the', 'the']\n",
            "7\n",
            "\u001b[1m1/1\u001b[0m \u001b[32m━━━━━━━━━━━━━━━━━━━━\u001b[0m\u001b[37m\u001b[0m \u001b[1m0s\u001b[0m 45ms/step\n",
            "['money', 'and', 'the', 'the', 'the', 'the', 'the', 'the', 'the', 'the']\n",
            "8\n",
            "\u001b[1m1/1\u001b[0m \u001b[32m━━━━━━━━━━━━━━━━━━━━\u001b[0m\u001b[37m\u001b[0m \u001b[1m0s\u001b[0m 47ms/step\n",
            "['and', 'the', 'the', 'the', 'the', 'the', 'the', 'the', 'the', 'the']\n",
            "9\n",
            "\u001b[1m1/1\u001b[0m \u001b[32m━━━━━━━━━━━━━━━━━━━━\u001b[0m\u001b[37m\u001b[0m \u001b[1m0s\u001b[0m 45ms/step\n",
            "['the', 'the', 'the', 'the', 'the', 'the', 'the', 'the', 'the', 'the']\n"
          ]
        }
      ]
    },
    {
      "cell_type": "code",
      "execution_count": null,
      "metadata": {
        "colab": {
          "base_uri": "https://localhost:8080/"
        },
        "id": "2rkiQ_-V3Rdc",
        "outputId": "76f030fa-5c67-4669-f6fb-58b944b9ca71"
      },
      "outputs": [
        {
          "output_type": "stream",
          "name": "stdout",
          "text": [
            "\u001b[1m82/82\u001b[0m \u001b[32m━━━━━━━━━━━━━━━━━━━━\u001b[0m\u001b[37m\u001b[0m \u001b[1m1s\u001b[0m 10ms/step - accuracy: 0.9001 - loss: 0.6876\n"
          ]
        },
        {
          "output_type": "execute_result",
          "data": {
            "text/plain": [
              "[0.680959165096283, 0.9000769853591919]"
            ]
          },
          "metadata": {},
          "execution_count": 27
        }
      ],
      "source": [
        "# Evaluating the model\n",
        "model.evaluate(X_test_cat, y_test_cat)"
      ]
    },
    {
      "cell_type": "code",
      "source": [
        "model.save(\"model_0.keras\")"
      ],
      "metadata": {
        "id": "ESIyc_glQ1Rp"
      },
      "execution_count": null,
      "outputs": []
    },
    {
      "cell_type": "markdown",
      "source": [
        "# PyTorch Based"
      ],
      "metadata": {
        "id": "VzvI6psfGTGh"
      }
    },
    {
      "cell_type": "code",
      "source": [
        "X_train = []\n",
        "y_train = []\n",
        "\n",
        "X_test = []\n",
        "y_test = []\n",
        "\n",
        "X_train, y_train = create_sequence(X_train, y_train, train_text, SEQ_LENGTH=10)\n",
        "X_test, y_test = create_sequence(X_test, y_test, test_text, SEQ_LENGTH=10)\n",
        "\n",
        "# Encoding, converting to numerical\n",
        "X_train = encode(X_train)\n",
        "y_train = encode(y_train)"
      ],
      "metadata": {
        "id": "f7CiPmqs6QK0"
      },
      "execution_count": null,
      "outputs": []
    },
    {
      "cell_type": "code",
      "source": [
        "X_test = encode(X_test)\n",
        "y_test = encode(y_test)"
      ],
      "metadata": {
        "id": "l6Ce5rvFqNIH"
      },
      "execution_count": null,
      "outputs": []
    },
    {
      "cell_type": "code",
      "source": [
        "X_train = torch.tensor(X_train, dtype=torch.long).reshape(len(X_train), SEQ_LENGTH) / vocab_size\n",
        "y_train = torch.tensor(y_train, dtype=torch.long)\n",
        "\n",
        "X_test = torch.tensor(X_test, dtype=torch.long).reshape(len(X_test), SEQ_LENGTH) / vocab_size\n",
        "y_test = torch.tensor(y_test, dtype=torch.long)"
      ],
      "metadata": {
        "id": "YlsjA9lvf8I4",
        "colab": {
          "base_uri": "https://localhost:8080/"
        },
        "outputId": "037da817-911a-425c-8583-51e61c007a1a"
      },
      "execution_count": null,
      "outputs": [
        {
          "output_type": "stream",
          "name": "stderr",
          "text": [
            "<ipython-input-207-d66e4a4b863e>:1: UserWarning: To copy construct from a tensor, it is recommended to use sourceTensor.clone().detach() or sourceTensor.clone().detach().requires_grad_(True), rather than torch.tensor(sourceTensor).\n",
            "  X_train = torch.tensor(X_train, dtype=torch.long).reshape(len(X_train), SEQ_LENGTH) / vocab_size\n",
            "<ipython-input-207-d66e4a4b863e>:2: UserWarning: To copy construct from a tensor, it is recommended to use sourceTensor.clone().detach() or sourceTensor.clone().detach().requires_grad_(True), rather than torch.tensor(sourceTensor).\n",
            "  y_train = torch.tensor(y_train, dtype=torch.long)\n",
            "<ipython-input-207-d66e4a4b863e>:4: UserWarning: To copy construct from a tensor, it is recommended to use sourceTensor.clone().detach() or sourceTensor.clone().detach().requires_grad_(True), rather than torch.tensor(sourceTensor).\n",
            "  X_test = torch.tensor(X_test, dtype=torch.long).reshape(len(X_test), SEQ_LENGTH) / vocab_size\n",
            "<ipython-input-207-d66e4a4b863e>:5: UserWarning: To copy construct from a tensor, it is recommended to use sourceTensor.clone().detach() or sourceTensor.clone().detach().requires_grad_(True), rather than torch.tensor(sourceTensor).\n",
            "  y_test = torch.tensor(y_test, dtype=torch.long)\n"
          ]
        }
      ]
    },
    {
      "cell_type": "code",
      "source": [
        "class Model0(nn.Module):\n",
        "  def __init__(self, input_dim, hidden_dim, layer_dim, output_dim):\n",
        "    super(Model0, self).__init__()\n",
        "    self.layer_dim = layer_dim\n",
        "    self.hidden_dim = hidden_dim\n",
        "\n",
        "    self.lstm = torch.nn.LSTM(input_dim, hidden_dim, layer_dim,\n",
        "                     batch_first=True)\n",
        "    self.linear = torch.nn.Linear(hidden_dim, output_dim)\n",
        "    self.softMax = torch.nn.Softmax()\n",
        "\n",
        "  def forward(self, x, h0=None, c0=None):\n",
        "    if h0 is None and c0 is None:\n",
        "      h0 = torch.zeros(self.layer_dim, x.size(0), self.hidden_dim)\n",
        "      c0 = torch.zeros(self.layer_dim, x.size(0), self.hidden_dim)\n",
        "\n",
        "    out, (hn, hc) = self.lstm(x, (h0, c0))\n",
        "    out = self.linear(out[:, -1, :])\n",
        "    return out, hn, hc"
      ],
      "metadata": {
        "id": "ozMKoCdDS2Tv"
      },
      "execution_count": null,
      "outputs": []
    },
    {
      "cell_type": "code",
      "source": [
        "class Model1(nn.Module):\n",
        "  def __init__(self, input_size, hidden_size, output_size):\n",
        "    super().__init__()\n",
        "    self.lstm = nn.LSTM(input_size, hidden_size, num_layers=1, dropout=0.2)\n",
        "    self.dropout = nn.Dropout(0.2)\n",
        "    self.linear = nn.Linear(128, output_size)\n",
        "\n",
        "  def forward(self, x):\n",
        "    x, _ = self.lstm(x)\n",
        "    x = self.linear(x)\n",
        "    return x"
      ],
      "metadata": {
        "id": "jG6A7d8UhQRl"
      },
      "execution_count": null,
      "outputs": []
    },
    {
      "cell_type": "code",
      "source": [
        "model1 = Model1(input_size=10, hidden_size=128, output_size=vocab_size)\n",
        "loss_fn = nn.CrossEntropyLoss(reduction=\"sum\")\n",
        "optimizer = torch.optim.Adam(model1.parameters(), lr=0.01)"
      ],
      "metadata": {
        "id": "Dlx4lAjrk0c6"
      },
      "execution_count": null,
      "outputs": []
    },
    {
      "cell_type": "code",
      "source": [
        "from torch.utils import data\n",
        "\n",
        "batch_size = 128\n",
        "\n",
        "train_dataset_loader = data.DataLoader(data.TensorDataset(X_train, y_train), shuffle=True, batch_size=batch_size)\n",
        "# test_dataset_loader = data.DataLoader(data.TensorDataset(X_test, y_test), shuffle=False, batch_size=batch_size)"
      ],
      "metadata": {
        "id": "E-sGt90krarg"
      },
      "execution_count": null,
      "outputs": []
    },
    {
      "cell_type": "code",
      "source": [
        "for x, y in train_dataset_loader:\n",
        "  print(x.shape)"
      ],
      "metadata": {
        "colab": {
          "base_uri": "https://localhost:8080/"
        },
        "collapsed": true,
        "id": "Is8TsOSj8JDe",
        "outputId": "9880cee6-3983-49fb-f099-5c32132eaad8"
      },
      "execution_count": null,
      "outputs": [
        {
          "output_type": "stream",
          "name": "stdout",
          "text": [
            "torch.Size([128, 10])\n",
            "torch.Size([128, 10])\n",
            "torch.Size([128, 10])\n",
            "torch.Size([128, 10])\n",
            "torch.Size([128, 10])\n",
            "torch.Size([128, 10])\n",
            "torch.Size([128, 10])\n",
            "torch.Size([128, 10])\n",
            "torch.Size([128, 10])\n",
            "torch.Size([128, 10])\n",
            "torch.Size([128, 10])\n",
            "torch.Size([128, 10])\n",
            "torch.Size([128, 10])\n",
            "torch.Size([128, 10])\n",
            "torch.Size([128, 10])\n",
            "torch.Size([128, 10])\n",
            "torch.Size([128, 10])\n",
            "torch.Size([128, 10])\n",
            "torch.Size([128, 10])\n",
            "torch.Size([128, 10])\n",
            "torch.Size([128, 10])\n",
            "torch.Size([128, 10])\n",
            "torch.Size([128, 10])\n",
            "torch.Size([128, 10])\n",
            "torch.Size([128, 10])\n",
            "torch.Size([128, 10])\n",
            "torch.Size([128, 10])\n",
            "torch.Size([128, 10])\n",
            "torch.Size([128, 10])\n",
            "torch.Size([128, 10])\n",
            "torch.Size([128, 10])\n",
            "torch.Size([128, 10])\n",
            "torch.Size([128, 10])\n",
            "torch.Size([128, 10])\n",
            "torch.Size([128, 10])\n",
            "torch.Size([128, 10])\n",
            "torch.Size([128, 10])\n",
            "torch.Size([128, 10])\n",
            "torch.Size([128, 10])\n",
            "torch.Size([128, 10])\n",
            "torch.Size([128, 10])\n",
            "torch.Size([128, 10])\n",
            "torch.Size([128, 10])\n",
            "torch.Size([128, 10])\n",
            "torch.Size([128, 10])\n",
            "torch.Size([128, 10])\n",
            "torch.Size([128, 10])\n",
            "torch.Size([128, 10])\n",
            "torch.Size([128, 10])\n",
            "torch.Size([128, 10])\n",
            "torch.Size([128, 10])\n",
            "torch.Size([128, 10])\n",
            "torch.Size([128, 10])\n",
            "torch.Size([128, 10])\n",
            "torch.Size([128, 10])\n",
            "torch.Size([128, 10])\n",
            "torch.Size([128, 10])\n",
            "torch.Size([128, 10])\n",
            "torch.Size([128, 10])\n",
            "torch.Size([128, 10])\n",
            "torch.Size([128, 10])\n",
            "torch.Size([128, 10])\n",
            "torch.Size([128, 10])\n",
            "torch.Size([128, 10])\n",
            "torch.Size([128, 10])\n",
            "torch.Size([128, 10])\n",
            "torch.Size([128, 10])\n",
            "torch.Size([128, 10])\n",
            "torch.Size([128, 10])\n",
            "torch.Size([128, 10])\n",
            "torch.Size([128, 10])\n",
            "torch.Size([128, 10])\n",
            "torch.Size([128, 10])\n",
            "torch.Size([128, 10])\n",
            "torch.Size([128, 10])\n",
            "torch.Size([128, 10])\n",
            "torch.Size([128, 10])\n",
            "torch.Size([128, 10])\n",
            "torch.Size([128, 10])\n",
            "torch.Size([128, 10])\n",
            "torch.Size([128, 10])\n",
            "torch.Size([128, 10])\n",
            "torch.Size([128, 10])\n",
            "torch.Size([128, 10])\n",
            "torch.Size([128, 10])\n",
            "torch.Size([128, 10])\n",
            "torch.Size([128, 10])\n",
            "torch.Size([128, 10])\n",
            "torch.Size([128, 10])\n",
            "torch.Size([128, 10])\n",
            "torch.Size([128, 10])\n",
            "torch.Size([128, 10])\n",
            "torch.Size([128, 10])\n",
            "torch.Size([128, 10])\n",
            "torch.Size([128, 10])\n",
            "torch.Size([128, 10])\n",
            "torch.Size([128, 10])\n",
            "torch.Size([128, 10])\n",
            "torch.Size([128, 10])\n",
            "torch.Size([128, 10])\n",
            "torch.Size([128, 10])\n",
            "torch.Size([128, 10])\n",
            "torch.Size([128, 10])\n",
            "torch.Size([128, 10])\n",
            "torch.Size([128, 10])\n",
            "torch.Size([128, 10])\n",
            "torch.Size([128, 10])\n",
            "torch.Size([128, 10])\n",
            "torch.Size([128, 10])\n",
            "torch.Size([128, 10])\n",
            "torch.Size([128, 10])\n",
            "torch.Size([128, 10])\n",
            "torch.Size([128, 10])\n",
            "torch.Size([128, 10])\n",
            "torch.Size([128, 10])\n",
            "torch.Size([128, 10])\n",
            "torch.Size([128, 10])\n",
            "torch.Size([128, 10])\n",
            "torch.Size([128, 10])\n",
            "torch.Size([128, 10])\n",
            "torch.Size([128, 10])\n",
            "torch.Size([128, 10])\n",
            "torch.Size([128, 10])\n",
            "torch.Size([128, 10])\n",
            "torch.Size([128, 10])\n",
            "torch.Size([128, 10])\n",
            "torch.Size([128, 10])\n",
            "torch.Size([128, 10])\n",
            "torch.Size([128, 10])\n",
            "torch.Size([128, 10])\n",
            "torch.Size([128, 10])\n",
            "torch.Size([128, 10])\n",
            "torch.Size([128, 10])\n",
            "torch.Size([128, 10])\n",
            "torch.Size([128, 10])\n",
            "torch.Size([128, 10])\n",
            "torch.Size([128, 10])\n",
            "torch.Size([128, 10])\n",
            "torch.Size([128, 10])\n",
            "torch.Size([128, 10])\n",
            "torch.Size([128, 10])\n",
            "torch.Size([128, 10])\n",
            "torch.Size([128, 10])\n",
            "torch.Size([128, 10])\n",
            "torch.Size([128, 10])\n",
            "torch.Size([128, 10])\n",
            "torch.Size([128, 10])\n",
            "torch.Size([128, 10])\n",
            "torch.Size([128, 10])\n",
            "torch.Size([128, 10])\n",
            "torch.Size([128, 10])\n",
            "torch.Size([128, 10])\n",
            "torch.Size([128, 10])\n",
            "torch.Size([128, 10])\n",
            "torch.Size([128, 10])\n",
            "torch.Size([128, 10])\n",
            "torch.Size([128, 10])\n",
            "torch.Size([128, 10])\n",
            "torch.Size([128, 10])\n",
            "torch.Size([128, 10])\n",
            "torch.Size([128, 10])\n",
            "torch.Size([128, 10])\n",
            "torch.Size([128, 10])\n",
            "torch.Size([128, 10])\n",
            "torch.Size([128, 10])\n",
            "torch.Size([128, 10])\n",
            "torch.Size([128, 10])\n",
            "torch.Size([128, 10])\n",
            "torch.Size([128, 10])\n",
            "torch.Size([128, 10])\n",
            "torch.Size([128, 10])\n",
            "torch.Size([128, 10])\n",
            "torch.Size([128, 10])\n",
            "torch.Size([128, 10])\n",
            "torch.Size([128, 10])\n",
            "torch.Size([128, 10])\n",
            "torch.Size([128, 10])\n",
            "torch.Size([128, 10])\n",
            "torch.Size([128, 10])\n",
            "torch.Size([128, 10])\n",
            "torch.Size([128, 10])\n",
            "torch.Size([128, 10])\n",
            "torch.Size([128, 10])\n",
            "torch.Size([128, 10])\n",
            "torch.Size([128, 10])\n",
            "torch.Size([128, 10])\n",
            "torch.Size([128, 10])\n",
            "torch.Size([128, 10])\n",
            "torch.Size([128, 10])\n",
            "torch.Size([128, 10])\n",
            "torch.Size([128, 10])\n",
            "torch.Size([128, 10])\n",
            "torch.Size([128, 10])\n",
            "torch.Size([128, 10])\n",
            "torch.Size([128, 10])\n",
            "torch.Size([128, 10])\n",
            "torch.Size([128, 10])\n",
            "torch.Size([128, 10])\n",
            "torch.Size([128, 10])\n",
            "torch.Size([128, 10])\n",
            "torch.Size([128, 10])\n",
            "torch.Size([128, 10])\n",
            "torch.Size([128, 10])\n",
            "torch.Size([128, 10])\n",
            "torch.Size([128, 10])\n",
            "torch.Size([128, 10])\n",
            "torch.Size([128, 10])\n",
            "torch.Size([128, 10])\n",
            "torch.Size([128, 10])\n",
            "torch.Size([128, 10])\n",
            "torch.Size([128, 10])\n",
            "torch.Size([128, 10])\n",
            "torch.Size([109, 10])\n"
          ]
        }
      ]
    },
    {
      "cell_type": "markdown",
      "source": [
        "https://machinelearningmastery.com/text-generation-with-lstm-in-pytorch/"
      ],
      "metadata": {
        "id": "5PUO0PrxtnUb"
      }
    },
    {
      "cell_type": "code",
      "source": [
        "## Training loop for model 1\n",
        "EPOCHS = 500\n",
        "\n",
        "for epoch in range(EPOCHS):\n",
        "  model1.train()\n",
        "  for X_train, y_train in train_dataset_loader:\n",
        "    if len(X_train) != 128:\n",
        "      continue\n",
        "\n",
        "    y_pred = model1(X_train)\n",
        "\n",
        "    loss = loss_fn(y_pred, y_train.squeeze(1))\n",
        "\n",
        "    optimizer.zero_grad()\n",
        "\n",
        "    loss.backward()\n",
        "\n",
        "    optimizer.step()\n",
        "\n",
        "  # Validation\n",
        "  model1.eval()\n",
        "  loss = 0\n",
        "  with torch.no_grad():\n",
        "    for X_train, y_train in train_dataset_loader:\n",
        "        y_pred = model1(X_train)\n",
        "        loss += loss_fn(y_pred, y_train.squeeze(1))\n",
        "    if (epoch + 1) % 100 == 0:\n",
        "      print(f\"Epoch: {epoch + 1} | Loss: {loss:.4f}\")"
      ],
      "metadata": {
        "colab": {
          "base_uri": "https://localhost:8080/"
        },
        "collapsed": true,
        "id": "WopJN0tQle7j",
        "outputId": "600acf7a-0404-4f3c-e3a9-b090b45e6eef"
      },
      "execution_count": null,
      "outputs": [
        {
          "output_type": "stream",
          "name": "stdout",
          "text": [
            "Epoch: 100 | Loss: 555.4913\n",
            "Epoch: 200 | Loss: 555.0812\n",
            "Epoch: 300 | Loss: 554.6782\n",
            "Epoch: 400 | Loss: 555.4270\n",
            "Epoch: 500 | Loss: 555.5330\n"
          ]
        }
      ]
    },
    {
      "cell_type": "code",
      "source": [
        "custom_string = \"why should i do this instead of the man who\"\n",
        "X_custom = [[]]\n",
        "\n",
        "for i in custom_string.split():\n",
        "  X_custom[0].append(i)\n",
        "\n",
        "# Encoding, converting to numerical\n",
        "X_custom = encode(X_custom)"
      ],
      "metadata": {
        "id": "FqEgzFgIwEYr"
      },
      "execution_count": null,
      "outputs": []
    },
    {
      "cell_type": "code",
      "source": [
        "X_custom = torch.tensor(X_custom, dtype=torch.float32).reshape(len(X_custom), SEQ_LENGTH) / vocab_size"
      ],
      "metadata": {
        "id": "J8XI7fEL7x13"
      },
      "execution_count": null,
      "outputs": []
    },
    {
      "cell_type": "code",
      "source": [
        "indx_to_token[int(torch.argmax(model1(X_custom), dim=1))]"
      ],
      "metadata": {
        "colab": {
          "base_uri": "https://localhost:8080/",
          "height": 35
        },
        "id": "_MLstVhTVedg",
        "outputId": "89aa486c-de7a-446e-c941-ce0d439c13a8"
      },
      "execution_count": null,
      "outputs": [
        {
          "output_type": "execute_result",
          "data": {
            "text/plain": [
              "'one'"
            ],
            "application/vnd.google.colaboratory.intrinsic+json": {
              "type": "string"
            }
          },
          "metadata": {},
          "execution_count": 227
        }
      ]
    },
    {
      "cell_type": "code",
      "source": [
        "def nuke(n):\n",
        "  a = []\n",
        "  for i in range(10):\n",
        "    if n > 1:\n",
        "      a.append(nuke(n-1))\n",
        "    else:\n",
        "      a.append(i)\n",
        "  return a\n",
        "\n",
        "# print(nuke(10))"
      ],
      "metadata": {
        "id": "L9am0PVGZ5hC"
      },
      "execution_count": null,
      "outputs": []
    }
  ],
  "metadata": {
    "colab": {
      "provenance": [],
      "gpuType": "T4",
      "authorship_tag": "ABX9TyM214wuDswjIfED/TxbJRYZ",
      "include_colab_link": true
    },
    "kernelspec": {
      "display_name": "Python 3",
      "name": "python3"
    },
    "language_info": {
      "name": "python"
    },
    "accelerator": "GPU"
  },
  "nbformat": 4,
  "nbformat_minor": 0
}