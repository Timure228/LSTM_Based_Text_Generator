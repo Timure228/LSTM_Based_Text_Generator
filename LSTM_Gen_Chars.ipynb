{
  "cells": [
    {
      "cell_type": "markdown",
      "metadata": {
        "id": "view-in-github",
        "colab_type": "text"
      },
      "source": [
        "<a href=\"https://colab.research.google.com/github/Timure228/LSTM_Based_Text_Generator/blob/main/LSTM_Gen_Chars.ipynb\" target=\"_parent\"><img src=\"https://colab.research.google.com/assets/colab-badge.svg\" alt=\"Open In Colab\"/></a>"
      ]
    },
    {
      "cell_type": "markdown",
      "source": [
        "# LSTM Chars Generator"
      ],
      "metadata": {
        "id": "qB-TkSVoTQv9"
      }
    },
    {
      "cell_type": "code",
      "execution_count": 1,
      "metadata": {
        "id": "nv0VkpkjjKyv"
      },
      "outputs": [],
      "source": [
        "import torch\n",
        "from torch import nn\n",
        "from torch.nn import RNN, LSTM, Dropout\n",
        "\n",
        "import tensorflow as tf\n",
        "import tensorflow_datasets as tfds\n",
        "from tensorflow.keras.preprocessing.sequence import pad_sequences\n",
        "from tensorflow.keras.utils import to_categorical\n",
        "\n",
        "import regex\n",
        "import string\n",
        "\n",
        "import numpy as np"
      ]
    },
    {
      "cell_type": "code",
      "execution_count": 2,
      "metadata": {
        "colab": {
          "base_uri": "https://localhost:8080/"
        },
        "id": "Gi9LRPGeHxAv",
        "outputId": "4470c8b9-d35e-41da-fd55-bfaba6a3246f"
      },
      "outputs": [
        {
          "output_type": "execute_result",
          "data": {
            "text/plain": [
              "7841"
            ]
          },
          "metadata": {},
          "execution_count": 2
        }
      ],
      "source": [
        "FILE = \"lstb.txt\"\n",
        "with open(FILE, \"r\") as f:\n",
        "  lines_amount = f.read().count(\"\\n\") + 1\n",
        "\n",
        "lines_amount"
      ]
    },
    {
      "cell_type": "code",
      "execution_count": 3,
      "metadata": {
        "id": "iE4hVCEJ-Pc9"
      },
      "outputs": [],
      "source": [
        "translator = str.maketrans('', '', string.punctuation)"
      ]
    },
    {
      "cell_type": "code",
      "execution_count": 4,
      "metadata": {
        "colab": {
          "base_uri": "https://localhost:8080/"
        },
        "id": "Yw2xpXDmFnA6",
        "outputId": "b9524b62-d0c5-4076-83df-af517eaac202"
      },
      "outputs": [
        {
          "output_type": "stream",
          "name": "stdout",
          "text": [
            "3913\n"
          ]
        }
      ],
      "source": [
        "import re\n",
        "\n",
        "with open(FILE, \"r\") as f:\n",
        "  text = f.read()\n",
        "  text = text.strip().translate(translator).lower()\n",
        "  text = text[:int(len(text)*0.5) + 1]\n",
        "  print(text.count(\"\\n\") + 1)\n",
        "\n",
        "# print(f\"Before: {len(text)}\")\n",
        "\n",
        "# text = re.sub('\\)', '',text)\n",
        "# text = re.sub('\\(', '',text)\n",
        "\n",
        "# for pattern in set(re.findall('<unk>', text)):\n",
        "#   text = re.sub(pattern, '', text)\n",
        "\n",
        "# print(f\"After: {len(text)}\")"
      ]
    },
    {
      "cell_type": "code",
      "source": [
        "train_text = text[:int(len(text)*0.8)]\n",
        "test_text = text[int(len(text)*0.8):]"
      ],
      "metadata": {
        "id": "DIOH1czwPRHg"
      },
      "execution_count": 5,
      "outputs": []
    },
    {
      "cell_type": "code",
      "execution_count": 6,
      "metadata": {
        "colab": {
          "base_uri": "https://localhost:8080/"
        },
        "id": "9ULztpcxPBzL",
        "outputId": "49c0e0e5-845a-4fe0-8b18-19fe6da4976b"
      },
      "outputs": [
        {
          "output_type": "stream",
          "name": "stdout",
          "text": [
            "word  \n"
          ]
        },
        {
          "output_type": "execute_result",
          "data": {
            "text/plain": [
              "(['\\n',\n",
              "  ' ',\n",
              "  '0',\n",
              "  '1',\n",
              "  '2',\n",
              "  '3',\n",
              "  '4',\n",
              "  '5',\n",
              "  '6',\n",
              "  '7',\n",
              "  '8',\n",
              "  '9',\n",
              "  'a',\n",
              "  'b',\n",
              "  'c',\n",
              "  'd',\n",
              "  'e',\n",
              "  'f',\n",
              "  'g',\n",
              "  'h',\n",
              "  'i',\n",
              "  'j',\n",
              "  'k',\n",
              "  'l',\n",
              "  'm',\n",
              "  'n',\n",
              "  'o',\n",
              "  'p',\n",
              "  'q',\n",
              "  'r',\n",
              "  's',\n",
              "  't',\n",
              "  'u',\n",
              "  'v',\n",
              "  'w',\n",
              "  'x',\n",
              "  'y',\n",
              "  'z',\n",
              "  'à',\n",
              "  'é',\n",
              "  'ê'],\n",
              " 41)"
            ]
          },
          "metadata": {},
          "execution_count": 6
        }
      ],
      "source": [
        "# Tokenize\n",
        "tokens = []\n",
        "for i in text:\n",
        "  tokens.append(i)\n",
        "\n",
        "print(\"word\", max(set(tokens), key=tokens.count))\n",
        "\n",
        "tokens = list(set(tokens))\n",
        "vocab_size = len(tokens)\n",
        "sorted(tokens), vocab_size"
      ]
    },
    {
      "cell_type": "code",
      "execution_count": 7,
      "metadata": {
        "collapsed": true,
        "id": "VUFMlZb62Fx8"
      },
      "outputs": [],
      "source": [
        "indx_to_token = {indx: token for indx, token in enumerate(tokens)}\n",
        "token_to_indx = {token: indx for indx, token in enumerate(tokens)}"
      ]
    },
    {
      "cell_type": "code",
      "execution_count": 8,
      "metadata": {
        "id": "5RWKrKsPKKum",
        "collapsed": true
      },
      "outputs": [],
      "source": [
        "# Create encode and decode function\n",
        "def encode(arr: list, token_to_indx=token_to_indx):\n",
        "  for i in arr:\n",
        "    for j in range(len(i)):\n",
        "      i[j] = token_to_indx[i[j]]\n",
        "  return arr\n",
        "\n",
        "def decode(arr: list, indx_to_token=indx_to_token):\n",
        "  for i in arr:\n",
        "    for j in range(len(i)):\n",
        "      i[j] = indx_to_token[i[j]]\n",
        "  return arr"
      ]
    },
    {
      "cell_type": "code",
      "source": [
        "SEQ_LENGTH = 10\n",
        "\n",
        "def create_sequence(X: list, y: list, text: str, SEQ_LENGTH = SEQ_LENGTH, STEP=1):\n",
        "  for i in range(0, len(text)- SEQ_LENGTH, STEP):\n",
        "    chars = []\n",
        "    for j in range(i, i + SEQ_LENGTH):\n",
        "      chars.append(text[j])\n",
        "    X.append(chars)\n",
        "\n",
        "    y.append([text[i+SEQ_LENGTH]])\n",
        "  return X, y"
      ],
      "metadata": {
        "id": "8-avz4eB74mi"
      },
      "execution_count": 9,
      "outputs": []
    },
    {
      "cell_type": "code",
      "execution_count": 10,
      "metadata": {
        "colab": {
          "base_uri": "https://localhost:8080/"
        },
        "id": "EO2Uc-wBcAxg",
        "outputId": "506604f8-4bdc-4b52-dc39-74e5d4a9b170"
      },
      "outputs": [
        {
          "output_type": "execute_result",
          "data": {
            "text/plain": [
              "([' ', ' ', ' ', 'e', 'd', 'u', 'c', 'a', 't', 'i'], ['o'])"
            ]
          },
          "metadata": {},
          "execution_count": 10
        }
      ],
      "source": [
        "# Creating the sequences\n",
        "X_train = []\n",
        "y_train = []\n",
        "\n",
        "X_test = []\n",
        "y_test = []\n",
        "\n",
        "X_train, y_train = create_sequence(X_train, y_train, train_text, SEQ_LENGTH=10)\n",
        "X_test, y_test = create_sequence(X_test, y_test, test_text, SEQ_LENGTH=10)\n",
        "\n",
        "X_test[1], y_test[1]"
      ]
    },
    {
      "cell_type": "code",
      "source": [
        "# Encoding, converting to numerical\n",
        "X_train = encode(X_train)\n",
        "y_train = encode(y_train)"
      ],
      "metadata": {
        "id": "o1qgt-aqxdxB"
      },
      "execution_count": 11,
      "outputs": []
    },
    {
      "cell_type": "code",
      "source": [
        "X_test = encode(X_test)\n",
        "y_test = encode(y_test)"
      ],
      "metadata": {
        "id": "-BTNPmTkRG5I"
      },
      "execution_count": 153,
      "outputs": []
    },
    {
      "cell_type": "code",
      "execution_count": 12,
      "metadata": {
        "id": "h2kRTL4bZttO"
      },
      "outputs": [],
      "source": [
        "# Padding X\n",
        "X_train_padded = pad_sequences(X_train, maxlen=10, padding='post', value=0)  # 'post' means pad at the end of each sequence\n",
        "\n",
        "# X_test_padded = pad_sequences(X_test, maxlen=10, padding='post', value=0)"
      ]
    },
    {
      "cell_type": "code",
      "execution_count": 13,
      "metadata": {
        "id": "kAjFFhQl0xGy"
      },
      "outputs": [],
      "source": [
        "# Converting X and y to categorical vectors\n",
        "X_train_cat = to_categorical(X_train_padded, num_classes=vocab_size)\n",
        "y_train_cat = to_categorical(y_train, num_classes=vocab_size)"
      ]
    },
    {
      "cell_type": "code",
      "source": [
        "X_test_cat = to_categorical(X_test_padded, num_classes=vocab_size)\n",
        "y_test_cat = to_categorical(y_test, num_classes=vocab_size)"
      ],
      "metadata": {
        "id": "asCVgPS_7ukg"
      },
      "execution_count": 158,
      "outputs": []
    },
    {
      "cell_type": "code",
      "execution_count": 316,
      "metadata": {
        "id": "_6eD20YK1hxr",
        "colab": {
          "base_uri": "https://localhost:8080/"
        },
        "outputId": "073c390f-9f9c-49c2-ae09-f8a41dc23373"
      },
      "outputs": [
        {
          "output_type": "stream",
          "name": "stdout",
          "text": [
            "X Rank: 3 | y Rank: 2\n",
            "X Shape: (30818, 10, 34) | y shape: (30818, 34)\n",
            "X Type: <class 'numpy.ndarray'> | y Type: <class 'numpy.ndarray'>\n"
          ]
        }
      ],
      "source": [
        "# Check the ranks of X and y\n",
        "print(f\"X Rank: {tf.rank(X_train_cat)} | y Rank: {tf.rank(y_train_cat)}\")\n",
        "print(f\"X Shape: {X_train_cat.shape} | y shape: {y_train_cat.shape}\")\n",
        "print(f\"X Type: {type(X_train_cat)} | y Type: {type(y_train_cat)}\")"
      ]
    },
    {
      "cell_type": "code",
      "execution_count": 14,
      "metadata": {
        "id": "8S_U52wuJgNp"
      },
      "outputs": [],
      "source": [
        "import keras\n",
        "from keras.models import Sequential\n",
        "from keras.layers import Dense, LSTM, Embedding, Dropout, Input"
      ]
    },
    {
      "cell_type": "markdown",
      "source": [
        "# TensorFlow Based"
      ],
      "metadata": {
        "id": "Oc-63WvqGWd9"
      }
    },
    {
      "cell_type": "code",
      "execution_count": 15,
      "metadata": {
        "id": "bNnQfMEHgeqy"
      },
      "outputs": [],
      "source": [
        "model = Sequential()\n",
        "model.add(Input(shape=(SEQ_LENGTH, vocab_size)))\n",
        "model.add(LSTM(128, return_sequences=True))\n",
        "model.add(LSTM(64))\n",
        "model.add(Dense(64, activation='softmax'))\n",
        "model.add(Dropout(rate=0.5))\n",
        "model.add(Dense(vocab_size, activation='softmax'))\n",
        "model.compile(loss=keras.losses.CategoricalCrossentropy(), optimizer=keras.optimizers.Adam(learning_rate=0.001), metrics=['accuracy'])"
      ]
    },
    {
      "cell_type": "code",
      "execution_count": 16,
      "metadata": {
        "id": "g1QcBuvyL_P5",
        "colab": {
          "base_uri": "https://localhost:8080/"
        },
        "outputId": "cd8aeb97-9273-4453-9af7-22567f246a78"
      },
      "outputs": [
        {
          "output_type": "stream",
          "name": "stdout",
          "text": [
            "Epoch 1/30\n",
            "\u001b[1m1205/1205\u001b[0m \u001b[32m━━━━━━━━━━━━━━━━━━━━\u001b[0m\u001b[37m\u001b[0m \u001b[1m12s\u001b[0m 7ms/step - accuracy: 0.2253 - loss: 3.3281\n",
            "Epoch 2/30\n",
            "\u001b[1m1205/1205\u001b[0m \u001b[32m━━━━━━━━━━━━━━━━━━━━\u001b[0m\u001b[37m\u001b[0m \u001b[1m9s\u001b[0m 7ms/step - accuracy: 0.2423 - loss: 2.9220\n",
            "Epoch 3/30\n",
            "\u001b[1m1205/1205\u001b[0m \u001b[32m━━━━━━━━━━━━━━━━━━━━\u001b[0m\u001b[37m\u001b[0m \u001b[1m11s\u001b[0m 7ms/step - accuracy: 0.2427 - loss: 2.8247\n",
            "Epoch 4/30\n",
            "\u001b[1m1205/1205\u001b[0m \u001b[32m━━━━━━━━━━━━━━━━━━━━\u001b[0m\u001b[37m\u001b[0m \u001b[1m10s\u001b[0m 7ms/step - accuracy: 0.2414 - loss: 2.7997\n",
            "Epoch 5/30\n",
            "\u001b[1m1205/1205\u001b[0m \u001b[32m━━━━━━━━━━━━━━━━━━━━\u001b[0m\u001b[37m\u001b[0m \u001b[1m11s\u001b[0m 8ms/step - accuracy: 0.2420 - loss: 2.7884\n",
            "Epoch 6/30\n",
            "\u001b[1m1205/1205\u001b[0m \u001b[32m━━━━━━━━━━━━━━━━━━━━\u001b[0m\u001b[37m\u001b[0m \u001b[1m11s\u001b[0m 9ms/step - accuracy: 0.2423 - loss: 2.7878\n",
            "Epoch 7/30\n",
            "\u001b[1m1205/1205\u001b[0m \u001b[32m━━━━━━━━━━━━━━━━━━━━\u001b[0m\u001b[37m\u001b[0m \u001b[1m18s\u001b[0m 7ms/step - accuracy: 0.2422 - loss: 2.7841\n",
            "Epoch 8/30\n",
            "\u001b[1m1205/1205\u001b[0m \u001b[32m━━━━━━━━━━━━━━━━━━━━\u001b[0m\u001b[37m\u001b[0m \u001b[1m9s\u001b[0m 8ms/step - accuracy: 0.2406 - loss: 2.7849\n",
            "Epoch 9/30\n",
            "\u001b[1m1205/1205\u001b[0m \u001b[32m━━━━━━━━━━━━━━━━━━━━\u001b[0m\u001b[37m\u001b[0m \u001b[1m8s\u001b[0m 7ms/step - accuracy: 0.2422 - loss: 2.7829\n",
            "Epoch 10/30\n",
            "\u001b[1m1205/1205\u001b[0m \u001b[32m━━━━━━━━━━━━━━━━━━━━\u001b[0m\u001b[37m\u001b[0m \u001b[1m9s\u001b[0m 7ms/step - accuracy: 0.2416 - loss: 2.7826\n",
            "Epoch 11/30\n",
            "\u001b[1m1205/1205\u001b[0m \u001b[32m━━━━━━━━━━━━━━━━━━━━\u001b[0m\u001b[37m\u001b[0m \u001b[1m11s\u001b[0m 8ms/step - accuracy: 0.2415 - loss: 2.7837\n",
            "Epoch 12/30\n",
            "\u001b[1m1205/1205\u001b[0m \u001b[32m━━━━━━━━━━━━━━━━━━━━\u001b[0m\u001b[37m\u001b[0m \u001b[1m9s\u001b[0m 7ms/step - accuracy: 0.2403 - loss: 2.7841\n",
            "Epoch 13/30\n",
            "\u001b[1m1205/1205\u001b[0m \u001b[32m━━━━━━━━━━━━━━━━━━━━\u001b[0m\u001b[37m\u001b[0m \u001b[1m8s\u001b[0m 7ms/step - accuracy: 0.2405 - loss: 2.7856\n",
            "Epoch 14/30\n",
            "\u001b[1m1205/1205\u001b[0m \u001b[32m━━━━━━━━━━━━━━━━━━━━\u001b[0m\u001b[37m\u001b[0m \u001b[1m9s\u001b[0m 7ms/step - accuracy: 0.2414 - loss: 2.7810\n",
            "Epoch 15/30\n",
            "\u001b[1m1205/1205\u001b[0m \u001b[32m━━━━━━━━━━━━━━━━━━━━\u001b[0m\u001b[37m\u001b[0m \u001b[1m10s\u001b[0m 7ms/step - accuracy: 0.2417 - loss: 2.7822\n",
            "Epoch 16/30\n",
            "\u001b[1m1205/1205\u001b[0m \u001b[32m━━━━━━━━━━━━━━━━━━━━\u001b[0m\u001b[37m\u001b[0m \u001b[1m9s\u001b[0m 7ms/step - accuracy: 0.2425 - loss: 2.7788\n",
            "Epoch 17/30\n",
            "\u001b[1m1205/1205\u001b[0m \u001b[32m━━━━━━━━━━━━━━━━━━━━\u001b[0m\u001b[37m\u001b[0m \u001b[1m8s\u001b[0m 7ms/step - accuracy: 0.2427 - loss: 2.7812\n",
            "Epoch 18/30\n",
            "\u001b[1m1205/1205\u001b[0m \u001b[32m━━━━━━━━━━━━━━━━━━━━\u001b[0m\u001b[37m\u001b[0m \u001b[1m11s\u001b[0m 7ms/step - accuracy: 0.2425 - loss: 2.7793\n",
            "Epoch 19/30\n",
            "\u001b[1m1205/1205\u001b[0m \u001b[32m━━━━━━━━━━━━━━━━━━━━\u001b[0m\u001b[37m\u001b[0m \u001b[1m10s\u001b[0m 8ms/step - accuracy: 0.2421 - loss: 2.7819\n",
            "Epoch 20/30\n",
            "\u001b[1m1205/1205\u001b[0m \u001b[32m━━━━━━━━━━━━━━━━━━━━\u001b[0m\u001b[37m\u001b[0m \u001b[1m9s\u001b[0m 7ms/step - accuracy: 0.2415 - loss: 2.7829\n",
            "Epoch 21/30\n",
            "\u001b[1m1205/1205\u001b[0m \u001b[32m━━━━━━━━━━━━━━━━━━━━\u001b[0m\u001b[37m\u001b[0m \u001b[1m8s\u001b[0m 7ms/step - accuracy: 0.2410 - loss: 2.7785\n",
            "Epoch 22/30\n",
            "\u001b[1m1205/1205\u001b[0m \u001b[32m━━━━━━━━━━━━━━━━━━━━\u001b[0m\u001b[37m\u001b[0m \u001b[1m9s\u001b[0m 7ms/step - accuracy: 0.2644 - loss: 2.6463\n",
            "Epoch 23/30\n",
            "\u001b[1m1205/1205\u001b[0m \u001b[32m━━━━━━━━━━━━━━━━━━━━\u001b[0m\u001b[37m\u001b[0m \u001b[1m11s\u001b[0m 8ms/step - accuracy: 0.2939 - loss: 2.5050\n",
            "Epoch 24/30\n",
            "\u001b[1m1205/1205\u001b[0m \u001b[32m━━━━━━━━━━━━━━━━━━━━\u001b[0m\u001b[37m\u001b[0m \u001b[1m10s\u001b[0m 7ms/step - accuracy: 0.2995 - loss: 2.4466\n",
            "Epoch 25/30\n",
            "\u001b[1m1205/1205\u001b[0m \u001b[32m━━━━━━━━━━━━━━━━━━━━\u001b[0m\u001b[37m\u001b[0m \u001b[1m9s\u001b[0m 7ms/step - accuracy: 0.3043 - loss: 2.4044\n",
            "Epoch 26/30\n",
            "\u001b[1m1205/1205\u001b[0m \u001b[32m━━━━━━━━━━━━━━━━━━━━\u001b[0m\u001b[37m\u001b[0m \u001b[1m8s\u001b[0m 7ms/step - accuracy: 0.3174 - loss: 2.3550\n",
            "Epoch 27/30\n",
            "\u001b[1m1205/1205\u001b[0m \u001b[32m━━━━━━━━━━━━━━━━━━━━\u001b[0m\u001b[37m\u001b[0m \u001b[1m11s\u001b[0m 8ms/step - accuracy: 0.3288 - loss: 2.3164\n",
            "Epoch 28/30\n",
            "\u001b[1m1205/1205\u001b[0m \u001b[32m━━━━━━━━━━━━━━━━━━━━\u001b[0m\u001b[37m\u001b[0m \u001b[1m9s\u001b[0m 7ms/step - accuracy: 0.3323 - loss: 2.2785\n",
            "Epoch 29/30\n",
            "\u001b[1m1205/1205\u001b[0m \u001b[32m━━━━━━━━━━━━━━━━━━━━\u001b[0m\u001b[37m\u001b[0m \u001b[1m9s\u001b[0m 8ms/step - accuracy: 0.3380 - loss: 2.2523\n",
            "Epoch 30/30\n",
            "\u001b[1m1205/1205\u001b[0m \u001b[32m━━━━━━━━━━━━━━━━━━━━\u001b[0m\u001b[37m\u001b[0m \u001b[1m8s\u001b[0m 7ms/step - accuracy: 0.3416 - loss: 2.2216\n"
          ]
        }
      ],
      "source": [
        "history = model.fit(x=X_train_cat, y=y_train_cat, batch_size=128, shuffle=True, epochs=30, verbose=1)"
      ]
    },
    {
      "cell_type": "code",
      "execution_count": 17,
      "metadata": {
        "colab": {
          "base_uri": "https://localhost:8080/",
          "height": 451
        },
        "id": "HCnJocw41PWy",
        "outputId": "bf3bda72-7d9d-4997-8969-4b627bb7ce23"
      },
      "outputs": [
        {
          "output_type": "execute_result",
          "data": {
            "text/plain": [
              "[<matplotlib.lines.Line2D at 0x7b46f018c190>]"
            ]
          },
          "metadata": {},
          "execution_count": 17
        },
        {
          "output_type": "display_data",
          "data": {
            "text/plain": [
              "<Figure size 640x480 with 1 Axes>"
            ],
            "image/png": "[encoded data removed]"
          },
          "metadata": {}
        }
      ],
      "source": [
        "# Plot the Loss Curve\n",
        "import matplotlib.pyplot as plt\n",
        "\n",
        "plt.plot(history.epoch, history.history[\"loss\"])"
      ]
    },
    {
      "cell_type": "code",
      "execution_count": 18,
      "metadata": {
        "colab": {
          "base_uri": "https://localhost:8080/",
          "height": 305
        },
        "id": "SvvMdsmP1tQt",
        "outputId": "1c495d35-bc5d-4083-bf9b-a97e1e412d2e"
      },
      "outputs": [
        {
          "output_type": "display_data",
          "data": {
            "text/plain": [
              "\u001b[1mModel: \"sequential\"\u001b[0m\n"
            ],
            "text/html": [
              "<pre style=\"white-space:pre;overflow-x:auto;line-height:normal;font-family:Menlo,'DejaVu Sans Mono',consolas,'Courier New',monospace\"><span style=\"font-weight: bold\">Model: \"sequential\"</span>\n",
              "</pre>\n"
            ]
          },
          "metadata": {}
        },
        {
          "output_type": "display_data",
          "data": {
            "text/plain": [
              "┏━━━━━━━━━━━━━━━━━━━━━━━━━━━━━━━━━━━━━━┳━━━━━━━━━━━━━━━━━━━━━━━━━━━━━┳━━━━━━━━━━━━━━━━━┓\n",
              "┃\u001b[1m \u001b[0m\u001b[1mLayer (type)                        \u001b[0m\u001b[1m \u001b[0m┃\u001b[1m \u001b[0m\u001b[1mOutput Shape               \u001b[0m\u001b[1m \u001b[0m┃\u001b[1m \u001b[0m\u001b[1m        Param #\u001b[0m\u001b[1m \u001b[0m┃\n",
              "┡━━━━━━━━━━━━━━━━━━━━━━━━━━━━━━━━━━━━━━╇━━━━━━━━━━━━━━━━━━━━━━━━━━━━━╇━━━━━━━━━━━━━━━━━┩\n",
              "│ lstm (\u001b[38;5;33mLSTM\u001b[0m)                          │ (\u001b[38;5;45mNone\u001b[0m, \u001b[38;5;34m10\u001b[0m, \u001b[38;5;34m128\u001b[0m)             │          \u001b[38;5;34m87,040\u001b[0m │\n",
              "├──────────────────────────────────────┼─────────────────────────────┼─────────────────┤\n",
              "│ lstm_1 (\u001b[38;5;33mLSTM\u001b[0m)                        │ (\u001b[38;5;45mNone\u001b[0m, \u001b[38;5;34m64\u001b[0m)                  │          \u001b[38;5;34m49,408\u001b[0m │\n",
              "├──────────────────────────────────────┼─────────────────────────────┼─────────────────┤\n",
              "│ dense (\u001b[38;5;33mDense\u001b[0m)                        │ (\u001b[38;5;45mNone\u001b[0m, \u001b[38;5;34m64\u001b[0m)                  │           \u001b[38;5;34m4,160\u001b[0m │\n",
              "├──────────────────────────────────────┼─────────────────────────────┼─────────────────┤\n",
              "│ dropout (\u001b[38;5;33mDropout\u001b[0m)                    │ (\u001b[38;5;45mNone\u001b[0m, \u001b[38;5;34m64\u001b[0m)                  │               \u001b[38;5;34m0\u001b[0m │\n",
              "├──────────────────────────────────────┼─────────────────────────────┼─────────────────┤\n",
              "│ dense_1 (\u001b[38;5;33mDense\u001b[0m)                      │ (\u001b[38;5;45mNone\u001b[0m, \u001b[38;5;34m41\u001b[0m)                  │           \u001b[38;5;34m2,665\u001b[0m │\n",
              "└──────────────────────────────────────┴─────────────────────────────┴─────────────────┘\n"
            ],
            "text/html": [
              "<pre style=\"white-space:pre;overflow-x:auto;line-height:normal;font-family:Menlo,'DejaVu Sans Mono',consolas,'Courier New',monospace\">┏━━━━━━━━━━━━━━━━━━━━━━━━━━━━━━━━━━━━━━┳━━━━━━━━━━━━━━━━━━━━━━━━━━━━━┳━━━━━━━━━━━━━━━━━┓\n",
              "┃<span style=\"font-weight: bold\"> Layer (type)                         </span>┃<span style=\"font-weight: bold\"> Output Shape                </span>┃<span style=\"font-weight: bold\">         Param # </span>┃\n",
              "┡━━━━━━━━━━━━━━━━━━━━━━━━━━━━━━━━━━━━━━╇━━━━━━━━━━━━━━━━━━━━━━━━━━━━━╇━━━━━━━━━━━━━━━━━┩\n",
              "│ lstm (<span style=\"color: #0087ff; text-decoration-color: #0087ff\">LSTM</span>)                          │ (<span style=\"color: #00d7ff; text-decoration-color: #00d7ff\">None</span>, <span style=\"color: #00af00; text-decoration-color: #00af00\">10</span>, <span style=\"color: #00af00; text-decoration-color: #00af00\">128</span>)             │          <span style=\"color: #00af00; text-decoration-color: #00af00\">87,040</span> │\n",
              "├──────────────────────────────────────┼─────────────────────────────┼─────────────────┤\n",
              "│ lstm_1 (<span style=\"color: #0087ff; text-decoration-color: #0087ff\">LSTM</span>)                        │ (<span style=\"color: #00d7ff; text-decoration-color: #00d7ff\">None</span>, <span style=\"color: #00af00; text-decoration-color: #00af00\">64</span>)                  │          <span style=\"color: #00af00; text-decoration-color: #00af00\">49,408</span> │\n",
              "├──────────────────────────────────────┼─────────────────────────────┼─────────────────┤\n",
              "│ dense (<span style=\"color: #0087ff; text-decoration-color: #0087ff\">Dense</span>)                        │ (<span style=\"color: #00d7ff; text-decoration-color: #00d7ff\">None</span>, <span style=\"color: #00af00; text-decoration-color: #00af00\">64</span>)                  │           <span style=\"color: #00af00; text-decoration-color: #00af00\">4,160</span> │\n",
              "├──────────────────────────────────────┼─────────────────────────────┼─────────────────┤\n",
              "│ dropout (<span style=\"color: #0087ff; text-decoration-color: #0087ff\">Dropout</span>)                    │ (<span style=\"color: #00d7ff; text-decoration-color: #00d7ff\">None</span>, <span style=\"color: #00af00; text-decoration-color: #00af00\">64</span>)                  │               <span style=\"color: #00af00; text-decoration-color: #00af00\">0</span> │\n",
              "├──────────────────────────────────────┼─────────────────────────────┼─────────────────┤\n",
              "│ dense_1 (<span style=\"color: #0087ff; text-decoration-color: #0087ff\">Dense</span>)                      │ (<span style=\"color: #00d7ff; text-decoration-color: #00d7ff\">None</span>, <span style=\"color: #00af00; text-decoration-color: #00af00\">41</span>)                  │           <span style=\"color: #00af00; text-decoration-color: #00af00\">2,665</span> │\n",
              "└──────────────────────────────────────┴─────────────────────────────┴─────────────────┘\n",
              "</pre>\n"
            ]
          },
          "metadata": {}
        },
        {
          "output_type": "display_data",
          "data": {
            "text/plain": [
              "\u001b[1m Total params: \u001b[0m\u001b[38;5;34m429,821\u001b[0m (1.64 MB)\n"
            ],
            "text/html": [
              "<pre style=\"white-space:pre;overflow-x:auto;line-height:normal;font-family:Menlo,'DejaVu Sans Mono',consolas,'Courier New',monospace\"><span style=\"font-weight: bold\"> Total params: </span><span style=\"color: #00af00; text-decoration-color: #00af00\">429,821</span> (1.64 MB)\n",
              "</pre>\n"
            ]
          },
          "metadata": {}
        },
        {
          "output_type": "display_data",
          "data": {
            "text/plain": [
              "\u001b[1m Trainable params: \u001b[0m\u001b[38;5;34m143,273\u001b[0m (559.66 KB)\n"
            ],
            "text/html": [
              "<pre style=\"white-space:pre;overflow-x:auto;line-height:normal;font-family:Menlo,'DejaVu Sans Mono',consolas,'Courier New',monospace\"><span style=\"font-weight: bold\"> Trainable params: </span><span style=\"color: #00af00; text-decoration-color: #00af00\">143,273</span> (559.66 KB)\n",
              "</pre>\n"
            ]
          },
          "metadata": {}
        },
        {
          "output_type": "display_data",
          "data": {
            "text/plain": [
              "\u001b[1m Non-trainable params: \u001b[0m\u001b[38;5;34m0\u001b[0m (0.00 B)\n"
            ],
            "text/html": [
              "<pre style=\"white-space:pre;overflow-x:auto;line-height:normal;font-family:Menlo,'DejaVu Sans Mono',consolas,'Courier New',monospace\"><span style=\"font-weight: bold\"> Non-trainable params: </span><span style=\"color: #00af00; text-decoration-color: #00af00\">0</span> (0.00 B)\n",
              "</pre>\n"
            ]
          },
          "metadata": {}
        },
        {
          "output_type": "display_data",
          "data": {
            "text/plain": [
              "\u001b[1m Optimizer params: \u001b[0m\u001b[38;5;34m286,548\u001b[0m (1.09 MB)\n"
            ],
            "text/html": [
              "<pre style=\"white-space:pre;overflow-x:auto;line-height:normal;font-family:Menlo,'DejaVu Sans Mono',consolas,'Courier New',monospace\"><span style=\"font-weight: bold\"> Optimizer params: </span><span style=\"color: #00af00; text-decoration-color: #00af00\">286,548</span> (1.09 MB)\n",
              "</pre>\n"
            ]
          },
          "metadata": {}
        }
      ],
      "source": [
        "# Model structure\n",
        "model.summary()"
      ]
    },
    {
      "cell_type": "code",
      "execution_count": 81,
      "metadata": {
        "colab": {
          "base_uri": "https://localhost:8080/"
        },
        "id": "baUES5EQDfz5",
        "outputId": "4ec481dd-c70c-4f01-9020-3c5f02040489"
      },
      "outputs": [
        {
          "output_type": "stream",
          "name": "stdout",
          "text": [
            "\u001b[1m1/1\u001b[0m \u001b[32m━━━━━━━━━━━━━━━━━━━━\u001b[0m\u001b[37m\u001b[0m \u001b[1m0s\u001b[0m 44ms/step\n",
            "[[6.9964076e-03 2.8905254e-02 1.9061049e-06 2.9198276e-03 4.9317636e-02\n",
            "  2.3201257e-03 4.9003080e-07 5.3472050e-02 6.5510240e-03 8.1605350e-07\n",
            "  7.1005579e-09 2.6979346e-02 7.4593105e-09 2.3733917e-06 1.6231430e-03\n",
            "  1.2258956e-01 2.2521003e-06 7.9574516e-09 5.8700969e-03 3.8747757e-04\n",
            "  3.3617301e-03 7.2294948e-09 2.7283156e-04 3.4379755e-04 2.4945189e-01\n",
            "  1.0592896e-02 3.7329937e-06 7.7454709e-09 2.0854352e-03 2.4850560e-02\n",
            "  6.4340453e-03 6.1110442e-04 8.8123952e-06 2.6252335e-03 1.7526187e-01\n",
            "  7.3601978e-09 2.4026001e-03 7.2851782e-03 6.4833625e-03 1.2876472e-02\n",
            "  1.8710861e-01]] (1, 41)\n",
            "tf.Tensor([24], shape=(1,), dtype=int64)\n",
            "[['what are y', 'e']]\n",
            "what are ye\n"
          ]
        }
      ],
      "source": [
        "input_string = [[\"what are y\"]]\n",
        "\n",
        "def convert(string):\n",
        "  input_string = [i for i in string[0][0]]\n",
        "  input_string_arr = [token_to_indx[i] for i in input_string]\n",
        "  input_string_arr = pad_sequences([input_string_arr], maxlen=10, padding=\"pre\", value=0)\n",
        "  input_string_arr = tf.keras.utils.to_categorical(input_string_arr, num_classes=vocab_size)\n",
        "  return input_string_arr\n",
        "\n",
        "input_string_arr = convert(input_string)\n",
        "\n",
        "y_preds = model.predict(input_string_arr)\n",
        "print(y_preds, y_preds.shape)\n",
        "\n",
        "probabilities = tf.argmax(y_preds, axis=1)\n",
        "print(probabilities)\n",
        "input_string[0].append(indx_to_token[int(probabilities)])\n",
        "print(input_string)\n",
        "print(\"\".join(input_string[0]))"
      ]
    },
    {
      "cell_type": "code",
      "source": [
        "def sort(ran, y_preds):\n",
        "  arr = []\n",
        "  for i in range(ran):\n",
        "    p = tf.argmax(y_preds, axis=1)\n",
        "    arr.append(p)\n",
        "    y_preds[0][p] = 0\n",
        "  return arr"
      ],
      "metadata": {
        "id": "FmCc0xY7BV9l"
      },
      "execution_count": 98,
      "outputs": []
    },
    {
      "cell_type": "code",
      "source": [],
      "metadata": {
        "colab": {
          "base_uri": "https://localhost:8080/",
          "height": 141
        },
        "id": "-DJImGMuFel9",
        "outputId": "bb1df9b4-f27e-4f28-9646-9910e62a6fc2"
      },
      "execution_count": 118,
      "outputs": [
        {
          "output_type": "error",
          "ename": "IndexError",
          "evalue": "list index out of range",
          "traceback": [
            "\u001b[0;31m---------------------------------------------------------------------------\u001b[0m",
            "\u001b[0;31mIndexError\u001b[0m                                Traceback (most recent call last)",
            "\u001b[0;32m<ipython-input-118-6ed2e13b19d7>\u001b[0m in \u001b[0;36m<cell line: 0>\u001b[0;34m()\u001b[0m\n\u001b[0;32m----> 1\u001b[0;31m \u001b[0msort\u001b[0m\u001b[0;34m(\u001b[0m\u001b[0;36m1\u001b[0m\u001b[0;34m,\u001b[0m \u001b[0my_preds\u001b[0m\u001b[0;34m)\u001b[0m\u001b[0;34m[\u001b[0m\u001b[0;36m1\u001b[0m\u001b[0;34m]\u001b[0m\u001b[0;34m\u001b[0m\u001b[0;34m\u001b[0m\u001b[0m\n\u001b[0m",
            "\u001b[0;31mIndexError\u001b[0m: list index out of range"
          ]
        }
      ]
    },
    {
      "cell_type": "code",
      "source": [
        "import random\n",
        "\n",
        "loop_string = [[\"what are y\"]]\n",
        "arr_input = convert(loop_string)\n",
        "\n",
        "def predict_loop(string_input, arr_input, output_length, creativity=1):\n",
        "  for i in range(output_length):\n",
        "    y_preds = model.predict(arr_input)\n",
        "\n",
        "    labels = sort(creativity, y_preds)\n",
        "    label = labels[random.randint(0, creativity - 1)]\n",
        "\n",
        "    predicted_word = indx_to_token[int(label)]\n",
        "    string_input[0].append(predicted_word)\n",
        "    string_input = [[\"\".join(string_input[0])]]\n",
        "\n",
        "    new_string = [[string_input[0][0][i + 1:]]]\n",
        "    print(new_string)\n",
        "\n",
        "    arr_input = convert(new_string)\n",
        "\n",
        "  return string_input[0][0]\n"
      ],
      "metadata": {
        "id": "C0TzLOJXek-A"
      },
      "execution_count": 123,
      "outputs": []
    },
    {
      "cell_type": "code",
      "source": [
        "predict_loop(loop_string, arr_input, 10, creativity=5)"
      ],
      "metadata": {
        "id": "kMrdK9Bxg12Z",
        "colab": {
          "base_uri": "https://localhost:8080/",
          "height": 382
        },
        "outputId": "4db82e2d-63b6-4364-a9fc-edb151320297"
      },
      "execution_count": 124,
      "outputs": [
        {
          "output_type": "stream",
          "name": "stdout",
          "text": [
            "\u001b[1m1/1\u001b[0m \u001b[32m━━━━━━━━━━━━━━━━━━━━\u001b[0m\u001b[37m\u001b[0m \u001b[1m0s\u001b[0m 35ms/step\n",
            "[['hat are ye']]\n",
            "\u001b[1m1/1\u001b[0m \u001b[32m━━━━━━━━━━━━━━━━━━━━\u001b[0m\u001b[37m\u001b[0m \u001b[1m0s\u001b[0m 44ms/step\n",
            "[['at are yea']]\n",
            "\u001b[1m1/1\u001b[0m \u001b[32m━━━━━━━━━━━━━━━━━━━━\u001b[0m\u001b[37m\u001b[0m \u001b[1m0s\u001b[0m 32ms/step\n",
            "[['t are year']]\n",
            "\u001b[1m1/1\u001b[0m \u001b[32m━━━━━━━━━━━━━━━━━━━━\u001b[0m\u001b[37m\u001b[0m \u001b[1m0s\u001b[0m 35ms/step\n",
            "[[' are year ']]\n",
            "\u001b[1m1/1\u001b[0m \u001b[32m━━━━━━━━━━━━━━━━━━━━\u001b[0m\u001b[37m\u001b[0m \u001b[1m0s\u001b[0m 33ms/step\n",
            "[['are year o']]\n",
            "\u001b[1m1/1\u001b[0m \u001b[32m━━━━━━━━━━━━━━━━━━━━\u001b[0m\u001b[37m\u001b[0m \u001b[1m0s\u001b[0m 33ms/step\n",
            "[['re year os']]\n",
            "\u001b[1m1/1\u001b[0m \u001b[32m━━━━━━━━━━━━━━━━━━━━\u001b[0m\u001b[37m\u001b[0m \u001b[1m0s\u001b[0m 34ms/step\n",
            "[['e year os ']]\n",
            "\u001b[1m1/1\u001b[0m \u001b[32m━━━━━━━━━━━━━━━━━━━━\u001b[0m\u001b[37m\u001b[0m \u001b[1m0s\u001b[0m 31ms/step\n",
            "[[' year os a']]\n",
            "\u001b[1m1/1\u001b[0m \u001b[32m━━━━━━━━━━━━━━━━━━━━\u001b[0m\u001b[37m\u001b[0m \u001b[1m0s\u001b[0m 32ms/step\n",
            "[['year os ar']]\n",
            "\u001b[1m1/1\u001b[0m \u001b[32m━━━━━━━━━━━━━━━━━━━━\u001b[0m\u001b[37m\u001b[0m \u001b[1m0s\u001b[0m 33ms/step\n",
            "[['ear os ari']]\n"
          ]
        },
        {
          "output_type": "execute_result",
          "data": {
            "text/plain": [
              "'what are year os ari'"
            ],
            "application/vnd.google.colaboratory.intrinsic+json": {
              "type": "string"
            }
          },
          "metadata": {},
          "execution_count": 124
        }
      ]
    },
    {
      "cell_type": "code",
      "execution_count": null,
      "metadata": {
        "id": "2rkiQ_-V3Rdc",
        "collapsed": true
      },
      "outputs": [],
      "source": [
        "# Evaluating the model\n",
        "model.evaluate(X_test_cat, y_test_cat)"
      ]
    },
    {
      "cell_type": "code",
      "source": [
        "model.save(\"model_0.keras\")"
      ],
      "metadata": {
        "id": "ESIyc_glQ1Rp"
      },
      "execution_count": null,
      "outputs": []
    }
  ],
  "metadata": {
    "colab": {
      "provenance": [],
      "gpuType": "T4",
      "authorship_tag": "ABX9TyNwMIqKB9GuX1k2fN+SaZ7D",
      "include_colab_link": true
    },
    "kernelspec": {
      "display_name": "Python 3",
      "name": "python3"
    },
    "language_info": {
      "name": "python"
    },
    "accelerator": "GPU"
  },
  "nbformat": 4,
  "nbformat_minor": 0
}