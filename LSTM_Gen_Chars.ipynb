{
  "cells": [
    {
      "cell_type": "markdown",
      "metadata": {
        "id": "view-in-github",
        "colab_type": "text"
      },
      "source": [
        "<a href=\"https://colab.research.google.com/github/Timure228/LSTM_Based_Text_Generator/blob/main/LSTM_Gen_Chars.ipynb\" target=\"_parent\"><img src=\"https://colab.research.google.com/assets/colab-badge.svg\" alt=\"Open In Colab\"/></a>"
      ]
    },
    {
      "cell_type": "markdown",
      "source": [
        "# LSTM Chars Generator"
      ],
      "metadata": {
        "id": "qB-TkSVoTQv9"
      }
    },
    {
      "cell_type": "code",
      "execution_count": null,
      "metadata": {
        "id": "nv0VkpkjjKyv"
      },
      "outputs": [],
      "source": [
        "import torch\n",
        "from torch import nn\n",
        "from torch.nn import RNN, LSTM, Dropout\n",
        "\n",
        "import tensorflow as tf\n",
        "import tensorflow_datasets as tfds\n",
        "from tensorflow.keras.preprocessing.sequence import pad_sequences\n",
        "from tensorflow.keras.utils import to_categorical\n",
        "\n",
        "import regex\n",
        "import string\n",
        "\n",
        "import numpy as np"
      ]
    },
    {
      "cell_type": "code",
      "execution_count": null,
      "metadata": {
        "colab": {
          "base_uri": "https://localhost:8080/"
        },
        "id": "Gi9LRPGeHxAv",
        "outputId": "ad3d0a7a-c789-4283-b5c1-06ceb5950f56"
      },
      "outputs": [
        {
          "output_type": "execute_result",
          "data": {
            "text/plain": [
              "7841"
            ]
          },
          "metadata": {},
          "execution_count": 2
        }
      ],
      "source": [
        "FILE = \"lstb.txt\"\n",
        "with open(FILE, \"r\") as f:\n",
        "  lines_amount = f.read().count(\"\\n\") + 1\n",
        "\n",
        "lines_amount"
      ]
    },
    {
      "cell_type": "code",
      "execution_count": null,
      "metadata": {
        "id": "iE4hVCEJ-Pc9"
      },
      "outputs": [],
      "source": [
        "translator = str.maketrans('', '', string.punctuation)"
      ]
    },
    {
      "cell_type": "code",
      "execution_count": null,
      "metadata": {
        "colab": {
          "base_uri": "https://localhost:8080/"
        },
        "id": "Yw2xpXDmFnA6",
        "outputId": "b48dfe79-7a52-4ef7-c8d1-a17054a41a88"
      },
      "outputs": [
        {
          "output_type": "stream",
          "name": "stdout",
          "text": [
            "408\n"
          ]
        }
      ],
      "source": [
        "import re\n",
        "\n",
        "with open(FILE, \"r\") as f:\n",
        "  text = f.read()\n",
        "  text = text.strip().translate(translator).lower()\n",
        "  text = text[:int(len(text)*0.05) + 1]\n",
        "  print(text.count(\"\\n\") + 1)\n",
        "\n",
        "# print(f\"Before: {len(text)}\")\n",
        "\n",
        "# text = re.sub('\\)', '',text)\n",
        "# text = re.sub('\\(', '',text)\n",
        "\n",
        "# for pattern in set(re.findall('<unk>', text)):\n",
        "#   text = re.sub(pattern, '', text)\n",
        "\n",
        "# print(f\"After: {len(text)}\")"
      ]
    },
    {
      "cell_type": "code",
      "source": [
        "train_text = text[:int(len(text)*0.8)]\n",
        "test_text = text[int(len(text)*0.8):]"
      ],
      "metadata": {
        "id": "DIOH1czwPRHg"
      },
      "execution_count": null,
      "outputs": []
    },
    {
      "cell_type": "code",
      "execution_count": null,
      "metadata": {
        "colab": {
          "base_uri": "https://localhost:8080/"
        },
        "id": "9ULztpcxPBzL",
        "outputId": "bf0d3073-c3da-4403-cabc-61734fbb97a3"
      },
      "outputs": [
        {
          "output_type": "execute_result",
          "data": {
            "text/plain": [
              "(['\\n',\n",
              "  ' ',\n",
              "  '1',\n",
              "  '2',\n",
              "  '8',\n",
              "  '9',\n",
              "  'a',\n",
              "  'b',\n",
              "  'c',\n",
              "  'd',\n",
              "  'e',\n",
              "  'f',\n",
              "  'g',\n",
              "  'h',\n",
              "  'i',\n",
              "  'j',\n",
              "  'k',\n",
              "  'l',\n",
              "  'm',\n",
              "  'n',\n",
              "  'o',\n",
              "  'p',\n",
              "  'q',\n",
              "  'r',\n",
              "  's',\n",
              "  't',\n",
              "  'u',\n",
              "  'v',\n",
              "  'w',\n",
              "  'x',\n",
              "  'y',\n",
              "  'z',\n",
              "  'à',\n",
              "  'ê'],\n",
              " 34)"
            ]
          },
          "metadata": {},
          "execution_count": 34
        }
      ],
      "source": [
        "# Tokenize\n",
        "tokens = []\n",
        "for i in text:\n",
        "  tokens.append(i)\n",
        "\n",
        "tokens = list(set(tokens))\n",
        "vocab_size = len(tokens)\n",
        "sorted(tokens), vocab_size"
      ]
    },
    {
      "cell_type": "code",
      "execution_count": null,
      "metadata": {
        "collapsed": true,
        "id": "VUFMlZb62Fx8"
      },
      "outputs": [],
      "source": [
        "indx_to_token = {indx: token for indx, token in enumerate(tokens)}\n",
        "token_to_indx = {token: indx for indx, token in enumerate(tokens)}"
      ]
    },
    {
      "cell_type": "code",
      "execution_count": null,
      "metadata": {
        "id": "5RWKrKsPKKum",
        "collapsed": true
      },
      "outputs": [],
      "source": [
        "# Create encode and decode function\n",
        "def encode(arr: list, token_to_indx=token_to_indx):\n",
        "  for i in arr:\n",
        "    for j in range(len(i)):\n",
        "      i[j] = token_to_indx[i[j]]\n",
        "  return arr\n",
        "\n",
        "def decode(arr: list, indx_to_token=indx_to_token):\n",
        "  for i in arr:\n",
        "    for j in range(len(i)):\n",
        "      i[j] = indx_to_token[i[j]]\n",
        "  return arr"
      ]
    },
    {
      "cell_type": "code",
      "source": [
        "SEQ_LENGTH = 10\n",
        "\n",
        "def create_sequence(X: list, y: list, text: str, SEQ_LENGTH = SEQ_LENGTH, STEP=1):\n",
        "  for i in range(0, len(text)- SEQ_LENGTH, STEP):\n",
        "    chars = []\n",
        "    for j in range(i + SEQ_LENGTH):\n",
        "      chars.append(text[j])\n",
        "    X.append(chars)\n",
        "    y.append([text[i+SEQ_LENGTH]])\n",
        "  return X, y"
      ],
      "metadata": {
        "id": "8-avz4eB74mi"
      },
      "execution_count": null,
      "outputs": []
    },
    {
      "cell_type": "code",
      "execution_count": null,
      "metadata": {
        "colab": {
          "base_uri": "https://localhost:8080/"
        },
        "id": "EO2Uc-wBcAxg",
        "outputId": "e6a10114-d66c-4f54-e524-de5ae19aba96"
      },
      "outputs": [
        {
          "output_type": "execute_result",
          "data": {
            "text/plain": [
              "(['w', ' ', 't', 'r', 'i', 'f', 'l', 'i', 'n', 'g', ' '], ['p'])"
            ]
          },
          "metadata": {},
          "execution_count": 41
        }
      ],
      "source": [
        "# Creating the sequences\n",
        "X_train = []\n",
        "y_train = []\n",
        "\n",
        "X_test = []\n",
        "y_test = []\n",
        "\n",
        "X_train, y_train = create_sequence(X_train, y_train, train_text, SEQ_LENGTH=10)\n",
        "X_test, y_test = create_sequence(X_test, y_test, test_text, SEQ_LENGTH=10)\n",
        "\n",
        "X_test[1], y_test[1]"
      ]
    },
    {
      "cell_type": "code",
      "source": [
        "# Encoding, converting to numerical\n",
        "X_train = encode(X_train)\n",
        "y_train = encode(y_train)"
      ],
      "metadata": {
        "id": "o1qgt-aqxdxB"
      },
      "execution_count": null,
      "outputs": []
    },
    {
      "cell_type": "code",
      "source": [
        "X_test = encode(X_test)\n",
        "y_test = encode(y_test)"
      ],
      "metadata": {
        "id": "-BTNPmTkRG5I"
      },
      "execution_count": null,
      "outputs": []
    },
    {
      "cell_type": "code",
      "execution_count": null,
      "metadata": {
        "id": "h2kRTL4bZttO"
      },
      "outputs": [],
      "source": [
        "# Padding X and y\n",
        "X_train_padded = pad_sequences(X_train, maxlen=10, padding='post', value=0)  # 'post' means pad at the end of each sequence\n",
        "y_train_padded = pad_sequences(y_train, maxlen=10, padding='post', value=0)\n",
        "\n",
        "X_test_padded = pad_sequences(X_test, maxlen=10, padding='post', value=0)\n",
        "y_test_padded = pad_sequences(y_test, maxlen=10, padding='post', value=0)"
      ]
    },
    {
      "cell_type": "code",
      "execution_count": null,
      "metadata": {
        "colab": {
          "base_uri": "https://localhost:8080/"
        },
        "id": "O1sZUgwKeCi0",
        "outputId": "b9ae3a11-5e93-4312-9374-fcc34b0e54e5"
      },
      "outputs": [
        {
          "output_type": "stream",
          "name": "stdout",
          "text": [
            "X Shape: (15404, 10) | y shape: (15404, 10)\n"
          ]
        }
      ],
      "source": [
        "print(f\"X Shape: {X_train_padded.shape} | y shape: {y_train_padded.shape}\")"
      ]
    },
    {
      "cell_type": "code",
      "execution_count": null,
      "metadata": {
        "id": "kAjFFhQl0xGy"
      },
      "outputs": [],
      "source": [
        "# Converting X and y to categorical vectors\n",
        "X_train_cat = to_categorical(X_train_padded, num_classes=vocab_size)\n",
        "y_train_cat = to_categorical(y_train_padded, num_classes=vocab_size)"
      ]
    },
    {
      "cell_type": "code",
      "source": [
        "X_test_cat = to_categorical(X_test_padded, num_classes=vocab_size)\n",
        "y_test_cat = to_categorical(y_test_padded, num_classes=vocab_size)"
      ],
      "metadata": {
        "id": "asCVgPS_7ukg"
      },
      "execution_count": null,
      "outputs": []
    },
    {
      "cell_type": "code",
      "execution_count": null,
      "metadata": {
        "id": "_6eD20YK1hxr",
        "colab": {
          "base_uri": "https://localhost:8080/"
        },
        "outputId": "261a98af-ce91-49dd-cbcd-c943baf83475"
      },
      "outputs": [
        {
          "output_type": "stream",
          "name": "stdout",
          "text": [
            "X Rank: 3 | y Rank: 3\n",
            "X Shape: (15404, 10, 34) | y shape: (15404, 10, 34)\n",
            "X Type: <class 'numpy.ndarray'> | y Type: <class 'numpy.ndarray'>\n"
          ]
        }
      ],
      "source": [
        "# Check the ranks of X and y\n",
        "print(f\"X Rank: {tf.rank(X_train_cat)} | y Rank: {tf.rank(y_train_cat)}\")\n",
        "print(f\"X Shape: {X_train_cat.shape} | y shape: {y_train_cat.shape}\")\n",
        "print(f\"X Type: {type(X_train_cat)} | y Type: {type(y_train_cat)}\")"
      ]
    },
    {
      "cell_type": "code",
      "execution_count": null,
      "metadata": {
        "id": "8S_U52wuJgNp"
      },
      "outputs": [],
      "source": [
        "import keras\n",
        "from keras.models import Sequential\n",
        "from keras.layers import Dense, LSTM, Embedding, Dropout"
      ]
    },
    {
      "cell_type": "markdown",
      "source": [
        "# TensorFlow Based"
      ],
      "metadata": {
        "id": "Oc-63WvqGWd9"
      }
    },
    {
      "cell_type": "code",
      "execution_count": 139,
      "metadata": {
        "id": "bNnQfMEHgeqy"
      },
      "outputs": [],
      "source": [
        "model = Sequential()\n",
        "model.add(keras.layers.Input(shape=(41, X_train_cat.shape[2])))\n",
        "model.add(Dropout(rate=0.2))\n",
        "model.add(LSTM(128, return_sequences=True))\n",
        "model.add(LSTM(64, return_sequences=True))\n",
        "model.add(Dense(64, activation='relu'))\n",
        "model.add(Dropout(rate=0.5))\n",
        "model.add(Dense(vocab_size, activation='softmax'))\n",
        "model.compile(loss='categorical_crossentropy', optimizer='adam', metrics=['accuracy'])"
      ]
    },
    {
      "cell_type": "code",
      "execution_count": 140,
      "metadata": {
        "id": "g1QcBuvyL_P5",
        "colab": {
          "base_uri": "https://localhost:8080/"
        },
        "outputId": "e2ab7053-148b-435d-a785-80b61629fb56"
      },
      "outputs": [
        {
          "output_type": "stream",
          "name": "stdout",
          "text": [
            "Epoch 1/5\n",
            "\u001b[1m482/482\u001b[0m \u001b[32m━━━━━━━━━━━━━━━━━━━━\u001b[0m\u001b[37m\u001b[0m \u001b[1m6s\u001b[0m 8ms/step - accuracy: 0.8741 - loss: 0.8774\n",
            "Epoch 2/5\n",
            "\u001b[1m482/482\u001b[0m \u001b[32m━━━━━━━━━━━━━━━━━━━━\u001b[0m\u001b[37m\u001b[0m \u001b[1m3s\u001b[0m 7ms/step - accuracy: 0.9234 - loss: 0.2904\n",
            "Epoch 3/5\n",
            "\u001b[1m482/482\u001b[0m \u001b[32m━━━━━━━━━━━━━━━━━━━━\u001b[0m\u001b[37m\u001b[0m \u001b[1m4s\u001b[0m 8ms/step - accuracy: 0.9247 - loss: 0.2834\n",
            "Epoch 4/5\n",
            "\u001b[1m482/482\u001b[0m \u001b[32m━━━━━━━━━━━━━━━━━━━━\u001b[0m\u001b[37m\u001b[0m \u001b[1m5s\u001b[0m 8ms/step - accuracy: 0.9246 - loss: 0.2818\n",
            "Epoch 5/5\n",
            "\u001b[1m482/482\u001b[0m \u001b[32m━━━━━━━━━━━━━━━━━━━━\u001b[0m\u001b[37m\u001b[0m \u001b[1m4s\u001b[0m 7ms/step - accuracy: 0.9243 - loss: 0.2818\n"
          ]
        }
      ],
      "source": [
        "history = model.fit(X_train_cat, y_train_cat, epochs=5, verbose=1)"
      ]
    },
    {
      "cell_type": "code",
      "execution_count": 141,
      "metadata": {
        "colab": {
          "base_uri": "https://localhost:8080/",
          "height": 447
        },
        "id": "HCnJocw41PWy",
        "outputId": "8555e541-23c7-4261-e73a-0a8d0cb611a1"
      },
      "outputs": [
        {
          "output_type": "execute_result",
          "data": {
            "text/plain": [
              "[<matplotlib.lines.Line2D at 0x7ef9522a6010>]"
            ]
          },
          "metadata": {},
          "execution_count": 141
        },
        {
          "output_type": "display_data",
          "data": {
            "text/plain": [
              "<Figure size 640x480 with 1 Axes>"
            ],
            "image/png": "[encoded data removed]"
          },
          "metadata": {}
        }
      ],
      "source": [
        "# Plot the Loss Curve\n",
        "import matplotlib.pyplot as plt\n",
        "\n",
        "plt.plot(history.epoch, history.history[\"loss\"])"
      ]
    },
    {
      "cell_type": "code",
      "execution_count": 142,
      "metadata": {
        "colab": {
          "base_uri": "https://localhost:8080/",
          "height": 337
        },
        "id": "SvvMdsmP1tQt",
        "outputId": "26d93a21-5d5a-46ce-d190-b2b5f57db1fc"
      },
      "outputs": [
        {
          "output_type": "display_data",
          "data": {
            "text/plain": [
              "\u001b[1mModel: \"sequential_4\"\u001b[0m\n"
            ],
            "text/html": [
              "<pre style=\"white-space:pre;overflow-x:auto;line-height:normal;font-family:Menlo,'DejaVu Sans Mono',consolas,'Courier New',monospace\"><span style=\"font-weight: bold\">Model: \"sequential_4\"</span>\n",
              "</pre>\n"
            ]
          },
          "metadata": {}
        },
        {
          "output_type": "display_data",
          "data": {
            "text/plain": [
              "┏━━━━━━━━━━━━━━━━━━━━━━━━━━━━━━━━━━━━━━┳━━━━━━━━━━━━━━━━━━━━━━━━━━━━━┳━━━━━━━━━━━━━━━━━┓\n",
              "┃\u001b[1m \u001b[0m\u001b[1mLayer (type)                        \u001b[0m\u001b[1m \u001b[0m┃\u001b[1m \u001b[0m\u001b[1mOutput Shape               \u001b[0m\u001b[1m \u001b[0m┃\u001b[1m \u001b[0m\u001b[1m        Param #\u001b[0m\u001b[1m \u001b[0m┃\n",
              "┡━━━━━━━━━━━━━━━━━━━━━━━━━━━━━━━━━━━━━━╇━━━━━━━━━━━━━━━━━━━━━━━━━━━━━╇━━━━━━━━━━━━━━━━━┩\n",
              "│ dropout_8 (\u001b[38;5;33mDropout\u001b[0m)                  │ (\u001b[38;5;45mNone\u001b[0m, \u001b[38;5;34m41\u001b[0m, \u001b[38;5;34m34\u001b[0m)              │               \u001b[38;5;34m0\u001b[0m │\n",
              "├──────────────────────────────────────┼─────────────────────────────┼─────────────────┤\n",
              "│ lstm_8 (\u001b[38;5;33mLSTM\u001b[0m)                        │ (\u001b[38;5;45mNone\u001b[0m, \u001b[38;5;34m41\u001b[0m, \u001b[38;5;34m128\u001b[0m)             │          \u001b[38;5;34m83,456\u001b[0m │\n",
              "├──────────────────────────────────────┼─────────────────────────────┼─────────────────┤\n",
              "│ lstm_9 (\u001b[38;5;33mLSTM\u001b[0m)                        │ (\u001b[38;5;45mNone\u001b[0m, \u001b[38;5;34m41\u001b[0m, \u001b[38;5;34m64\u001b[0m)              │          \u001b[38;5;34m49,408\u001b[0m │\n",
              "├──────────────────────────────────────┼─────────────────────────────┼─────────────────┤\n",
              "│ dense_8 (\u001b[38;5;33mDense\u001b[0m)                      │ (\u001b[38;5;45mNone\u001b[0m, \u001b[38;5;34m41\u001b[0m, \u001b[38;5;34m64\u001b[0m)              │           \u001b[38;5;34m4,160\u001b[0m │\n",
              "├──────────────────────────────────────┼─────────────────────────────┼─────────────────┤\n",
              "│ dropout_9 (\u001b[38;5;33mDropout\u001b[0m)                  │ (\u001b[38;5;45mNone\u001b[0m, \u001b[38;5;34m41\u001b[0m, \u001b[38;5;34m64\u001b[0m)              │               \u001b[38;5;34m0\u001b[0m │\n",
              "├──────────────────────────────────────┼─────────────────────────────┼─────────────────┤\n",
              "│ dense_9 (\u001b[38;5;33mDense\u001b[0m)                      │ (\u001b[38;5;45mNone\u001b[0m, \u001b[38;5;34m41\u001b[0m, \u001b[38;5;34m34\u001b[0m)              │           \u001b[38;5;34m2,210\u001b[0m │\n",
              "└──────────────────────────────────────┴─────────────────────────────┴─────────────────┘\n"
            ],
            "text/html": [
              "<pre style=\"white-space:pre;overflow-x:auto;line-height:normal;font-family:Menlo,'DejaVu Sans Mono',consolas,'Courier New',monospace\">┏━━━━━━━━━━━━━━━━━━━━━━━━━━━━━━━━━━━━━━┳━━━━━━━━━━━━━━━━━━━━━━━━━━━━━┳━━━━━━━━━━━━━━━━━┓\n",
              "┃<span style=\"font-weight: bold\"> Layer (type)                         </span>┃<span style=\"font-weight: bold\"> Output Shape                </span>┃<span style=\"font-weight: bold\">         Param # </span>┃\n",
              "┡━━━━━━━━━━━━━━━━━━━━━━━━━━━━━━━━━━━━━━╇━━━━━━━━━━━━━━━━━━━━━━━━━━━━━╇━━━━━━━━━━━━━━━━━┩\n",
              "│ dropout_8 (<span style=\"color: #0087ff; text-decoration-color: #0087ff\">Dropout</span>)                  │ (<span style=\"color: #00d7ff; text-decoration-color: #00d7ff\">None</span>, <span style=\"color: #00af00; text-decoration-color: #00af00\">41</span>, <span style=\"color: #00af00; text-decoration-color: #00af00\">34</span>)              │               <span style=\"color: #00af00; text-decoration-color: #00af00\">0</span> │\n",
              "├──────────────────────────────────────┼─────────────────────────────┼─────────────────┤\n",
              "│ lstm_8 (<span style=\"color: #0087ff; text-decoration-color: #0087ff\">LSTM</span>)                        │ (<span style=\"color: #00d7ff; text-decoration-color: #00d7ff\">None</span>, <span style=\"color: #00af00; text-decoration-color: #00af00\">41</span>, <span style=\"color: #00af00; text-decoration-color: #00af00\">128</span>)             │          <span style=\"color: #00af00; text-decoration-color: #00af00\">83,456</span> │\n",
              "├──────────────────────────────────────┼─────────────────────────────┼─────────────────┤\n",
              "│ lstm_9 (<span style=\"color: #0087ff; text-decoration-color: #0087ff\">LSTM</span>)                        │ (<span style=\"color: #00d7ff; text-decoration-color: #00d7ff\">None</span>, <span style=\"color: #00af00; text-decoration-color: #00af00\">41</span>, <span style=\"color: #00af00; text-decoration-color: #00af00\">64</span>)              │          <span style=\"color: #00af00; text-decoration-color: #00af00\">49,408</span> │\n",
              "├──────────────────────────────────────┼─────────────────────────────┼─────────────────┤\n",
              "│ dense_8 (<span style=\"color: #0087ff; text-decoration-color: #0087ff\">Dense</span>)                      │ (<span style=\"color: #00d7ff; text-decoration-color: #00d7ff\">None</span>, <span style=\"color: #00af00; text-decoration-color: #00af00\">41</span>, <span style=\"color: #00af00; text-decoration-color: #00af00\">64</span>)              │           <span style=\"color: #00af00; text-decoration-color: #00af00\">4,160</span> │\n",
              "├──────────────────────────────────────┼─────────────────────────────┼─────────────────┤\n",
              "│ dropout_9 (<span style=\"color: #0087ff; text-decoration-color: #0087ff\">Dropout</span>)                  │ (<span style=\"color: #00d7ff; text-decoration-color: #00d7ff\">None</span>, <span style=\"color: #00af00; text-decoration-color: #00af00\">41</span>, <span style=\"color: #00af00; text-decoration-color: #00af00\">64</span>)              │               <span style=\"color: #00af00; text-decoration-color: #00af00\">0</span> │\n",
              "├──────────────────────────────────────┼─────────────────────────────┼─────────────────┤\n",
              "│ dense_9 (<span style=\"color: #0087ff; text-decoration-color: #0087ff\">Dense</span>)                      │ (<span style=\"color: #00d7ff; text-decoration-color: #00d7ff\">None</span>, <span style=\"color: #00af00; text-decoration-color: #00af00\">41</span>, <span style=\"color: #00af00; text-decoration-color: #00af00\">34</span>)              │           <span style=\"color: #00af00; text-decoration-color: #00af00\">2,210</span> │\n",
              "└──────────────────────────────────────┴─────────────────────────────┴─────────────────┘\n",
              "</pre>\n"
            ]
          },
          "metadata": {}
        },
        {
          "output_type": "display_data",
          "data": {
            "text/plain": [
              "\u001b[1m Total params: \u001b[0m\u001b[38;5;34m417,704\u001b[0m (1.59 MB)\n"
            ],
            "text/html": [
              "<pre style=\"white-space:pre;overflow-x:auto;line-height:normal;font-family:Menlo,'DejaVu Sans Mono',consolas,'Courier New',monospace\"><span style=\"font-weight: bold\"> Total params: </span><span style=\"color: #00af00; text-decoration-color: #00af00\">417,704</span> (1.59 MB)\n",
              "</pre>\n"
            ]
          },
          "metadata": {}
        },
        {
          "output_type": "display_data",
          "data": {
            "text/plain": [
              "\u001b[1m Trainable params: \u001b[0m\u001b[38;5;34m139,234\u001b[0m (543.88 KB)\n"
            ],
            "text/html": [
              "<pre style=\"white-space:pre;overflow-x:auto;line-height:normal;font-family:Menlo,'DejaVu Sans Mono',consolas,'Courier New',monospace\"><span style=\"font-weight: bold\"> Trainable params: </span><span style=\"color: #00af00; text-decoration-color: #00af00\">139,234</span> (543.88 KB)\n",
              "</pre>\n"
            ]
          },
          "metadata": {}
        },
        {
          "output_type": "display_data",
          "data": {
            "text/plain": [
              "\u001b[1m Non-trainable params: \u001b[0m\u001b[38;5;34m0\u001b[0m (0.00 B)\n"
            ],
            "text/html": [
              "<pre style=\"white-space:pre;overflow-x:auto;line-height:normal;font-family:Menlo,'DejaVu Sans Mono',consolas,'Courier New',monospace\"><span style=\"font-weight: bold\"> Non-trainable params: </span><span style=\"color: #00af00; text-decoration-color: #00af00\">0</span> (0.00 B)\n",
              "</pre>\n"
            ]
          },
          "metadata": {}
        },
        {
          "output_type": "display_data",
          "data": {
            "text/plain": [
              "\u001b[1m Optimizer params: \u001b[0m\u001b[38;5;34m278,470\u001b[0m (1.06 MB)\n"
            ],
            "text/html": [
              "<pre style=\"white-space:pre;overflow-x:auto;line-height:normal;font-family:Menlo,'DejaVu Sans Mono',consolas,'Courier New',monospace\"><span style=\"font-weight: bold\"> Optimizer params: </span><span style=\"color: #00af00; text-decoration-color: #00af00\">278,470</span> (1.06 MB)\n",
              "</pre>\n"
            ]
          },
          "metadata": {}
        }
      ],
      "source": [
        "# Model structure\n",
        "model.summary()"
      ]
    },
    {
      "cell_type": "code",
      "execution_count": 158,
      "metadata": {
        "colab": {
          "base_uri": "https://localhost:8080/"
        },
        "id": "baUES5EQDfz5",
        "outputId": "5004586b-5829-4674-b748-ba09e7906177"
      },
      "outputs": [
        {
          "output_type": "stream",
          "name": "stdout",
          "text": [
            "[[ 7 19 18 26 27 18 26 33 19 27]]\n",
            "[[[0. 0. 0. 0. 0. 0. 0. 1. 0. 0. 0. 0. 0. 0. 0. 0. 0. 0. 0. 0. 0. 0. 0.\n",
            "   0. 0. 0. 0. 0. 0. 0. 0. 0. 0. 0.]\n",
            "  [0. 0. 0. 0. 0. 0. 0. 0. 0. 0. 0. 0. 0. 0. 0. 0. 0. 0. 0. 1. 0. 0. 0.\n",
            "   0. 0. 0. 0. 0. 0. 0. 0. 0. 0. 0.]\n",
            "  [0. 0. 0. 0. 0. 0. 0. 0. 0. 0. 0. 0. 0. 0. 0. 0. 0. 0. 1. 0. 0. 0. 0.\n",
            "   0. 0. 0. 0. 0. 0. 0. 0. 0. 0. 0.]\n",
            "  [0. 0. 0. 0. 0. 0. 0. 0. 0. 0. 0. 0. 0. 0. 0. 0. 0. 0. 0. 0. 0. 0. 0.\n",
            "   0. 0. 0. 1. 0. 0. 0. 0. 0. 0. 0.]\n",
            "  [0. 0. 0. 0. 0. 0. 0. 0. 0. 0. 0. 0. 0. 0. 0. 0. 0. 0. 0. 0. 0. 0. 0.\n",
            "   0. 0. 0. 0. 1. 0. 0. 0. 0. 0. 0.]\n",
            "  [0. 0. 0. 0. 0. 0. 0. 0. 0. 0. 0. 0. 0. 0. 0. 0. 0. 0. 1. 0. 0. 0. 0.\n",
            "   0. 0. 0. 0. 0. 0. 0. 0. 0. 0. 0.]\n",
            "  [0. 0. 0. 0. 0. 0. 0. 0. 0. 0. 0. 0. 0. 0. 0. 0. 0. 0. 0. 0. 0. 0. 0.\n",
            "   0. 0. 0. 1. 0. 0. 0. 0. 0. 0. 0.]\n",
            "  [0. 0. 0. 0. 0. 0. 0. 0. 0. 0. 0. 0. 0. 0. 0. 0. 0. 0. 0. 0. 0. 0. 0.\n",
            "   0. 0. 0. 0. 0. 0. 0. 0. 0. 0. 1.]\n",
            "  [0. 0. 0. 0. 0. 0. 0. 0. 0. 0. 0. 0. 0. 0. 0. 0. 0. 0. 0. 1. 0. 0. 0.\n",
            "   0. 0. 0. 0. 0. 0. 0. 0. 0. 0. 0.]\n",
            "  [0. 0. 0. 0. 0. 0. 0. 0. 0. 0. 0. 0. 0. 0. 0. 0. 0. 0. 0. 0. 0. 0. 0.\n",
            "   0. 0. 0. 0. 1. 0. 0. 0. 0. 0. 0.]]]\n",
            "\u001b[1m1/1\u001b[0m \u001b[32m━━━━━━━━━━━━━━━━━━━━\u001b[0m\u001b[37m\u001b[0m \u001b[1m0s\u001b[0m 31ms/step\n",
            "[[[2.73630843e-02 2.23967824e-02 8.50646421e-02 7.40767340e-04\n",
            "   1.71966536e-03 1.67736616e-02 9.62216465e-04 4.82972823e-02\n",
            "   5.16322590e-02 4.10648398e-02 1.46490091e-03 2.13456545e-02\n",
            "   7.70393945e-03 3.62595980e-04 1.12565607e-02 9.47936065e-03\n",
            "   2.49990990e-04 6.88935146e-02 1.84305832e-02 6.11738563e-02\n",
            "   2.90967000e-04 2.59809066e-02 2.77866988e-04 2.94792961e-04\n",
            "   1.51686799e-02 5.46972752e-02 2.17834771e-01 2.43508071e-02\n",
            "   2.18048170e-02 4.66990136e-02 1.32248262e-02 3.70802432e-02\n",
            "   3.95537558e-04 4.55232933e-02]\n",
            "  [9.99998331e-01 3.57652630e-10 1.17126611e-07 3.94732071e-16\n",
            "   5.77232969e-17 8.74051005e-12 9.24602430e-19 9.63308437e-08\n",
            "   1.10124340e-07 3.05011412e-08 1.95209847e-16 2.95354130e-10\n",
            "   3.34667736e-15 3.88117537e-16 6.17673412e-11 2.47208775e-13\n",
            "   9.41929072e-19 1.79194231e-07 2.93548380e-11 3.29473949e-07\n",
            "   2.70635381e-18 1.54566004e-09 8.51293238e-19 1.67661549e-19\n",
            "   1.01622342e-10 5.35610951e-08 5.93788798e-07 2.18599605e-09\n",
            "   9.19741505e-10 8.00614828e-08 1.03258190e-12 1.22156445e-08\n",
            "   6.29820348e-17 5.72650691e-08]\n",
            "  [1.00000000e+00 5.81428720e-16 6.51926256e-12 1.87744557e-25\n",
            "   7.41105777e-27 1.60156311e-18 9.36304535e-30 4.89908288e-12\n",
            "   6.02396388e-12 7.52206294e-13 6.31504972e-26 4.83944863e-16\n",
            "   4.88589521e-24 1.71307617e-25 4.30117408e-17 5.35946596e-21\n",
            "   1.26829724e-29 1.23105623e-11 1.15253391e-17 3.06476372e-11\n",
            "   5.33911957e-29 6.90350826e-15 8.69773811e-30 5.98618852e-31\n",
            "   8.25437578e-17 1.83270087e-12 7.25633303e-11 1.15308984e-14\n",
            "   3.15605387e-15 3.68002287e-12 5.25951710e-20 1.63337334e-13\n",
            "   8.77081901e-27 2.15603338e-12]\n",
            "  [1.00000000e+00 9.15354162e-17 1.71565767e-12 9.45671200e-27\n",
            "   3.09986995e-28 1.85296807e-19 2.74308237e-31 1.25455332e-12\n",
            "   1.57020447e-12 1.73981828e-13 3.02884859e-27 7.63477779e-17\n",
            "   2.91268499e-25 8.48897919e-27 6.02519806e-18 4.62926652e-22\n",
            "   3.87708224e-31 3.31293825e-12 1.50717757e-18 8.55272016e-12\n",
            "   1.73152688e-30 1.26054056e-15 2.54414711e-31 1.51690302e-32\n",
            "   1.17240874e-17 4.46040828e-13 2.14136677e-11 2.15040341e-15\n",
            "   5.48479721e-16 9.28438099e-13 5.14923486e-21 3.46460328e-14\n",
            "   3.67478893e-28 5.31477802e-13]\n",
            "  [1.00000000e+00 7.17910782e-17 1.43831128e-12 6.38493077e-27\n",
            "   2.04255993e-28 1.39534164e-19 1.72513729e-31 1.04880048e-12\n",
            "   1.31515686e-12 1.43494835e-13 2.03161188e-27 5.98926872e-17\n",
            "   2.01006011e-25 5.72075111e-27 4.65337278e-18 3.35576027e-22\n",
            "   2.45127835e-31 2.78651928e-12 1.15303901e-18 7.23008025e-12\n",
            "   1.10310534e-30 1.00773934e-15 1.60052642e-31 9.35635463e-33\n",
            "   9.07295371e-18 3.70325027e-13 1.82203627e-11 1.72394752e-15\n",
            "   4.35890487e-16 7.74291872e-13 3.79252294e-21 2.82596890e-14\n",
            "   2.42251148e-28 4.41952193e-13]\n",
            "  [1.00000000e+00 6.94648147e-17 1.40430690e-12 6.05373823e-27\n",
            "   1.93023079e-28 1.34270620e-19 1.61998603e-31 1.02363387e-12\n",
            "   1.28390983e-12 1.39794575e-13 1.92453365e-27 5.79539612e-17\n",
            "   1.91145361e-25 5.42262486e-27 4.49318553e-18 3.21253721e-22\n",
            "   2.30351871e-31 2.72187611e-12 1.11189969e-18 7.06720403e-12\n",
            "   1.03767986e-30 9.77610382e-16 1.50305091e-31 8.76283284e-33\n",
            "   8.76300004e-18 3.61099144e-13 1.78255015e-11 1.67303745e-15\n",
            "   4.22526266e-16 7.55455811e-13 3.63845126e-21 2.74895666e-14\n",
            "   2.28945283e-28 4.31031513e-13]\n",
            "  [1.00000000e+00 6.91544102e-17 1.39975282e-12 6.01004235e-27\n",
            "   1.91545072e-28 1.33570734e-19 1.60619019e-31 1.02026178e-12\n",
            "   1.27972177e-12 1.39299000e-13 1.91041658e-27 5.76954374e-17\n",
            "   1.89842446e-25 5.38329968e-27 4.47184551e-18 3.19354977e-22\n",
            "   2.28414563e-31 2.71320965e-12 1.10642459e-18 7.04536082e-12\n",
            "   1.02909405e-30 9.73587293e-16 1.49028480e-31 8.68515911e-33\n",
            "   8.72171380e-18 3.59863587e-13 1.77725421e-11 1.66623525e-15\n",
            "   4.20740985e-16 7.52931192e-13 3.61800843e-21 2.73864692e-14\n",
            "   2.27193120e-28 4.29568165e-13]\n",
            "  [1.00000000e+00 6.91124754e-17 1.39913623e-12 6.00413013e-27\n",
            "   1.91344968e-28 1.33475996e-19 1.60432856e-31 1.01980447e-12\n",
            "   1.27915560e-12 1.39232050e-13 1.90850817e-27 5.76604510e-17\n",
            "   1.89666555e-25 5.37800414e-27 4.46896361e-18 3.19098023e-22\n",
            "   2.28151581e-31 2.71204044e-12 1.10568209e-18 7.04240442e-12\n",
            "   1.02793266e-30 9.73041592e-16 1.48854625e-31 8.67463036e-33\n",
            "   8.71609310e-18 3.59696160e-13 1.77653899e-11 1.66531389e-15\n",
            "   4.20500295e-16 7.52589451e-13 3.61523528e-21 2.73725270e-14\n",
            "   2.26956616e-28 4.29370759e-13]\n",
            "  [1.00000000e+00 6.91066785e-17 1.39905091e-12 6.00330583e-27\n",
            "   1.91317957e-28 1.33462761e-19 1.60407160e-31 1.01974234e-12\n",
            "   1.27907754e-12 1.39222767e-13 1.90824606e-27 5.76556137e-17\n",
            "   1.89641952e-25 5.37726574e-27 4.46857153e-18 3.19062732e-22\n",
            "   2.28116763e-31 2.71187998e-12 1.10558086e-18 7.04198852e-12\n",
            "   1.02776800e-30 9.72967265e-16 1.48830774e-31 8.67324033e-33\n",
            "   8.71532796e-18 3.59672822e-13 1.77643750e-11 1.66518673e-15\n",
            "   4.20466573e-16 7.52542126e-13 3.61484955e-21 2.73706466e-14\n",
            "   2.26923731e-28 4.29342895e-13]\n",
            "  [1.00000000e+00 6.91058845e-17 1.39904017e-12 6.00321454e-27\n",
            "   1.91313587e-28 1.33461236e-19 1.60403480e-31 1.01973258e-12\n",
            "   1.27906540e-12 1.39221425e-13 1.90820966e-27 5.76549519e-17\n",
            "   1.89639055e-25 5.37716289e-27 4.46852025e-18 3.19056649e-22\n",
            "   2.28111544e-31 2.71185938e-12 1.10556814e-18 7.04193474e-12\n",
            "   1.02775239e-30 9.72956147e-16 1.48828505e-31 8.67304197e-33\n",
            "   8.71522870e-18 3.59670057e-13 1.77642710e-11 1.66516778e-15\n",
            "   4.20461782e-16 7.52536380e-13 3.61480795e-21 2.73703332e-14\n",
            "   2.26919398e-28 4.29339642e-13]]] (1, 10, 34)\n",
            "tf.Tensor([[2 0 0 0 0 0 0 0 0 0 0 0 0 0 0 0 0 0 0 0 0 0 0 0 0 0 0 0 0 0 0 0 0 0]], shape=(1, 34), dtype=int64)\n",
            "[['say my nam', 'e']]\n",
            "say my name\n"
          ]
        }
      ],
      "source": [
        "input_string = [[\"say my nam\"]]\n",
        "\n",
        "def convert(string):\n",
        "  input_string = [i for i in string[0][0]]\n",
        "  input_string_arr = [token_to_indx[i] for i in input_string]\n",
        "  input_string_arr = pad_sequences([input_string_arr], maxlen=10, padding=\"pre\", value=0)\n",
        "  print(input_string_arr)\n",
        "  input_string_arr = tf.keras.utils.to_categorical(input_string_arr, num_classes=vocab_size)\n",
        "  return input_string_arr\n",
        "\n",
        "input_string_arr = convert(input_string)\n",
        "print(input_string_arr)\n",
        "\n",
        "y_preds = model.predict(input_string_arr)\n",
        "print(y_preds, y_preds.shape)\n",
        "\n",
        "probabilities = tf.argmax(tf.nn.softmax(y_preds), axis=1)\n",
        "print(probabilities)\n",
        "input_string[0].append(indx_to_token[int(probabilities[0][0])])\n",
        "print(input_string)\n",
        "print(\"\".join(input_string[0]))"
      ]
    },
    {
      "cell_type": "code",
      "source": [
        "input_string = [[\"say my nam\"]]\n",
        "[i for i in input_string[0][0]]"
      ],
      "metadata": {
        "colab": {
          "base_uri": "https://localhost:8080/"
        },
        "id": "OW6PFBwMsLcb",
        "outputId": "44279746-9b6f-43af-9361-e0f8e898f4c9"
      },
      "execution_count": null,
      "outputs": [
        {
          "output_type": "execute_result",
          "data": {
            "text/plain": [
              "['s', 'a', 'y', ' ', 'm', 'y', ' ', 'n', 'a', 'm']"
            ]
          },
          "metadata": {},
          "execution_count": 58
        }
      ]
    },
    {
      "cell_type": "code",
      "source": [
        "loop_string = [[\"say my nam\"]]\n",
        "arr_input = convert(loop_string)\n",
        "\n",
        "def predict_loop(string_input, arr_input, output_length):\n",
        "  for i in range(output_length):\n",
        "    print(i)\n",
        "    y_preds = model.predict(arr_input)\n",
        "    probabilities = tf.argmax(tf.nn.softmax(y_preds), axis=1)\n",
        "    string_input[0].append(indx_to_token[int(probabilities[0][0])])\n",
        "    string_input = [[\"\".join(string_input[0])]]\n",
        "    new_string = [[string_input[0][0][i + 1:]]]\n",
        "    print(new_string)\n",
        "    arr_input = convert(new_string)\n"
      ],
      "metadata": {
        "id": "C0TzLOJXek-A",
        "colab": {
          "base_uri": "https://localhost:8080/"
        },
        "outputId": "2d5812cf-5f06-47ac-b230-0c805f0516e4"
      },
      "execution_count": 160,
      "outputs": [
        {
          "output_type": "stream",
          "name": "stdout",
          "text": [
            "[[ 7 19 18 26 27 18 26 33 19 27]]\n"
          ]
        }
      ]
    },
    {
      "cell_type": "code",
      "source": [
        "predict_loop(loop_string, arr_input, 10)"
      ],
      "metadata": {
        "id": "kMrdK9Bxg12Z"
      },
      "execution_count": null,
      "outputs": []
    },
    {
      "cell_type": "code",
      "execution_count": 159,
      "metadata": {
        "colab": {
          "base_uri": "https://localhost:8080/"
        },
        "id": "2rkiQ_-V3Rdc",
        "outputId": "084cadb7-4179-4daf-9c75-d5aa45fb0fa4"
      },
      "outputs": [
        {
          "output_type": "stream",
          "name": "stdout",
          "text": [
            "\u001b[1m121/121\u001b[0m \u001b[32m━━━━━━━━━━━━━━━━━━━━\u001b[0m\u001b[37m\u001b[0m \u001b[1m1s\u001b[0m 4ms/step - accuracy: 0.9243 - loss: 0.2781\n"
          ]
        },
        {
          "output_type": "execute_result",
          "data": {
            "text/plain": [
              "[0.27825024724006653, 0.9244277477264404]"
            ]
          },
          "metadata": {},
          "execution_count": 159
        }
      ],
      "source": [
        "# Evaluating the model\n",
        "model.evaluate(X_test_cat, y_test_cat)"
      ]
    },
    {
      "cell_type": "code",
      "source": [
        "model.save(\"model_0.keras\")"
      ],
      "metadata": {
        "id": "ESIyc_glQ1Rp"
      },
      "execution_count": null,
      "outputs": []
    }
  ],
  "metadata": {
    "colab": {
      "provenance": [],
      "gpuType": "T4",
      "authorship_tag": "ABX9TyPww9bJFsKda283qScrhGj6",
      "include_colab_link": true
    },
    "kernelspec": {
      "display_name": "Python 3",
      "name": "python3"
    },
    "language_info": {
      "name": "python"
    },
    "accelerator": "GPU"
  },
  "nbformat": 4,
  "nbformat_minor": 0
}